{
  "nbformat": 4,
  "nbformat_minor": 0,
  "metadata": {
    "colab": {
      "name": "Melanie_Calero_Sanchez - AG1.ipynb",
      "version": "0.3.2",
      "provenance": [],
      "include_colab_link": true
    },
    "kernelspec": {
      "name": "python3",
      "display_name": "Python 3"
    }
  },
  "cells": [
    {
      "cell_type": "markdown",
      "metadata": {
        "id": "view-in-github",
        "colab_type": "text"
      },
      "source": [
        "<a href=\"https://colab.research.google.com/github/MCaleroSanchez/M/blob/master/Melanie_Calero_Sanchez_AG1.ipynb\" target=\"_parent\"><img src=\"https://colab.research.google.com/assets/colab-badge.svg\" alt=\"Open In Colab\"/></a>"
      ]
    },
    {
      "cell_type": "markdown",
      "metadata": {
        "id": "APRk-wlglPFy",
        "colab_type": "text"
      },
      "source": [
        "\n",
        "**Actividad Guiada 1 - AG1\n",
        "Melanie Calero Sánchez**\n",
        "\n",
        "https://colab.research.google.com/drive/1Z3rbHtdpd3IZTRA8OuegAgFJd-G-U-7J#scrollTo=APRk-wlglPFy&line=3&uniqifier=1\n",
        "\n",
        "https://github.com/MCaleroSanchez/03MAIR---Algoritmos-de-Optimizacion---2019/tree/master/AG1\n"
      ]
    },
    {
      "cell_type": "markdown",
      "metadata": {
        "id": "st0y06ETBwC4",
        "colab_type": "text"
      },
      "source": [
        "En primer lugar, vamos a implementar un decorador para medir tiempos:"
      ]
    },
    {
      "cell_type": "code",
      "metadata": {
        "id": "2k1cvfTtmGvE",
        "colab_type": "code",
        "colab": {}
      },
      "source": [
        "# \n",
        "# Decorador para medir tiempos\n",
        "# by Ricardo\n",
        "from functools import wraps\n",
        "from time import time\n",
        "\n",
        "def calcular_tiempo(f):\n",
        "    @wraps(f)\n",
        "    def cronometro(*args, **kwargs):\n",
        "        t_inicial = time()\n",
        "        salida = f(*args, **kwargs)\n",
        "        t_final = time()\n",
        "        print('Tiempo transcurrido (en segundos): {}'.format(t_final - t_inicial))\n",
        "        return salida\n",
        "    return cronometro"
      ],
      "execution_count": 0,
      "outputs": []
    },
    {
      "cell_type": "markdown",
      "metadata": {
        "id": "x27OZ37eoYvA",
        "colab_type": "text"
      },
      "source": [
        "### Ejercicio 1: Ordenar lista mediante Algoritmo divide y vencerás"
      ]
    },
    {
      "cell_type": "code",
      "metadata": {
        "id": "acdQumjzoYJk",
        "colab_type": "code",
        "colab": {}
      },
      "source": [
        "# Implementamos la lista dada: \n",
        "A = [9187, 244, 4054, 9222, 8373, 4993, 5265, 5470, 4519, 7182, 2035, 3506, 4337, 7580, 2554, 2824, 8357, 4447, 7379]"
      ],
      "execution_count": 0,
      "outputs": []
    },
    {
      "cell_type": "code",
      "metadata": {
        "id": "CiVDdUA8pFMx",
        "colab_type": "code",
        "colab": {}
      },
      "source": [
        "# Lista unitaria para realizar los test oportunos:\n",
        "# A = [254]"
      ],
      "execution_count": 0,
      "outputs": []
    },
    {
      "cell_type": "code",
      "metadata": {
        "id": "3L_JWhKNoJ8i",
        "colab_type": "code",
        "colab": {}
      },
      "source": [
        "# Ejercicio 1: Quick sort\n",
        "\n",
        "\n",
        "def quick_sort(A):\n",
        "  if len(A)<=1:\n",
        "    return A\n",
        "  if len(A)==2:\n",
        "    return [min(A),max(A)]\n",
        "  \n",
        "  pivote = (A[0] + A[1] + A[2])/3\n",
        "  \n",
        "  IZQ = []\n",
        "  DER = []\n",
        "  for n in A:\n",
        "    if n < pivote:\n",
        "      IZQ.append(n)\n",
        "    else:\n",
        "      DER.append(n)\n",
        "      \n",
        "  return quick_sort(IZQ) + quick_sort(DER)\n",
        "  # El return propuesto original:\n",
        "  # return list(quick_sort(IZQ)) + list(quick_sort(DER))\n",
        "  \n",
        "\n",
        "\n",
        "@calcular_tiempo\n",
        "def ordenar(A):\n",
        "  print(quick_sort(A))\n",
        "  \n"
      ],
      "execution_count": 0,
      "outputs": []
    },
    {
      "cell_type": "code",
      "metadata": {
        "id": "3ySsP5PJpHsv",
        "colab_type": "code",
        "outputId": "3bae93e7-8cfc-4b66-88ba-bb27236e3108",
        "colab": {
          "base_uri": "https://localhost:8080/",
          "height": 51
        }
      },
      "source": [
        "# Comprobamos el funcionamiento\n",
        "ordenar(A)"
      ],
      "execution_count": 5,
      "outputs": [
        {
          "output_type": "stream",
          "text": [
            "[244, 2035, 2554, 2824, 3506, 4054, 4337, 4447, 4519, 4993, 5265, 5470, 7182, 7379, 7580, 8357, 8373, 9187, 9222]\n",
            "Tiempo transcurrido (en segundos): 0.0011935234069824219\n"
          ],
          "name": "stdout"
        }
      ]
    },
    {
      "cell_type": "code",
      "metadata": {
        "id": "Ywq5EFhFv3kj",
        "colab_type": "code",
        "colab": {}
      },
      "source": [
        "# Creamos una mayor lista\n",
        "\n",
        "import random\n",
        "B = list(map(lambda x: random.randrange(1,10000),range(1,500)))"
      ],
      "execution_count": 0,
      "outputs": []
    },
    {
      "cell_type": "code",
      "metadata": {
        "id": "2VaEp-X3wrnN",
        "colab_type": "code",
        "outputId": "4be999f9-511a-4862-ae6f-f12f56a26c01",
        "colab": {
          "base_uri": "https://localhost:8080/",
          "height": 71
        }
      },
      "source": [
        "# Realizamos la medición de tiempos con una lista mayor\n",
        "ordenar(B)"
      ],
      "execution_count": 7,
      "outputs": [
        {
          "output_type": "stream",
          "text": [
            "[4, 8, 9, 34, 40, 87, 88, 99, 108, 139, 152, 154, 186, 187, 192, 227, 234, 247, 268, 270, 294, 332, 332, 334, 352, 355, 372, 417, 462, 526, 527, 561, 612, 631, 631, 651, 656, 699, 708, 715, 790, 866, 871, 872, 873, 887, 919, 927, 940, 967, 977, 1013, 1019, 1028, 1038, 1109, 1134, 1153, 1167, 1171, 1217, 1237, 1321, 1330, 1350, 1373, 1380, 1381, 1417, 1466, 1466, 1508, 1516, 1527, 1534, 1535, 1535, 1541, 1549, 1554, 1613, 1643, 1644, 1691, 1693, 1697, 1709, 1717, 1743, 1762, 1768, 1800, 1810, 1816, 1847, 1864, 1873, 1928, 1948, 1955, 1959, 1963, 2031, 2057, 2069, 2091, 2096, 2110, 2123, 2125, 2139, 2141, 2152, 2175, 2180, 2186, 2232, 2290, 2300, 2353, 2355, 2358, 2387, 2390, 2395, 2421, 2474, 2492, 2533, 2535, 2588, 2596, 2598, 2684, 2723, 2736, 2754, 2778, 2778, 2787, 2792, 2796, 2817, 2861, 2867, 2889, 2900, 2915, 2945, 2978, 2992, 3009, 3015, 3031, 3044, 3058, 3087, 3094, 3113, 3140, 3145, 3161, 3179, 3180, 3215, 3235, 3246, 3275, 3276, 3330, 3358, 3384, 3388, 3406, 3422, 3459, 3473, 3489, 3520, 3530, 3564, 3600, 3625, 3629, 3649, 3665, 3686, 3695, 3699, 3712, 3764, 3766, 3767, 3771, 3781, 3835, 3879, 3886, 3894, 3920, 4004, 4031, 4033, 4047, 4056, 4071, 4100, 4122, 4152, 4162, 4164, 4165, 4183, 4205, 4214, 4301, 4306, 4307, 4314, 4327, 4353, 4373, 4375, 4395, 4408, 4414, 4433, 4485, 4486, 4498, 4508, 4518, 4524, 4606, 4654, 4655, 4674, 4694, 4703, 4755, 4759, 4762, 4765, 4766, 4791, 4850, 4869, 4873, 4886, 4892, 4898, 4900, 4935, 4937, 4938, 4950, 4969, 4979, 4996, 5057, 5060, 5063, 5079, 5085, 5095, 5241, 5248, 5270, 5297, 5315, 5325, 5356, 5372, 5417, 5506, 5514, 5525, 5549, 5587, 5608, 5609, 5633, 5637, 5650, 5653, 5692, 5722, 5762, 5804, 5819, 5843, 5850, 5861, 5926, 5927, 5943, 6005, 6018, 6020, 6023, 6036, 6060, 6072, 6073, 6082, 6083, 6095, 6149, 6154, 6209, 6214, 6221, 6239, 6269, 6280, 6349, 6349, 6353, 6358, 6371, 6375, 6413, 6416, 6435, 6438, 6440, 6519, 6553, 6580, 6599, 6617, 6668, 6672, 6677, 6700, 6715, 6719, 6722, 6724, 6735, 6793, 6868, 6880, 6881, 6882, 6906, 6927, 6970, 7015, 7046, 7103, 7113, 7125, 7138, 7190, 7239, 7244, 7251, 7254, 7282, 7285, 7351, 7366, 7379, 7383, 7415, 7447, 7456, 7481, 7569, 7603, 7608, 7641, 7673, 7706, 7734, 7774, 7783, 7793, 7796, 7797, 7855, 7881, 7886, 7890, 7915, 7922, 7930, 7943, 7944, 7973, 7993, 8008, 8014, 8035, 8040, 8053, 8093, 8099, 8113, 8127, 8129, 8136, 8136, 8202, 8219, 8248, 8260, 8267, 8314, 8337, 8366, 8372, 8396, 8410, 8423, 8445, 8446, 8460, 8545, 8563, 8564, 8574, 8585, 8586, 8596, 8615, 8640, 8652, 8655, 8656, 8668, 8697, 8699, 8729, 8733, 8735, 8741, 8747, 8775, 8812, 8822, 8845, 8863, 8887, 8913, 8934, 8951, 8951, 8987, 9013, 9016, 9030, 9061, 9074, 9111, 9148, 9149, 9151, 9181, 9197, 9208, 9211, 9228, 9250, 9252, 9264, 9268, 9289, 9294, 9398, 9409, 9414, 9438, 9441, 9472, 9523, 9527, 9540, 9540, 9565, 9578, 9603, 9675, 9688, 9707, 9723, 9734, 9773, 9798, 9828, 9880, 9886, 9895, 9912, 9923, 9932, 9938, 9943]\n",
            "Tiempo transcurrido (en segundos): 0.0023200511932373047\n"
          ],
          "name": "stdout"
        }
      ]
    },
    {
      "cell_type": "markdown",
      "metadata": {
        "id": "ZH_9XyoyK1lT",
        "colab_type": "text"
      },
      "source": [
        "Hasta aquí nuestro ejercicio. A continuación, vamos a implementar\n",
        "un nuevo algoritmo y a comprobar el tiempo de ejecución."
      ]
    },
    {
      "cell_type": "code",
      "metadata": {
        "id": "n-HE-rcMw6em",
        "colab_type": "code",
        "colab": {}
      },
      "source": [
        "# Añadimos otro modelo de ordenación y estudiamos la comparativa de tiempos\n",
        "\n",
        "@calcular_tiempo\n",
        "def bubbleSort(arr):\n",
        "  n = len(arr)\n",
        "  for i in range(n):\n",
        "    for j in range(0,n-i-1):\n",
        "      if arr[j]> arr[j+1]:\n",
        "        arr[j],arr[j+1] = arr[j+1],arr[j]\n",
        "  return A"
      ],
      "execution_count": 0,
      "outputs": []
    },
    {
      "cell_type": "code",
      "metadata": {
        "id": "sNwkuejbyi3q",
        "colab_type": "code",
        "outputId": "b5691ed0-c774-449e-dec3-2b2c82279e87",
        "colab": {
          "base_uri": "https://localhost:8080/",
          "height": 357
        }
      },
      "source": [
        "# Lo aplicamos en la lista A\n",
        "bubbleSort(A)"
      ],
      "execution_count": 9,
      "outputs": [
        {
          "output_type": "stream",
          "text": [
            "Tiempo transcurrido (en segundos): 3.2901763916015625e-05\n"
          ],
          "name": "stdout"
        },
        {
          "output_type": "execute_result",
          "data": {
            "text/plain": [
              "[244,\n",
              " 2035,\n",
              " 2554,\n",
              " 2824,\n",
              " 3506,\n",
              " 4054,\n",
              " 4337,\n",
              " 4447,\n",
              " 4519,\n",
              " 4993,\n",
              " 5265,\n",
              " 5470,\n",
              " 7182,\n",
              " 7379,\n",
              " 7580,\n",
              " 8357,\n",
              " 8373,\n",
              " 9187,\n",
              " 9222]"
            ]
          },
          "metadata": {
            "tags": []
          },
          "execution_count": 9
        }
      ]
    },
    {
      "cell_type": "code",
      "metadata": {
        "id": "whC0PJaiywfg",
        "colab_type": "code",
        "outputId": "dc6ef7ff-d7ba-4d10-e32a-83763a4f91fc",
        "colab": {
          "base_uri": "https://localhost:8080/",
          "height": 357
        }
      },
      "source": [
        "# Comprobación con la lista B\n",
        "bubbleSort(B)"
      ],
      "execution_count": 10,
      "outputs": [
        {
          "output_type": "stream",
          "text": [
            "Tiempo transcurrido (en segundos): 0.026098012924194336\n"
          ],
          "name": "stdout"
        },
        {
          "output_type": "execute_result",
          "data": {
            "text/plain": [
              "[244,\n",
              " 2035,\n",
              " 2554,\n",
              " 2824,\n",
              " 3506,\n",
              " 4054,\n",
              " 4337,\n",
              " 4447,\n",
              " 4519,\n",
              " 4993,\n",
              " 5265,\n",
              " 5470,\n",
              " 7182,\n",
              " 7379,\n",
              " 7580,\n",
              " 8357,\n",
              " 8373,\n",
              " 9187,\n",
              " 9222]"
            ]
          },
          "metadata": {
            "tags": []
          },
          "execution_count": 10
        }
      ]
    },
    {
      "cell_type": "markdown",
      "metadata": {
        "id": "rAv6HqdVTRpf",
        "colab_type": "text"
      },
      "source": [
        "Realizamos un cambio en la partición."
      ]
    },
    {
      "cell_type": "code",
      "metadata": {
        "id": "mlYj2Zof5Hoc",
        "colab_type": "code",
        "colab": {}
      },
      "source": [
        "# Python Quicksort Sort \n",
        "  \n",
        "# Partición con nuevo pivot\n",
        "def partition(arr,low,high): \n",
        "    i = ( low-1 )          \n",
        "    pivot = arr[high]     # pivot \n",
        "  \n",
        "    for j in range(low , high): \n",
        "  \n",
        "        # Elementos menor pivot\n",
        "        if   arr[j] <= pivot: \n",
        "          \n",
        "            \n",
        "            i = i+1 \n",
        "            arr[i],arr[j] = arr[j],arr[i] \n",
        "  \n",
        "    arr[i+1],arr[high] = arr[high],arr[i+1] \n",
        "    return ( i+1 ) \n",
        "  \n",
        "\n",
        "# arr[] --> Array a ordenar, \n",
        "# low  --> Start index, \n",
        "# high  --> End index \n",
        "  \n",
        "# Función Quick sort\n",
        "\n",
        "\n",
        "def quickSort(arr,low,high): \n",
        "    \n",
        "    if low < high: \n",
        "  \n",
        "        pi = partition(arr,low,high) \n",
        "        quickSort(arr, low, pi-1) \n",
        "        quickSort(arr, pi+1, high) "
      ],
      "execution_count": 0,
      "outputs": []
    },
    {
      "cell_type": "code",
      "metadata": {
        "id": "-9l3jtQ25H1u",
        "colab_type": "code",
        "outputId": "d467f983-713f-4bc5-aa45-fa74f33b6194",
        "colab": {
          "base_uri": "https://localhost:8080/",
          "height": 1000
        }
      },
      "source": [
        "# Prueba con B \n",
        "\n",
        "\n",
        "n = len(B)\n",
        "\n",
        "quickSort(B,0,n-1) \n",
        "print (\"Sorted array is:\") \n",
        "for i in range(n): \n",
        "    print (\"%d\" %B[i]), "
      ],
      "execution_count": 21,
      "outputs": [
        {
          "output_type": "stream",
          "text": [
            "Sorted array is:\n",
            "4\n",
            "8\n",
            "9\n",
            "34\n",
            "40\n",
            "87\n",
            "88\n",
            "99\n",
            "108\n",
            "139\n",
            "152\n",
            "154\n",
            "186\n",
            "187\n",
            "192\n",
            "227\n",
            "234\n",
            "247\n",
            "268\n",
            "270\n",
            "294\n",
            "332\n",
            "332\n",
            "334\n",
            "352\n",
            "355\n",
            "372\n",
            "417\n",
            "462\n",
            "526\n",
            "527\n",
            "561\n",
            "612\n",
            "631\n",
            "631\n",
            "651\n",
            "656\n",
            "699\n",
            "708\n",
            "715\n",
            "790\n",
            "866\n",
            "871\n",
            "872\n",
            "873\n",
            "887\n",
            "919\n",
            "927\n",
            "940\n",
            "967\n",
            "977\n",
            "1013\n",
            "1019\n",
            "1028\n",
            "1038\n",
            "1109\n",
            "1134\n",
            "1153\n",
            "1167\n",
            "1171\n",
            "1217\n",
            "1237\n",
            "1321\n",
            "1330\n",
            "1350\n",
            "1373\n",
            "1380\n",
            "1381\n",
            "1417\n",
            "1466\n",
            "1466\n",
            "1508\n",
            "1516\n",
            "1527\n",
            "1534\n",
            "1535\n",
            "1535\n",
            "1541\n",
            "1549\n",
            "1554\n",
            "1613\n",
            "1643\n",
            "1644\n",
            "1691\n",
            "1693\n",
            "1697\n",
            "1709\n",
            "1717\n",
            "1743\n",
            "1762\n",
            "1768\n",
            "1800\n",
            "1810\n",
            "1816\n",
            "1847\n",
            "1864\n",
            "1873\n",
            "1928\n",
            "1948\n",
            "1955\n",
            "1959\n",
            "1963\n",
            "2031\n",
            "2057\n",
            "2069\n",
            "2091\n",
            "2096\n",
            "2110\n",
            "2123\n",
            "2125\n",
            "2139\n",
            "2141\n",
            "2152\n",
            "2175\n",
            "2180\n",
            "2186\n",
            "2232\n",
            "2290\n",
            "2300\n",
            "2353\n",
            "2355\n",
            "2358\n",
            "2387\n",
            "2390\n",
            "2395\n",
            "2421\n",
            "2474\n",
            "2492\n",
            "2533\n",
            "2535\n",
            "2588\n",
            "2596\n",
            "2598\n",
            "2684\n",
            "2723\n",
            "2736\n",
            "2754\n",
            "2778\n",
            "2778\n",
            "2787\n",
            "2792\n",
            "2796\n",
            "2817\n",
            "2861\n",
            "2867\n",
            "2889\n",
            "2900\n",
            "2915\n",
            "2945\n",
            "2978\n",
            "2992\n",
            "3009\n",
            "3015\n",
            "3031\n",
            "3044\n",
            "3058\n",
            "3087\n",
            "3094\n",
            "3113\n",
            "3140\n",
            "3145\n",
            "3161\n",
            "3179\n",
            "3180\n",
            "3215\n",
            "3235\n",
            "3246\n",
            "3275\n",
            "3276\n",
            "3330\n",
            "3358\n",
            "3384\n",
            "3388\n",
            "3406\n",
            "3422\n",
            "3459\n",
            "3473\n",
            "3489\n",
            "3520\n",
            "3530\n",
            "3564\n",
            "3600\n",
            "3625\n",
            "3629\n",
            "3649\n",
            "3665\n",
            "3686\n",
            "3695\n",
            "3699\n",
            "3712\n",
            "3764\n",
            "3766\n",
            "3767\n",
            "3771\n",
            "3781\n",
            "3835\n",
            "3879\n",
            "3886\n",
            "3894\n",
            "3920\n",
            "4004\n",
            "4031\n",
            "4033\n",
            "4047\n",
            "4056\n",
            "4071\n",
            "4100\n",
            "4122\n",
            "4152\n",
            "4162\n",
            "4164\n",
            "4165\n",
            "4183\n",
            "4205\n",
            "4214\n",
            "4301\n",
            "4306\n",
            "4307\n",
            "4314\n",
            "4327\n",
            "4353\n",
            "4373\n",
            "4375\n",
            "4395\n",
            "4408\n",
            "4414\n",
            "4433\n",
            "4485\n",
            "4486\n",
            "4498\n",
            "4508\n",
            "4518\n",
            "4524\n",
            "4606\n",
            "4654\n",
            "4655\n",
            "4674\n",
            "4694\n",
            "4703\n",
            "4755\n",
            "4759\n",
            "4762\n",
            "4765\n",
            "4766\n",
            "4791\n",
            "4850\n",
            "4869\n",
            "4873\n",
            "4886\n",
            "4892\n",
            "4898\n",
            "4900\n",
            "4935\n",
            "4937\n",
            "4938\n",
            "4950\n",
            "4969\n",
            "4979\n",
            "4996\n",
            "5057\n",
            "5060\n",
            "5063\n",
            "5079\n",
            "5085\n",
            "5095\n",
            "5241\n",
            "5248\n",
            "5270\n",
            "5297\n",
            "5315\n",
            "5325\n",
            "5356\n",
            "5372\n",
            "5417\n",
            "5506\n",
            "5514\n",
            "5525\n",
            "5549\n",
            "5587\n",
            "5608\n",
            "5609\n",
            "5633\n",
            "5637\n",
            "5650\n",
            "5653\n",
            "5692\n",
            "5722\n",
            "5762\n",
            "5804\n",
            "5819\n",
            "5843\n",
            "5850\n",
            "5861\n",
            "5926\n",
            "5927\n",
            "5943\n",
            "6005\n",
            "6018\n",
            "6020\n",
            "6023\n",
            "6036\n",
            "6060\n",
            "6072\n",
            "6073\n",
            "6082\n",
            "6083\n",
            "6095\n",
            "6149\n",
            "6154\n",
            "6209\n",
            "6214\n",
            "6221\n",
            "6239\n",
            "6269\n",
            "6280\n",
            "6349\n",
            "6349\n",
            "6353\n",
            "6358\n",
            "6371\n",
            "6375\n",
            "6413\n",
            "6416\n",
            "6435\n",
            "6438\n",
            "6440\n",
            "6519\n",
            "6553\n",
            "6580\n",
            "6599\n",
            "6617\n",
            "6668\n",
            "6672\n",
            "6677\n",
            "6700\n",
            "6715\n",
            "6719\n",
            "6722\n",
            "6724\n",
            "6735\n",
            "6793\n",
            "6868\n",
            "6880\n",
            "6881\n",
            "6882\n",
            "6906\n",
            "6927\n",
            "6970\n",
            "7015\n",
            "7046\n",
            "7103\n",
            "7113\n",
            "7125\n",
            "7138\n",
            "7190\n",
            "7239\n",
            "7244\n",
            "7251\n",
            "7254\n",
            "7282\n",
            "7285\n",
            "7351\n",
            "7366\n",
            "7379\n",
            "7383\n",
            "7415\n",
            "7447\n",
            "7456\n",
            "7481\n",
            "7569\n",
            "7603\n",
            "7608\n",
            "7641\n",
            "7673\n",
            "7706\n",
            "7734\n",
            "7774\n",
            "7783\n",
            "7793\n",
            "7796\n",
            "7797\n",
            "7855\n",
            "7881\n",
            "7886\n",
            "7890\n",
            "7915\n",
            "7922\n",
            "7930\n",
            "7943\n",
            "7944\n",
            "7973\n",
            "7993\n",
            "8008\n",
            "8014\n",
            "8035\n",
            "8040\n",
            "8053\n",
            "8093\n",
            "8099\n",
            "8113\n",
            "8127\n",
            "8129\n",
            "8136\n",
            "8136\n",
            "8202\n",
            "8219\n",
            "8248\n",
            "8260\n",
            "8267\n",
            "8314\n",
            "8337\n",
            "8366\n",
            "8372\n",
            "8396\n",
            "8410\n",
            "8423\n",
            "8445\n",
            "8446\n",
            "8460\n",
            "8545\n",
            "8563\n",
            "8564\n",
            "8574\n",
            "8585\n",
            "8586\n",
            "8596\n",
            "8615\n",
            "8640\n",
            "8652\n",
            "8655\n",
            "8656\n",
            "8668\n",
            "8697\n",
            "8699\n",
            "8729\n",
            "8733\n",
            "8735\n",
            "8741\n",
            "8747\n",
            "8775\n",
            "8812\n",
            "8822\n",
            "8845\n",
            "8863\n",
            "8887\n",
            "8913\n",
            "8934\n",
            "8951\n",
            "8951\n",
            "8987\n",
            "9013\n",
            "9016\n",
            "9030\n",
            "9061\n",
            "9074\n",
            "9111\n",
            "9148\n",
            "9149\n",
            "9151\n",
            "9181\n",
            "9197\n",
            "9208\n",
            "9211\n",
            "9228\n",
            "9250\n",
            "9252\n",
            "9264\n",
            "9268\n",
            "9289\n",
            "9294\n",
            "9398\n",
            "9409\n",
            "9414\n",
            "9438\n",
            "9441\n",
            "9472\n",
            "9523\n",
            "9527\n",
            "9540\n",
            "9540\n",
            "9565\n",
            "9578\n",
            "9603\n",
            "9675\n",
            "9688\n",
            "9707\n",
            "9723\n",
            "9734\n",
            "9773\n",
            "9798\n",
            "9828\n",
            "9880\n",
            "9886\n",
            "9895\n",
            "9912\n",
            "9923\n",
            "9932\n",
            "9938\n",
            "9943\n"
          ],
          "name": "stdout"
        }
      ]
    },
    {
      "cell_type": "code",
      "metadata": {
        "id": "6SMptu1m5H_T",
        "colab_type": "code",
        "colab": {}
      },
      "source": [
        ""
      ],
      "execution_count": 0,
      "outputs": []
    },
    {
      "cell_type": "markdown",
      "metadata": {
        "id": "80L1_Z1azD3J",
        "colab_type": "text"
      },
      "source": [
        "### Ejercicio 2: Cambio de monedas mediante Algoritmo Voraz"
      ]
    },
    {
      "cell_type": "markdown",
      "metadata": {
        "id": "aeNMgHvBVxBT",
        "colab_type": "text"
      },
      "source": [
        "En este ejercicio vamos a realizar un algoritmo que devuelva el cambio."
      ]
    },
    {
      "cell_type": "code",
      "metadata": {
        "id": "aVvlS7Kqy3Xv",
        "colab_type": "code",
        "colab": {}
      },
      "source": [
        "# Definimos sistema de monedas:\n",
        "SISTEMA= [25, 10, 5, 1]\n",
        "\n",
        "@calcular_tiempo\n",
        "def cambio_monedas(CANTIDAD,SISTEMA):\n",
        "  SOLUCION = [0 for i in range(len(SISTEMA)) ]\n",
        "  VALOR_ACUMULADO = 0\n",
        "  \n",
        "  for i in range(len(SISTEMA)):\n",
        "    monedas = int((CANTIDAD - VALOR_ACUMULADO)/SISTEMA[i])\n",
        "    SOLUCION[i] = monedas\n",
        "    VALOR_ACUMULADO = VALOR_ACUMULADO + monedas*SISTEMA[i]\n",
        "    \n",
        "    if VALOR_ACUMULADO == CANTIDAD:\n",
        "      return SOLUCION\n",
        "  \n",
        "\n"
      ],
      "execution_count": 0,
      "outputs": []
    },
    {
      "cell_type": "code",
      "metadata": {
        "id": "d1K6Z5xu3PMy",
        "colab_type": "code",
        "outputId": "5b1eb80e-063f-4fc8-fa62-0f11fb4d66f1",
        "colab": {
          "base_uri": "https://localhost:8080/",
          "height": 51
        }
      },
      "source": [
        "# Ejemplo\n",
        "\n",
        "print(cambio_monedas(23,SISTEMA))"
      ],
      "execution_count": 23,
      "outputs": [
        {
          "output_type": "stream",
          "text": [
            "Tiempo transcurrido (en segundos): 9.5367431640625e-06\n",
            "[0, 2, 0, 3]\n"
          ],
          "name": "stdout"
        }
      ]
    },
    {
      "cell_type": "code",
      "metadata": {
        "id": "DzoUprOr3VxL",
        "colab_type": "code",
        "outputId": "da62fc1d-08e5-45aa-d2a0-caace1114315",
        "colab": {
          "base_uri": "https://localhost:8080/",
          "height": 51
        }
      },
      "source": [
        "print(cambio_monedas(123,SISTEMA))"
      ],
      "execution_count": 24,
      "outputs": [
        {
          "output_type": "stream",
          "text": [
            "Tiempo transcurrido (en segundos): 4.0531158447265625e-05\n",
            "[4, 2, 0, 3]\n"
          ],
          "name": "stdout"
        }
      ]
    },
    {
      "cell_type": "markdown",
      "metadata": {
        "id": "v83DQ3n9WKWL",
        "colab_type": "text"
      },
      "source": [
        "Implementamos otro algoritmo para el mismo ejercicio utilizando divmod."
      ]
    },
    {
      "cell_type": "code",
      "metadata": {
        "id": "swG-lUyE8y0g",
        "colab_type": "code",
        "outputId": "c65ff975-89f9-4a64-a030-b8f8d58d73fc",
        "colab": {
          "base_uri": "https://localhost:8080/",
          "height": 136
        }
      },
      "source": [
        "\n",
        "billetes=(500, 200, 100, 50, 20, 10, 5, 2,1)\n",
        "monedas={}\n",
        "valor = int( input(\"Euros: \"))\n",
        "\n",
        "for b in billetes:\n",
        "  monedas[b],valor=divmod(valor,b)\n",
        "else:\n",
        "  monedas[\"céntimos\"]=valor\n",
        "\n",
        "for b in billetes:\n",
        "  if monedas[b]>0:\n",
        "    print ('%d de %d' % (monedas[b],b))\n",
        "else:\n",
        "  print ('%d céntimos' % monedas[\"céntimos\"])"
      ],
      "execution_count": 36,
      "outputs": [
        {
          "output_type": "stream",
          "text": [
            "Euros: 1860\n",
            "3 de 500\n",
            "1 de 200\n",
            "1 de 100\n",
            "1 de 50\n",
            "1 de 10\n",
            "0 céntimos\n"
          ],
          "name": "stdout"
        }
      ]
    },
    {
      "cell_type": "code",
      "metadata": {
        "id": "lzvRej8D8y6F",
        "colab_type": "code",
        "colab": {}
      },
      "source": [
        ""
      ],
      "execution_count": 0,
      "outputs": []
    },
    {
      "cell_type": "markdown",
      "metadata": {
        "id": "PIRBoTe64mMG",
        "colab_type": "text"
      },
      "source": [
        "### Ejercicio 3: Algoritmo vuelta atrás para resolver el problema de las N reinas"
      ]
    },
    {
      "cell_type": "markdown",
      "metadata": {
        "id": "euttHQH_XfIC",
        "colab_type": "text"
      },
      "source": [
        "Resolvemos el problema de las N-reinas."
      ]
    },
    {
      "cell_type": "code",
      "metadata": {
        "id": "JemXGUCN3sCa",
        "colab_type": "code",
        "colab": {}
      },
      "source": [
        "\n",
        "def es_prometedora(solucion,etapa):\n",
        "  for i in range(etapa+1):\n",
        "    if solucion.count(solucion[i]) >1:\n",
        "      return False\n",
        "    for j in range(i+1,etapa+1):\n",
        "      if abs(i-j) == abs(solucion[i]-solucion[j]):\n",
        "        return False\n",
        "  return True\n",
        "\n",
        "\n",
        "def reinas(N, solucion=[], etapa=0):\n",
        "  \n",
        "  if len(solucion) == 0:\n",
        "      solucion=[0 for i in range(N)]\n",
        "      \n",
        "  for i in range(1, N+1):\n",
        "      solucion[etapa] = i\n",
        "      \n",
        "      if es_prometedora(solucion,etapa):\n",
        "        \n",
        "        if etapa == N-1:\n",
        "          print(\"La solucion es \", solucion)\n",
        "        else:\n",
        "          reinas(N,solucion,etapa+1)\n",
        "      else:\n",
        "         None\n",
        "\n"
      ],
      "execution_count": 0,
      "outputs": []
    },
    {
      "cell_type": "code",
      "metadata": {
        "id": "xW6NK6YKDJw3",
        "colab_type": "code",
        "outputId": "c978d14d-23b5-40aa-e064-d4a604b2b6c1",
        "colab": {
          "base_uri": "https://localhost:8080/",
          "height": 85
        }
      },
      "source": [
        "reinas(8)"
      ],
      "execution_count": 44,
      "outputs": [
        {
          "output_type": "stream",
          "text": [
            "La solucion es  [4, 7, 5, 2, 6, 1, 3, 8]\n",
            "La solucion es  [5, 7, 2, 6, 3, 1, 4, 8]\n",
            "La solucion es  [6, 3, 5, 7, 1, 4, 2, 8]\n",
            "La solucion es  [6, 4, 7, 1, 3, 5, 2, 8]\n"
          ],
          "name": "stdout"
        }
      ]
    },
    {
      "cell_type": "code",
      "metadata": {
        "id": "KzjsUZRwDLb5",
        "colab_type": "code",
        "colab": {}
      },
      "source": [
        ""
      ],
      "execution_count": 0,
      "outputs": []
    },
    {
      "cell_type": "markdown",
      "metadata": {
        "id": "rnG49fJPGeIH",
        "colab_type": "text"
      },
      "source": [
        "### Ejercicio Propuesto: Encontrar los dos puntos más cercanos"
      ]
    },
    {
      "cell_type": "markdown",
      "metadata": {
        "id": "u1mZYsv4fGSd",
        "colab_type": "text"
      },
      "source": [
        "Trataremos de buscar el par de puntos más cercanos entre sí."
      ]
    },
    {
      "cell_type": "markdown",
      "metadata": {
        "id": "SoLW_9-pry1H",
        "colab_type": "text"
      },
      "source": [
        "#### Caso 1-D"
      ]
    },
    {
      "cell_type": "code",
      "metadata": {
        "id": "cIwKOeIjrsVt",
        "colab_type": "code",
        "colab": {}
      },
      "source": [
        "a= [1.2,2.9,3.1,4.0,5.7]"
      ],
      "execution_count": 0,
      "outputs": []
    },
    {
      "cell_type": "code",
      "metadata": {
        "id": "eB6396WXricX",
        "colab_type": "code",
        "colab": {}
      },
      "source": [
        "def proximo(a):\n",
        "    mindist = a[0] #declaramos distancia mínima\n",
        "    tupla = []\n",
        "    for i in range (len(a)): \n",
        "        for j in range (len(a)): #recorre toda la lista\n",
        "            if j == 0: #evitamos la comparación consigo mismo\n",
        "                j+=1\n",
        "            if j!=i: \n",
        "                p = a[i]\n",
        "                q = a[j]\n",
        "            if p > q: # evita distancia negativa\n",
        "                p, q = q, p\n",
        "                \n",
        "            if (q-p) < mindist: # busca si es la menor\n",
        "                mindist = (q-p) # guarda distancia\n",
        "                tupla = [p,q] # y guarda el par correspondiente\n",
        "                \n",
        "    return tupla"
      ],
      "execution_count": 0,
      "outputs": []
    },
    {
      "cell_type": "code",
      "metadata": {
        "id": "mLJxki1SruD2",
        "colab_type": "code",
        "outputId": "a09f65de-94a2-48b8-8d58-b18d2ca3beb8",
        "colab": {
          "base_uri": "https://localhost:8080/",
          "height": 34
        }
      },
      "source": [
        "# Comprobamos su funcionamiento\n",
        "proximo(a)"
      ],
      "execution_count": 60,
      "outputs": [
        {
          "output_type": "execute_result",
          "data": {
            "text/plain": [
              "[2.9, 3.1]"
            ]
          },
          "metadata": {
            "tags": []
          },
          "execution_count": 60
        }
      ]
    },
    {
      "cell_type": "markdown",
      "metadata": {
        "id": "UrI1H5Yaky-j",
        "colab_type": "text"
      },
      "source": [
        "#### Caso 2-D"
      ]
    },
    {
      "cell_type": "markdown",
      "metadata": {
        "id": "2GcHDlgafrBB",
        "colab_type": "text"
      },
      "source": [
        "Introducimos una lista con pares de puntos:"
      ]
    },
    {
      "cell_type": "code",
      "metadata": {
        "id": "W1i6wyIyfluL",
        "colab_type": "code",
        "colab": {}
      },
      "source": [
        "puntos = [(8.5, 10.5), (10.2, 15.1), (20.7, 11.2)]"
      ],
      "execution_count": 0,
      "outputs": []
    },
    {
      "cell_type": "markdown",
      "metadata": {
        "id": "_Bzo2zRultU8",
        "colab_type": "text"
      },
      "source": [
        "Utilizaremos la técnica Divide y Vencerás"
      ]
    },
    {
      "cell_type": "code",
      "metadata": {
        "id": "Q_3TLXt5f5Ws",
        "colab_type": "code",
        "colab": {
          "base_uri": "https://localhost:8080/",
          "height": 34
        },
        "outputId": "87a604da-e533-4470-f54c-b68577792714"
      },
      "source": [
        "import math\n",
        "\n",
        "\n",
        "# Iniciamos a infinito\n",
        "min_distance = float('infinity') \n",
        "min_pair = None \n",
        "\n",
        "# bucle \n",
        "length = len(puntos) \n",
        "for i in range(length): \n",
        "    for j in range(i+1, length): \n",
        "      point1 = puntos[i] \n",
        "      point2 = puntos[j] \n",
        "\n",
        "    if math.hypot(point1[0] - point2[0], point1[1] - point2[0]) < min_distance: \n",
        "      min_pair = [point1, point2]\n",
        "print(min_pair)"
      ],
      "execution_count": 52,
      "outputs": [
        {
          "output_type": "stream",
          "text": [
            "[(10.2, 15.1), (20.7, 11.2)]\n"
          ],
          "name": "stdout"
        }
      ]
    },
    {
      "cell_type": "code",
      "metadata": {
        "id": "EWQoUzGPjp59",
        "colab_type": "code",
        "colab": {}
      },
      "source": [
        "# Creemos una función\n",
        "\n",
        "import math\n",
        "\n",
        "def par_cercano(puntos):\n",
        "  \n",
        "  # Iniciamos distancia mínima infinito\n",
        "  # Ver wikipedia problema par más cercano\n",
        "  min_distance = float('infinity') \n",
        "  min_pair = None \n",
        "\n",
        "  # bucle \n",
        "  length = len(puntos) \n",
        "  for i in range(length): \n",
        "      for j in range(i+1, length): \n",
        "        point1 = puntos[i] \n",
        "        point2 = puntos[j] \n",
        "  \n",
        "      if math.hypot(point1[0] - point2[0], point1[1] - point2[0]) < min_distance: \n",
        "        min_pair = [point1, point2]\n",
        "  print(min_pair)\n",
        "  return"
      ],
      "execution_count": 0,
      "outputs": []
    },
    {
      "cell_type": "code",
      "metadata": {
        "id": "RNdLHkMukGbM",
        "colab_type": "code",
        "colab": {
          "base_uri": "https://localhost:8080/",
          "height": 34
        },
        "outputId": "1f187248-e3a1-4a85-c903-d00fe9c0c38c"
      },
      "source": [
        "#Comprobamos su funcionamiento\n",
        "par_cercano(puntos)"
      ],
      "execution_count": 55,
      "outputs": [
        {
          "output_type": "stream",
          "text": [
            "[(10.2, 15.1), (20.7, 11.2)]\n"
          ],
          "name": "stdout"
        }
      ]
    }
  ]
}