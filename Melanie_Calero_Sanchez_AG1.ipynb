{
  "nbformat": 4,
  "nbformat_minor": 0,
  "metadata": {
    "colab": {
      "name": "Melanie_Calero_Sanchez - AG1.ipynb",
      "version": "0.3.2",
      "provenance": [],
      "include_colab_link": true
    },
    "kernelspec": {
      "name": "python3",
      "display_name": "Python 3"
    }
  },
  "cells": [
    {
      "cell_type": "markdown",
      "metadata": {
        "id": "view-in-github",
        "colab_type": "text"
      },
      "source": [
        "<a href=\"https://colab.research.google.com/github/MCaleroSanchez/M/blob/master/Melanie_Calero_Sanchez_AG1.ipynb\" target=\"_parent\"><img src=\"https://colab.research.google.com/assets/colab-badge.svg\" alt=\"Open In Colab\"/></a>"
      ]
    },
    {
      "cell_type": "markdown",
      "metadata": {
        "id": "APRk-wlglPFy",
        "colab_type": "text"
      },
      "source": [
        "\n",
        "**Actividad Guiada 1 - AG1\n",
        "Melanie Calero Sánchez**\n",
        "\n",
        "https://colab.research.google.com/drive/1Z3rbHtdpd3IZTRA8OuegAgFJd-G-U-7J#scrollTo=APRk-wlglPFy&line=3&uniqifier=1\n",
        "\n",
        "https://github.com/MCaleroSanchez/03MAIR---Algoritmos-de-Optimizacion---2019/tree/master/AG1\n"
      ]
    },
    {
      "cell_type": "markdown",
      "metadata": {
        "id": "4Y-nWYANfVRd",
        "colab_type": "text"
      },
      "source": [
        "En esta primera actividad guiada, vamos a tratar de resolver tres tipologías de problemas:\n",
        "\n",
        "- Quick Sort\n",
        "- Cambio de Monedas\n",
        "- 4 Reinas\n",
        "\n",
        "Para ello, vamos a utilizar algunas de las técnicas vistas en clase como son el \"divide y vencerás\", \"vuelta atrás\" y \" algoritmos voraces\"."
      ]
    },
    {
      "cell_type": "markdown",
      "metadata": {
        "id": "st0y06ETBwC4",
        "colab_type": "text"
      },
      "source": [
        "En primer lugar, vamos a implementar un decorador para medir tiempos, de esta forma, tendremos una medida de la eficiencia del algoritmo implementado."
      ]
    },
    {
      "cell_type": "code",
      "metadata": {
        "id": "2k1cvfTtmGvE",
        "colab_type": "code",
        "colab": {}
      },
      "source": [
        "# \n",
        "# Decorador para medir tiempos\n",
        "# by Ricardo\n",
        "\n",
        "from functools import wraps\n",
        "from time import time\n",
        "\n",
        "def calcular_tiempo(f):\n",
        "    @wraps(f)\n",
        "    def cronometro(*args, **kwargs):\n",
        "        t_inicial = time()\n",
        "        salida = f(*args, **kwargs)\n",
        "        t_final = time()\n",
        "        print('Tiempo transcurrido (en segundos): {}'.format(t_final - t_inicial))\n",
        "        return salida\n",
        "    return cronometro"
      ],
      "execution_count": 0,
      "outputs": []
    },
    {
      "cell_type": "markdown",
      "metadata": {
        "id": "x27OZ37eoYvA",
        "colab_type": "text"
      },
      "source": [
        "### Ejercicio 1: Quick Sort\n",
        "\n",
        "Se nos solicita crear un algoritmo que ordene los valores contenidos en una lista. Para ello, vamos a emplear la técnica\n",
        "**divide y vencerás**."
      ]
    },
    {
      "cell_type": "code",
      "metadata": {
        "id": "acdQumjzoYJk",
        "colab_type": "code",
        "colab": {}
      },
      "source": [
        "# Implementamos la lista dada: \n",
        "A = [9187, 244, 4054, 9222, 8373, 4993, 5265, 5470, 4519, 7182, 2035, 3506, 4337, 7580, 2554, 2824, 8357, 4447, 7379]"
      ],
      "execution_count": 0,
      "outputs": []
    },
    {
      "cell_type": "code",
      "metadata": {
        "id": "CiVDdUA8pFMx",
        "colab_type": "code",
        "colab": {}
      },
      "source": [
        "# Lista unitaria para realizar los test oportunos:\n",
        "# A = [254]"
      ],
      "execution_count": 0,
      "outputs": []
    },
    {
      "cell_type": "markdown",
      "metadata": {
        "id": "o21n_T6Kh56k",
        "colab_type": "text"
      },
      "source": [
        "* **Algoritmo desarrollado en clase:**"
      ]
    },
    {
      "cell_type": "code",
      "metadata": {
        "id": "3L_JWhKNoJ8i",
        "colab_type": "code",
        "colab": {}
      },
      "source": [
        "# Ejercicio 1: Quick sort\n",
        "\n",
        "def quick_sort(A):\n",
        "  if len(A)<=1: # Si el tamaño de la sublista es <=1, devolvemos la misma lista\n",
        "    return A\n",
        "  if len(A)==2:\n",
        "    return [min(A),max(A)]\n",
        "  \n",
        "  pivote = (A[0] + A[1] + A[2])/3  # dividiremos la lista en dos sublistas\n",
        "  \n",
        "  IZQ = [] # Valores menores o iguales al pivote\n",
        "  DER = [] # Valores mayores la pivote\n",
        "  for n in A:\n",
        "    if n < pivote: # usamos pivote para llevar el elemento a IZQ o DER creadas anteriormente\n",
        "      IZQ.append(n)\n",
        "    else:\n",
        "      DER.append(n)\n",
        "      \n",
        "  return quick_sort(IZQ) + quick_sort(DER)\n",
        "  # El return propuesto original:\n",
        "  # return list(quick_sort(IZQ)) + list(quick_sort(DER))\n",
        "  \n",
        "\n",
        "@calcular_tiempo\n",
        "def ordenar(A):\n",
        "  print(quick_sort(A)) # Llamamos a la función quick sort\n",
        "  \n"
      ],
      "execution_count": 0,
      "outputs": []
    },
    {
      "cell_type": "code",
      "metadata": {
        "id": "3ySsP5PJpHsv",
        "colab_type": "code",
        "outputId": "fd4a2376-6f3b-43a3-8cd3-911bc858de6d",
        "colab": {
          "base_uri": "https://localhost:8080/",
          "height": 51
        }
      },
      "source": [
        "# Comprobamos el funcionamiento\n",
        "ordenar(A)"
      ],
      "execution_count": 5,
      "outputs": [
        {
          "output_type": "stream",
          "text": [
            "[244, 2035, 2554, 2824, 3506, 4054, 4337, 4447, 4519, 4993, 5265, 5470, 7182, 7379, 7580, 8357, 8373, 9187, 9222]\n",
            "Tiempo transcurrido (en segundos): 0.002531290054321289\n"
          ],
          "name": "stdout"
        }
      ]
    },
    {
      "cell_type": "code",
      "metadata": {
        "id": "Ywq5EFhFv3kj",
        "colab_type": "code",
        "colab": {}
      },
      "source": [
        "# Creamos una lista con mayor número de elementos\n",
        "\n",
        "import random\n",
        "B = list(map(lambda x: random.randrange(1,10000),range(1,500)))"
      ],
      "execution_count": 0,
      "outputs": []
    },
    {
      "cell_type": "code",
      "metadata": {
        "id": "2VaEp-X3wrnN",
        "colab_type": "code",
        "outputId": "b25bcec0-5896-4a63-9878-6fdedb4e3df5",
        "colab": {
          "base_uri": "https://localhost:8080/",
          "height": 71
        }
      },
      "source": [
        "# Realizamos la medición de tiempos con una lista mayor\n",
        "ordenar(B)"
      ],
      "execution_count": 7,
      "outputs": [
        {
          "output_type": "stream",
          "text": [
            "[3, 10, 26, 113, 121, 147, 164, 176, 184, 188, 228, 301, 375, 386, 395, 452, 460, 498, 530, 553, 579, 594, 600, 606, 626, 668, 704, 714, 783, 791, 807, 816, 830, 846, 847, 856, 879, 888, 900, 900, 923, 929, 938, 966, 998, 1012, 1068, 1084, 1131, 1141, 1163, 1175, 1202, 1215, 1273, 1304, 1315, 1317, 1319, 1368, 1380, 1478, 1487, 1506, 1551, 1551, 1555, 1582, 1597, 1606, 1622, 1625, 1643, 1695, 1701, 1713, 1718, 1763, 1808, 1810, 1811, 1815, 1823, 1842, 1850, 1903, 1930, 2002, 2008, 2017, 2021, 2032, 2063, 2077, 2085, 2095, 2102, 2133, 2202, 2228, 2230, 2263, 2270, 2270, 2276, 2286, 2293, 2310, 2347, 2357, 2363, 2383, 2396, 2402, 2411, 2426, 2510, 2522, 2563, 2573, 2604, 2609, 2668, 2668, 2675, 2679, 2690, 2694, 2720, 2797, 2804, 2807, 2820, 2849, 2892, 2896, 2902, 2912, 2937, 2969, 2973, 3009, 3010, 3029, 3033, 3034, 3052, 3070, 3073, 3109, 3118, 3147, 3158, 3181, 3207, 3235, 3243, 3290, 3322, 3338, 3340, 3379, 3411, 3430, 3435, 3453, 3464, 3469, 3490, 3549, 3559, 3637, 3667, 3668, 3720, 3743, 3892, 3901, 3920, 3938, 3969, 4005, 4008, 4020, 4041, 4055, 4067, 4081, 4113, 4118, 4128, 4157, 4187, 4187, 4220, 4257, 4284, 4320, 4341, 4349, 4367, 4368, 4376, 4379, 4388, 4390, 4392, 4397, 4405, 4422, 4430, 4441, 4450, 4453, 4458, 4481, 4483, 4489, 4538, 4554, 4647, 4676, 4678, 4707, 4743, 4744, 4795, 4799, 4821, 4832, 4856, 4866, 4878, 4886, 4894, 4914, 4982, 4985, 5006, 5010, 5029, 5037, 5079, 5091, 5107, 5115, 5120, 5151, 5182, 5194, 5222, 5234, 5241, 5261, 5290, 5320, 5332, 5358, 5382, 5387, 5406, 5434, 5483, 5497, 5502, 5526, 5614, 5629, 5630, 5670, 5672, 5684, 5698, 5722, 5730, 5741, 5764, 5807, 5836, 5845, 5857, 5866, 5923, 5928, 5965, 5972, 5973, 5993, 5994, 5994, 6040, 6060, 6103, 6133, 6159, 6177, 6180, 6191, 6206, 6222, 6242, 6356, 6361, 6373, 6398, 6458, 6459, 6503, 6508, 6528, 6532, 6550, 6565, 6603, 6614, 6615, 6622, 6668, 6712, 6713, 6739, 6754, 6756, 6763, 6775, 6782, 6786, 6799, 6820, 6827, 6835, 6855, 6867, 6870, 6924, 6957, 7004, 7005, 7017, 7032, 7062, 7120, 7143, 7170, 7204, 7224, 7266, 7290, 7294, 7313, 7313, 7345, 7401, 7420, 7508, 7515, 7524, 7535, 7537, 7541, 7582, 7591, 7632, 7639, 7642, 7697, 7700, 7700, 7704, 7782, 7811, 7872, 7875, 7886, 7898, 7908, 7929, 7950, 7960, 7977, 7987, 7990, 7993, 8006, 8013, 8016, 8017, 8041, 8054, 8056, 8073, 8084, 8118, 8148, 8165, 8190, 8193, 8205, 8247, 8284, 8352, 8372, 8401, 8408, 8408, 8426, 8509, 8528, 8530, 8541, 8564, 8582, 8610, 8616, 8639, 8640, 8645, 8648, 8648, 8671, 8682, 8686, 8687, 8692, 8731, 8748, 8748, 8763, 8764, 8777, 8777, 8807, 8832, 8832, 8848, 8897, 8898, 8908, 8924, 8949, 8959, 8962, 9019, 9025, 9025, 9029, 9049, 9053, 9061, 9067, 9072, 9079, 9123, 9133, 9136, 9146, 9156, 9165, 9215, 9219, 9220, 9260, 9268, 9323, 9341, 9379, 9397, 9398, 9404, 9404, 9410, 9450, 9473, 9486, 9508, 9542, 9547, 9567, 9584, 9595, 9619, 9653, 9658, 9671, 9708, 9718, 9744, 9746, 9757, 9762, 9785, 9810, 9818, 9840, 9880, 9889, 9931, 9966, 9991]\n",
            "Tiempo transcurrido (en segundos): 0.0028104782104492188\n"
          ],
          "name": "stdout"
        }
      ]
    },
    {
      "cell_type": "markdown",
      "metadata": {
        "id": "ZH_9XyoyK1lT",
        "colab_type": "text"
      },
      "source": [
        "A continuación, vamos a implementar\n",
        "un nuevo algoritmo más burdo, sin utilizar pivote, y a comprobar el tiempo de ejecución."
      ]
    },
    {
      "cell_type": "code",
      "metadata": {
        "id": "n-HE-rcMw6em",
        "colab_type": "code",
        "colab": {}
      },
      "source": [
        "# Añadimos otro modelo de ordenación sin utilizar pivote y analizamos la comparativa de tiempos\n",
        "\n",
        "@calcular_tiempo\n",
        "def bubbleSort(arr):\n",
        "  n = len(arr)\n",
        "  for i in range(n):\n",
        "    for j in range(0,n-i-1):\n",
        "      if arr[j]> arr[j+1]:\n",
        "        arr[j],arr[j+1] = arr[j+1],arr[j]\n",
        "  return arr"
      ],
      "execution_count": 0,
      "outputs": []
    },
    {
      "cell_type": "code",
      "metadata": {
        "id": "sNwkuejbyi3q",
        "colab_type": "code",
        "outputId": "3b84f2c9-2333-41a0-a7f0-506b3e989c47",
        "colab": {
          "base_uri": "https://localhost:8080/",
          "height": 357
        }
      },
      "source": [
        "# Lo aplicamos en la lista A\n",
        "bubbleSort(A)"
      ],
      "execution_count": 9,
      "outputs": [
        {
          "output_type": "stream",
          "text": [
            "Tiempo transcurrido (en segundos): 3.24249267578125e-05\n"
          ],
          "name": "stdout"
        },
        {
          "output_type": "execute_result",
          "data": {
            "text/plain": [
              "[244,\n",
              " 2035,\n",
              " 2554,\n",
              " 2824,\n",
              " 3506,\n",
              " 4054,\n",
              " 4337,\n",
              " 4447,\n",
              " 4519,\n",
              " 4993,\n",
              " 5265,\n",
              " 5470,\n",
              " 7182,\n",
              " 7379,\n",
              " 7580,\n",
              " 8357,\n",
              " 8373,\n",
              " 9187,\n",
              " 9222]"
            ]
          },
          "metadata": {
            "tags": []
          },
          "execution_count": 9
        }
      ]
    },
    {
      "cell_type": "markdown",
      "metadata": {
        "id": "mxxQ43Y6h2xO",
        "colab_type": "text"
      },
      "source": [
        "Vemos que para una lista pequeña mejoramos el tiempo de respuesta."
      ]
    },
    {
      "cell_type": "code",
      "metadata": {
        "id": "whC0PJaiywfg",
        "colab_type": "code",
        "outputId": "a97d7463-6527-4287-df07-b84b6c9507c2",
        "colab": {
          "base_uri": "https://localhost:8080/",
          "height": 51
        }
      },
      "source": [
        "# Comprobación con la lista B\n",
        "print(bubbleSort(B)[:5])\n",
        "\n",
        "# Imprimimos el tiempo transcurrido y los primero cinco elementos como muestra."
      ],
      "execution_count": 12,
      "outputs": [
        {
          "output_type": "stream",
          "text": [
            "Tiempo transcurrido (en segundos): 0.02523207664489746\n",
            "[3, 10, 26, 113, 121]\n"
          ],
          "name": "stdout"
        }
      ]
    },
    {
      "cell_type": "markdown",
      "metadata": {
        "id": "R_6MMWpjiNTx",
        "colab_type": "text"
      },
      "source": [
        "En el caso de una lista con mayor número de elementos, el algoritmo implementado tarda más que el planteamiento realizado en clase.\n",
        "Por lo tanto, mantenemos el ejemplo realizado en clase. A continuación vamos a modificar el **pivote** empleado por el algoritmo para realizar la partición."
      ]
    },
    {
      "cell_type": "markdown",
      "metadata": {
        "id": "rAv6HqdVTRpf",
        "colab_type": "text"
      },
      "source": [
        "* **Nuevo pivote propuesto: la media**"
      ]
    },
    {
      "cell_type": "code",
      "metadata": {
        "id": "xYFe0JkFlGy_",
        "colab_type": "code",
        "colab": {}
      },
      "source": [
        "#  Quick sort con la nueva partición\n",
        "\n",
        "def quick_sort_mejorado(A):\n",
        "  if len(A)<=1:\n",
        "    return A\n",
        "  if len(A)==2:\n",
        "    return [min(A),max(A)]\n",
        "  \n",
        "  pivote = sum(A)/len(A) # pivotamos sobre la media\n",
        "  \n",
        "  IZQ = []\n",
        "  DER = []\n",
        "  for n in A:\n",
        "    if n < pivote:\n",
        "      IZQ.append(n)\n",
        "    else:\n",
        "      DER.append(n)\n",
        "      \n",
        "  return quick_sort(IZQ) + quick_sort(DER)\n",
        "  \n",
        "  \n",
        "\n",
        "@calcular_tiempo\n",
        "def ordenar(A):\n",
        "  print(quick_sort_mejorado(A))\n",
        "  \n"
      ],
      "execution_count": 0,
      "outputs": []
    },
    {
      "cell_type": "code",
      "metadata": {
        "id": "8-r5nopAlXH7",
        "colab_type": "code",
        "colab": {
          "base_uri": "https://localhost:8080/",
          "height": 51
        },
        "outputId": "e055187c-dbad-4855-b7b3-ca0c7fdb1891"
      },
      "source": [
        "# Comprobamos el funcionamiento\n",
        "ordenar(A)"
      ],
      "execution_count": 14,
      "outputs": [
        {
          "output_type": "stream",
          "text": [
            "[244, 2035, 2554, 2824, 3506, 4054, 4337, 4447, 4519, 4993, 5265, 5470, 7182, 7379, 7580, 8357, 8373, 9187, 9222]\n",
            "Tiempo transcurrido (en segundos): 0.002338409423828125\n"
          ],
          "name": "stdout"
        }
      ]
    },
    {
      "cell_type": "code",
      "metadata": {
        "id": "UPqKZYbOlj2M",
        "colab_type": "code",
        "colab": {
          "base_uri": "https://localhost:8080/",
          "height": 71
        },
        "outputId": "437f6b83-5315-4d0d-9a86-2f812aa917be"
      },
      "source": [
        "# Comprobamos el funcionamiento\n",
        "ordenar(B)"
      ],
      "execution_count": 15,
      "outputs": [
        {
          "output_type": "stream",
          "text": [
            "[3, 10, 26, 113, 121, 147, 164, 176, 184, 188, 228, 301, 375, 386, 395, 452, 460, 498, 530, 553, 579, 594, 600, 606, 626, 668, 704, 714, 783, 791, 807, 816, 830, 846, 847, 856, 879, 888, 900, 900, 923, 929, 938, 966, 998, 1012, 1068, 1084, 1131, 1141, 1163, 1175, 1202, 1215, 1273, 1304, 1315, 1317, 1319, 1368, 1380, 1478, 1487, 1506, 1551, 1551, 1555, 1582, 1597, 1606, 1622, 1625, 1643, 1695, 1701, 1713, 1718, 1763, 1808, 1810, 1811, 1815, 1823, 1842, 1850, 1903, 1930, 2002, 2008, 2017, 2021, 2032, 2063, 2077, 2085, 2095, 2102, 2133, 2202, 2228, 2230, 2263, 2270, 2270, 2276, 2286, 2293, 2310, 2347, 2357, 2363, 2383, 2396, 2402, 2411, 2426, 2510, 2522, 2563, 2573, 2604, 2609, 2668, 2668, 2675, 2679, 2690, 2694, 2720, 2797, 2804, 2807, 2820, 2849, 2892, 2896, 2902, 2912, 2937, 2969, 2973, 3009, 3010, 3029, 3033, 3034, 3052, 3070, 3073, 3109, 3118, 3147, 3158, 3181, 3207, 3235, 3243, 3290, 3322, 3338, 3340, 3379, 3411, 3430, 3435, 3453, 3464, 3469, 3490, 3549, 3559, 3637, 3667, 3668, 3720, 3743, 3892, 3901, 3920, 3938, 3969, 4005, 4008, 4020, 4041, 4055, 4067, 4081, 4113, 4118, 4128, 4157, 4187, 4187, 4220, 4257, 4284, 4320, 4341, 4349, 4367, 4368, 4376, 4379, 4388, 4390, 4392, 4397, 4405, 4422, 4430, 4441, 4450, 4453, 4458, 4481, 4483, 4489, 4538, 4554, 4647, 4676, 4678, 4707, 4743, 4744, 4795, 4799, 4821, 4832, 4856, 4866, 4878, 4886, 4894, 4914, 4982, 4985, 5006, 5010, 5029, 5037, 5079, 5091, 5107, 5115, 5120, 5151, 5182, 5194, 5222, 5234, 5241, 5261, 5290, 5320, 5332, 5358, 5382, 5387, 5406, 5434, 5483, 5497, 5502, 5526, 5614, 5629, 5630, 5670, 5672, 5684, 5698, 5722, 5730, 5741, 5764, 5807, 5836, 5845, 5857, 5866, 5923, 5928, 5965, 5972, 5973, 5993, 5994, 5994, 6040, 6060, 6103, 6133, 6159, 6177, 6180, 6191, 6206, 6222, 6242, 6356, 6361, 6373, 6398, 6458, 6459, 6503, 6508, 6528, 6532, 6550, 6565, 6603, 6614, 6615, 6622, 6668, 6712, 6713, 6739, 6754, 6756, 6763, 6775, 6782, 6786, 6799, 6820, 6827, 6835, 6855, 6867, 6870, 6924, 6957, 7004, 7005, 7017, 7032, 7062, 7120, 7143, 7170, 7204, 7224, 7266, 7290, 7294, 7313, 7313, 7345, 7401, 7420, 7508, 7515, 7524, 7535, 7537, 7541, 7582, 7591, 7632, 7639, 7642, 7697, 7700, 7700, 7704, 7782, 7811, 7872, 7875, 7886, 7898, 7908, 7929, 7950, 7960, 7977, 7987, 7990, 7993, 8006, 8013, 8016, 8017, 8041, 8054, 8056, 8073, 8084, 8118, 8148, 8165, 8190, 8193, 8205, 8247, 8284, 8352, 8372, 8401, 8408, 8408, 8426, 8509, 8528, 8530, 8541, 8564, 8582, 8610, 8616, 8639, 8640, 8645, 8648, 8648, 8671, 8682, 8686, 8687, 8692, 8731, 8748, 8748, 8763, 8764, 8777, 8777, 8807, 8832, 8832, 8848, 8897, 8898, 8908, 8924, 8949, 8959, 8962, 9019, 9025, 9025, 9029, 9049, 9053, 9061, 9067, 9072, 9079, 9123, 9133, 9136, 9146, 9156, 9165, 9215, 9219, 9220, 9260, 9268, 9323, 9341, 9379, 9397, 9398, 9404, 9404, 9410, 9450, 9473, 9486, 9508, 9542, 9547, 9567, 9584, 9595, 9619, 9653, 9658, 9671, 9708, 9718, 9744, 9746, 9757, 9762, 9785, 9810, 9818, 9840, 9880, 9889, 9931, 9966, 9991]\n",
            "Tiempo transcurrido (en segundos): 0.012669801712036133\n"
          ],
          "name": "stdout"
        }
      ]
    },
    {
      "cell_type": "markdown",
      "metadata": {
        "id": "80L1_Z1azD3J",
        "colab_type": "text"
      },
      "source": [
        "### Ejercicio 2: Cambio de monedas"
      ]
    },
    {
      "cell_type": "markdown",
      "metadata": {
        "id": "aeNMgHvBVxBT",
        "colab_type": "text"
      },
      "source": [
        "En este ejercicio vamos a realizar un algoritmo que devuelva el cambio de monedas y para ello utilizaremos la técnica del **algoritmo voraz**."
      ]
    },
    {
      "cell_type": "markdown",
      "metadata": {
        "id": "EJSVrRyc8PAj",
        "colab_type": "text"
      },
      "source": [
        "* **Algoritmo desarrollado en clase:**"
      ]
    },
    {
      "cell_type": "code",
      "metadata": {
        "id": "aVvlS7Kqy3Xv",
        "colab_type": "code",
        "colab": {}
      },
      "source": [
        "# Ejercicio 2: Cambio de monedas\n",
        "\n",
        "SISTEMA= [25, 10, 5, 1] # sistema de monedas\n",
        "\n",
        "@calcular_tiempo\n",
        "def cambio_monedas(CANTIDAD,SISTEMA):\n",
        "  SOLUCION = [0 for i in range(len(SISTEMA)) ] # la solución es un vector con las mismas componentes que el sistema definido\n",
        "  VALOR_ACUMULADO = 0 # inicializo el valor acumulado a cero\n",
        "  \n",
        "  for i in range(len(SISTEMA)):\n",
        "    monedas = int((CANTIDAD - VALOR_ACUMULADO)/SISTEMA[i]) # calculo las monedas en cada caso\n",
        "    SOLUCION[i] = monedas # igualo vector solución a las monedas estimadas\n",
        "    VALOR_ACUMULADO = VALOR_ACUMULADO + monedas*SISTEMA[i] # Actualizo valor acumulado\n",
        "    \n",
        "    if VALOR_ACUMULADO == CANTIDAD: # condición de salida, hemos repartido la cantidad solicitada\n",
        "      return SOLUCION\n",
        "  \n",
        "\n"
      ],
      "execution_count": 0,
      "outputs": []
    },
    {
      "cell_type": "code",
      "metadata": {
        "id": "d1K6Z5xu3PMy",
        "colab_type": "code",
        "outputId": "595eb6f0-9244-4655-c770-0bf71ee0abc6",
        "colab": {
          "base_uri": "https://localhost:8080/",
          "height": 51
        }
      },
      "source": [
        "# Ejemplo\n",
        "\n",
        "print(cambio_monedas(23,SISTEMA))"
      ],
      "execution_count": 17,
      "outputs": [
        {
          "output_type": "stream",
          "text": [
            "Tiempo transcurrido (en segundos): 1.3113021850585938e-05\n",
            "[0, 2, 0, 3]\n"
          ],
          "name": "stdout"
        }
      ]
    },
    {
      "cell_type": "code",
      "metadata": {
        "id": "DzoUprOr3VxL",
        "colab_type": "code",
        "outputId": "deb803d7-b15a-4813-8316-77cec5da4f1e",
        "colab": {
          "base_uri": "https://localhost:8080/",
          "height": 51
        }
      },
      "source": [
        "print(cambio_monedas(123,SISTEMA))"
      ],
      "execution_count": 18,
      "outputs": [
        {
          "output_type": "stream",
          "text": [
            "Tiempo transcurrido (en segundos): 4.220008850097656e-05\n",
            "[4, 2, 0, 3]\n"
          ],
          "name": "stdout"
        }
      ]
    },
    {
      "cell_type": "markdown",
      "metadata": {
        "id": "4CZO6Zs48UwT",
        "colab_type": "text"
      },
      "source": [
        "* **Algoritmo propuesto empleando divmod:**"
      ]
    },
    {
      "cell_type": "markdown",
      "metadata": {
        "id": "v83DQ3n9WKWL",
        "colab_type": "text"
      },
      "source": [
        "Implementamos otro algoritmo para el mismo ejercicio utilizando divmod."
      ]
    },
    {
      "cell_type": "code",
      "metadata": {
        "id": "6dtBKTNh6Jlc",
        "colab_type": "code",
        "colab": {}
      },
      "source": [
        "billetes=(500, 200, 100, 50, 20, 10, 5, 2,1)\n",
        "\n",
        "@calcular_tiempo\n",
        "def cambio_monedas_prop(valor,billetes):\n",
        "  monedas={}\n",
        "  \n",
        "  for b in billetes:\n",
        "    monedas[b],valor=divmod(valor,b)\n",
        "\n",
        "  for b in billetes:\n",
        "    if monedas[b]>0:\n",
        "      print ('%d de %d' % (monedas[b],b))\n",
        "\n",
        "  return monedas"
      ],
      "execution_count": 0,
      "outputs": []
    },
    {
      "cell_type": "code",
      "metadata": {
        "id": "IDs6ODvu7J5J",
        "colab_type": "code",
        "colab": {
          "base_uri": "https://localhost:8080/",
          "height": 136
        },
        "outputId": "2d9f46dd-4d63-4006-a079-62ceb86755cd"
      },
      "source": [
        "print(cambio_monedas_prop(1223,billetes))"
      ],
      "execution_count": 26,
      "outputs": [
        {
          "output_type": "stream",
          "text": [
            "2 de 500\n",
            "1 de 200\n",
            "1 de 20\n",
            "1 de 2\n",
            "1 de 1\n",
            "Tiempo transcurrido (en segundos): 0.00032711029052734375\n",
            "{500: 2, 200: 1, 100: 0, 50: 0, 20: 1, 10: 0, 5: 0, 2: 1, 1: 1}\n"
          ],
          "name": "stdout"
        }
      ]
    },
    {
      "cell_type": "markdown",
      "metadata": {
        "id": "SLx8-Dul8otG",
        "colab_type": "text"
      },
      "source": [
        "Se trata de un ejemplo importado de las memorables prácticas realizadas en MATLAB."
      ]
    },
    {
      "cell_type": "code",
      "metadata": {
        "id": "lzvRej8D8y6F",
        "colab_type": "code",
        "colab": {}
      },
      "source": [
        ""
      ],
      "execution_count": 0,
      "outputs": []
    },
    {
      "cell_type": "markdown",
      "metadata": {
        "id": "PIRBoTe64mMG",
        "colab_type": "text"
      },
      "source": [
        "### Ejercicio 3: Problema de las N Reinas\n",
        "\n",
        "Para su desarrollo emplearemos la **técnica vuelta atrás**."
      ]
    },
    {
      "cell_type": "markdown",
      "metadata": {
        "id": "euttHQH_XfIC",
        "colab_type": "text"
      },
      "source": [
        "* **Algoritmo desarrollado en clase:**"
      ]
    },
    {
      "cell_type": "code",
      "metadata": {
        "id": "JemXGUCN3sCa",
        "colab_type": "code",
        "colab": {}
      },
      "source": [
        "\n",
        "def es_prometedora(solucion,etapa):\n",
        "  for i in range(etapa+1):\n",
        "    if solucion.count(solucion[i]) >1: # SOLUCION.count(SOLUCION[i]) > 1, ya hay una reina en esa fila\n",
        "      return False\n",
        "    for j in range(i+1,etapa+1):\n",
        "      if abs(i-j) == abs(solucion[i]-solucion[j]): \n",
        "        return False\n",
        "  return True # es solucion prometedora\n",
        "\n",
        "\n",
        "def reinas(N, solucion=[], etapa=0): # N tamaño del tablero y nº reinas\n",
        "  \n",
        "  if len(solucion) == 0:\n",
        "      solucion=[0 for i in range(N)]\n",
        "      \n",
        "  for i in range(1, N+1):\n",
        "      solucion[etapa] = i\n",
        "      \n",
        "      if es_prometedora(solucion,etapa):\n",
        "        \n",
        "        if etapa == N-1:\n",
        "          print(\"La solucion es \", solucion)\n",
        "        else:\n",
        "          reinas(N,solucion,etapa+1)\n",
        "      else:\n",
        "         None\n",
        "\n"
      ],
      "execution_count": 0,
      "outputs": []
    },
    {
      "cell_type": "code",
      "metadata": {
        "id": "xW6NK6YKDJw3",
        "colab_type": "code",
        "outputId": "c978d14d-23b5-40aa-e064-d4a604b2b6c1",
        "colab": {
          "base_uri": "https://localhost:8080/",
          "height": 85
        }
      },
      "source": [
        "reinas(8)"
      ],
      "execution_count": 44,
      "outputs": [
        {
          "output_type": "stream",
          "text": [
            "La solucion es  [4, 7, 5, 2, 6, 1, 3, 8]\n",
            "La solucion es  [5, 7, 2, 6, 3, 1, 4, 8]\n",
            "La solucion es  [6, 3, 5, 7, 1, 4, 2, 8]\n",
            "La solucion es  [6, 4, 7, 1, 3, 5, 2, 8]\n"
          ],
          "name": "stdout"
        }
      ]
    },
    {
      "cell_type": "code",
      "metadata": {
        "id": "KzjsUZRwDLb5",
        "colab_type": "code",
        "colab": {}
      },
      "source": [
        ""
      ],
      "execution_count": 0,
      "outputs": []
    },
    {
      "cell_type": "markdown",
      "metadata": {
        "id": "rnG49fJPGeIH",
        "colab_type": "text"
      },
      "source": [
        "### Ejercicio Propuesto: Encontrar los dos puntos más cercanos"
      ]
    },
    {
      "cell_type": "markdown",
      "metadata": {
        "id": "u1mZYsv4fGSd",
        "colab_type": "text"
      },
      "source": [
        "Trataremos de buscar el par de puntos más cercanos entre sí. Para ello, comenzaremos analizando el caso en una dimensión para, posteriormente, aumentar la complejidad incrementando las dimensiones consideradas."
      ]
    },
    {
      "cell_type": "markdown",
      "metadata": {
        "id": "SoLW_9-pry1H",
        "colab_type": "text"
      },
      "source": [
        "#### Caso 1-D"
      ]
    },
    {
      "cell_type": "code",
      "metadata": {
        "id": "cIwKOeIjrsVt",
        "colab_type": "code",
        "colab": {}
      },
      "source": [
        "# Creamos una lista de ejemplo, un array de una dimensión.\n",
        "a= [1.2,2.9,3.1,4.0,5.7]"
      ],
      "execution_count": 0,
      "outputs": []
    },
    {
      "cell_type": "code",
      "metadata": {
        "id": "eB6396WXricX",
        "colab_type": "code",
        "colab": {}
      },
      "source": [
        "def proximo(a):\n",
        "    mindist = a[0] #declaramos distancia mínima\n",
        "    tupla = [] #inicializamos tupla vacía\n",
        "    for i in range (len(a)): \n",
        "        for j in range (len(a)): #recorre toda la lista\n",
        "            if j == 0: #evitamos la comparación consigo mismo\n",
        "                j+=1\n",
        "            if j!=i: \n",
        "                p = a[i]\n",
        "                q = a[j]\n",
        "            if p > q: # evita distancia negativa\n",
        "                p, q = q, p\n",
        "                \n",
        "            if (q-p) < mindist: # busca si es la menor\n",
        "                mindist = (q-p) # guarda distancia\n",
        "                tupla = [p,q] # y guarda el par correspondiente\n",
        "                \n",
        "    return tupla"
      ],
      "execution_count": 0,
      "outputs": []
    },
    {
      "cell_type": "code",
      "metadata": {
        "id": "mLJxki1SruD2",
        "colab_type": "code",
        "outputId": "49a26e3b-71f4-4cd7-8f0e-b902ffc90840",
        "colab": {
          "base_uri": "https://localhost:8080/",
          "height": 34
        }
      },
      "source": [
        "# Comprobamos su funcionamiento\n",
        "proximo(a)"
      ],
      "execution_count": 29,
      "outputs": [
        {
          "output_type": "execute_result",
          "data": {
            "text/plain": [
              "[2.9, 3.1]"
            ]
          },
          "metadata": {
            "tags": []
          },
          "execution_count": 29
        }
      ]
    },
    {
      "cell_type": "markdown",
      "metadata": {
        "id": "mkoBcz20B7Hz",
        "colab_type": "text"
      },
      "source": [
        "La solución es la correcta. Realicemos otro ejemplo de validación:\n"
      ]
    },
    {
      "cell_type": "code",
      "metadata": {
        "id": "F-TuK058CB96",
        "colab_type": "code",
        "colab": {}
      },
      "source": [
        "b = list(range(0, 100, 10))"
      ],
      "execution_count": 0,
      "outputs": []
    },
    {
      "cell_type": "code",
      "metadata": {
        "id": "qzX4tzotCCOg",
        "colab_type": "code",
        "colab": {
          "base_uri": "https://localhost:8080/",
          "height": 34
        },
        "outputId": "dec80610-d5bc-4843-87c4-e64825517ebb"
      },
      "source": [
        "# Todas las distancias son iguales, crea la tupla vacía\n",
        "proximo(b)"
      ],
      "execution_count": 34,
      "outputs": [
        {
          "output_type": "execute_result",
          "data": {
            "text/plain": [
              "[]"
            ]
          },
          "metadata": {
            "tags": []
          },
          "execution_count": 34
        }
      ]
    },
    {
      "cell_type": "code",
      "metadata": {
        "id": "81xIrbNkCp10",
        "colab_type": "code",
        "colab": {}
      },
      "source": [
        "c = [1,1,2,3,5,8,13,21]"
      ],
      "execution_count": 0,
      "outputs": []
    },
    {
      "cell_type": "code",
      "metadata": {
        "id": "6n1P1B7lCzwA",
        "colab_type": "code",
        "colab": {
          "base_uri": "https://localhost:8080/",
          "height": 34
        },
        "outputId": "a05821ab-013d-481d-c5a8-d4951ca99a67"
      },
      "source": [
        "# Considera de forma correcta la reiteración del mismo valor\n",
        "proximo(c)"
      ],
      "execution_count": 37,
      "outputs": [
        {
          "output_type": "execute_result",
          "data": {
            "text/plain": [
              "[1, 1]"
            ]
          },
          "metadata": {
            "tags": []
          },
          "execution_count": 37
        }
      ]
    },
    {
      "cell_type": "markdown",
      "metadata": {
        "id": "UrI1H5Yaky-j",
        "colab_type": "text"
      },
      "source": [
        "#### Caso 2-D"
      ]
    },
    {
      "cell_type": "markdown",
      "metadata": {
        "id": "2GcHDlgafrBB",
        "colab_type": "text"
      },
      "source": [
        "Introducimos una lista con pares de puntos:"
      ]
    },
    {
      "cell_type": "code",
      "metadata": {
        "id": "W1i6wyIyfluL",
        "colab_type": "code",
        "colab": {}
      },
      "source": [
        "puntos = [(8.5, 10.5), (10.2, 15.1), (20.7, 11.2)]"
      ],
      "execution_count": 0,
      "outputs": []
    },
    {
      "cell_type": "markdown",
      "metadata": {
        "id": "_Bzo2zRultU8",
        "colab_type": "text"
      },
      "source": [
        "Utilizaremos la técnica **Divide y Vencerás**"
      ]
    },
    {
      "cell_type": "markdown",
      "metadata": {
        "id": "69QlmBJwD2wG",
        "colab_type": "text"
      },
      "source": [
        "Diseñamos el algoritmo para posteriormente incorporarlo en una función."
      ]
    },
    {
      "cell_type": "code",
      "metadata": {
        "id": "Q_3TLXt5f5Ws",
        "colab_type": "code",
        "colab": {
          "base_uri": "https://localhost:8080/",
          "height": 34
        },
        "outputId": "57b1d11c-2d64-4b73-931d-bb11f23d48bf"
      },
      "source": [
        "import math\n",
        "\n",
        "# Iniciamos a infinito\n",
        "min_distance = float('infinity') \n",
        "min_pair = None \n",
        "\n",
        "# bucle \n",
        "length = len(puntos) \n",
        "for i in range(length): \n",
        "    for j in range(i+1, length): \n",
        "      point1 = puntos[i] \n",
        "      point2 = puntos[j] \n",
        "\n",
        "    if math.hypot(point1[0] - point2[0], point1[1] - point2[0]) < min_distance: \n",
        "      min_pair = [point1, point2]\n",
        "print(min_pair)"
      ],
      "execution_count": 39,
      "outputs": [
        {
          "output_type": "stream",
          "text": [
            "[(10.2, 15.1), (20.7, 11.2)]\n"
          ],
          "name": "stdout"
        }
      ]
    },
    {
      "cell_type": "markdown",
      "metadata": {
        "id": "WT89OaBwD8_0",
        "colab_type": "text"
      },
      "source": [
        "Vemos que funciona de forma correcta para el ejemplo planteado. Diseñamos la función."
      ]
    },
    {
      "cell_type": "code",
      "metadata": {
        "id": "EWQoUzGPjp59",
        "colab_type": "code",
        "colab": {}
      },
      "source": [
        "# Creemos una función\n",
        "\n",
        "import math\n",
        "\n",
        "def par_cercano(puntos):\n",
        "  \n",
        "  # Iniciamos distancia mínima infinito\n",
        "  # Ver wikipedia problema par más cercano\n",
        "  min_distance = float('infinity') \n",
        "  min_pair = None \n",
        "\n",
        "  # bucle \n",
        "  length = len(puntos) \n",
        "  for i in range(length): \n",
        "      for j in range(i+1, length): \n",
        "        point1 = puntos[i] \n",
        "        point2 = puntos[j] \n",
        "  \n",
        "      if math.hypot(point1[0] - point2[0], point1[1] - point2[0]) < min_distance: \n",
        "        min_pair = [point1, point2]\n",
        "  print(min_pair)\n",
        "  return"
      ],
      "execution_count": 0,
      "outputs": []
    },
    {
      "cell_type": "code",
      "metadata": {
        "id": "RNdLHkMukGbM",
        "colab_type": "code",
        "colab": {
          "base_uri": "https://localhost:8080/",
          "height": 34
        },
        "outputId": "164ade3c-3e4d-4f51-8b98-d605634381a3"
      },
      "source": [
        "#Comprobamos su correcto funcionamiento\n",
        "par_cercano(puntos)"
      ],
      "execution_count": 41,
      "outputs": [
        {
          "output_type": "stream",
          "text": [
            "[(10.2, 15.1), (20.7, 11.2)]\n"
          ],
          "name": "stdout"
        }
      ]
    },
    {
      "cell_type": "code",
      "metadata": {
        "id": "xV2kSc6XEEa0",
        "colab_type": "code",
        "colab": {}
      },
      "source": [
        ""
      ],
      "execution_count": 0,
      "outputs": []
    }
  ]
}