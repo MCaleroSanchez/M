{
  "nbformat": 4,
  "nbformat_minor": 0,
  "metadata": {
    "colab": {
      "name": "Melanie_Calero_Sanchez - AG1.ipynb",
      "version": "0.3.2",
      "provenance": [],
      "include_colab_link": true
    },
    "kernelspec": {
      "name": "python3",
      "display_name": "Python 3"
    }
  },
  "cells": [
    {
      "cell_type": "markdown",
      "metadata": {
        "id": "view-in-github",
        "colab_type": "text"
      },
      "source": [
        "<a href=\"https://colab.research.google.com/github/MCaleroSanchez/M/blob/master/Melanie_Calero_Sanchez_AG1.ipynb\" target=\"_parent\"><img src=\"https://colab.research.google.com/assets/colab-badge.svg\" alt=\"Open In Colab\"/></a>"
      ]
    },
    {
      "cell_type": "markdown",
      "metadata": {
        "id": "APRk-wlglPFy",
        "colab_type": "text"
      },
      "source": [
        "\n",
        "**Actividad Guiada 1 - AG1\n",
        "Melanie Calero Sánchez**\n",
        "\n",
        "https://colab.research.google.com/drive/1Z3rbHtdpd3IZTRA8OuegAgFJd-G-U-7J#scrollTo=APRk-wlglPFy&line=3&uniqifier=1\n",
        "\n",
        "https://github.com/MCaleroSanchez/03MAIR---Algoritmos-de-Optimizacion---2019/tree/master/AG1\n"
      ]
    },
    {
      "cell_type": "markdown",
      "metadata": {
        "id": "4Y-nWYANfVRd",
        "colab_type": "text"
      },
      "source": [
        "En esta primera actividad guiada, vamos a tratar de resolver tres tipologías de problemas:\n",
        "\n",
        "- Quick Sort\n",
        "- Cambio de Monedas\n",
        "- 4 Reinas\n",
        "\n",
        "Para ello, vamos a utilizar algunas de las técnicas vistas en clase como son el \"divide y vencerás\", \"vuelta atrás\" y \" algoritmos voraces\"."
      ]
    },
    {
      "cell_type": "markdown",
      "metadata": {
        "id": "st0y06ETBwC4",
        "colab_type": "text"
      },
      "source": [
        "En primer lugar, vamos a implementar un decorador para medir tiempos, de esta forma, tendremos una medida de la eficiencia del algoritmo implementado."
      ]
    },
    {
      "cell_type": "code",
      "metadata": {
        "id": "2k1cvfTtmGvE",
        "colab_type": "code",
        "colab": {}
      },
      "source": [
        "# \n",
        "# Decorador para medir tiempos\n",
        "# by Ricardo\n",
        "\n",
        "from functools import wraps\n",
        "from time import time\n",
        "\n",
        "def calcular_tiempo(f):\n",
        "    @wraps(f)\n",
        "    def cronometro(*args, **kwargs):\n",
        "        t_inicial = time()\n",
        "        salida = f(*args, **kwargs)\n",
        "        t_final = time()\n",
        "        print('Tiempo transcurrido (en segundos): {}'.format(t_final - t_inicial))\n",
        "        return salida\n",
        "    return cronometro"
      ],
      "execution_count": 0,
      "outputs": []
    },
    {
      "cell_type": "markdown",
      "metadata": {
        "id": "x27OZ37eoYvA",
        "colab_type": "text"
      },
      "source": [
        "### Ejercicio 1: Quick Sort\n",
        "\n",
        "Se nos solicita crear un algoritmo que ordene los valores contenidos en una lista. Para ello, vamos a emplear la técnica\n",
        "**divide y vencerás**."
      ]
    },
    {
      "cell_type": "code",
      "metadata": {
        "id": "acdQumjzoYJk",
        "colab_type": "code",
        "colab": {}
      },
      "source": [
        "# Implementamos la lista dada: \n",
        "A = [9187, 244, 4054, 9222, 8373, 4993, 5265, 5470, 4519, 7182, 2035, 3506, 4337, 7580, 2554, 2824, 8357, 4447, 7379]"
      ],
      "execution_count": 0,
      "outputs": []
    },
    {
      "cell_type": "code",
      "metadata": {
        "id": "CiVDdUA8pFMx",
        "colab_type": "code",
        "colab": {}
      },
      "source": [
        "# Lista unitaria para realizar los test oportunos:\n",
        "# A = [254]"
      ],
      "execution_count": 0,
      "outputs": []
    },
    {
      "cell_type": "markdown",
      "metadata": {
        "id": "o21n_T6Kh56k",
        "colab_type": "text"
      },
      "source": [
        "* **Algoritmo desarrollado en clase:**"
      ]
    },
    {
      "cell_type": "code",
      "metadata": {
        "id": "3L_JWhKNoJ8i",
        "colab_type": "code",
        "colab": {}
      },
      "source": [
        "# Ejercicio 1: Quick sort\n",
        "\n",
        "def quick_sort(A):\n",
        "  if len(A)<=1: # Si el tamaño de la sublista es <=1, devolvemos la misma lista\n",
        "    return A\n",
        "  if len(A)==2:\n",
        "    return [min(A),max(A)]\n",
        "  \n",
        "  pivote = (A[0] + A[1] + A[2])/3  # dividiremos la lista en dos sublistas\n",
        "  \n",
        "  IZQ = [] # Valores menores o iguales al pivote\n",
        "  DER = [] # Valores mayores la pivote\n",
        "  for n in A:\n",
        "    if n < pivote: # usamos pivote para llevar el elemento a IZQ o DER creadas anteriormente\n",
        "      IZQ.append(n)\n",
        "    else:\n",
        "      DER.append(n)\n",
        "      \n",
        "  return quick_sort(IZQ) + quick_sort(DER)\n",
        "  # El return propuesto original:\n",
        "  # return list(quick_sort(IZQ)) + list(quick_sort(DER))\n",
        "  \n",
        "\n",
        "@calcular_tiempo\n",
        "def ordenar(A):\n",
        "  print(quick_sort(A)) # Llamamos a la función quick sort\n",
        "  \n"
      ],
      "execution_count": 0,
      "outputs": []
    },
    {
      "cell_type": "code",
      "metadata": {
        "id": "3ySsP5PJpHsv",
        "colab_type": "code",
        "outputId": "e4ba802b-3cea-45e9-b7a4-f1d126657b86",
        "colab": {
          "base_uri": "https://localhost:8080/",
          "height": 51
        }
      },
      "source": [
        "# Comprobamos el funcionamiento\n",
        "ordenar(A)"
      ],
      "execution_count": 5,
      "outputs": [
        {
          "output_type": "stream",
          "text": [
            "[244, 2035, 2554, 2824, 3506, 4054, 4337, 4447, 4519, 4993, 5265, 5470, 7182, 7379, 7580, 8357, 8373, 9187, 9222]\n",
            "Tiempo transcurrido (en segundos): 0.0010564327239990234\n"
          ],
          "name": "stdout"
        }
      ]
    },
    {
      "cell_type": "code",
      "metadata": {
        "id": "Ywq5EFhFv3kj",
        "colab_type": "code",
        "colab": {}
      },
      "source": [
        "# Creamos una lista con mayor número de elementos\n",
        "\n",
        "import random\n",
        "B = list(map(lambda x: random.randrange(1,10000),range(1,500)))"
      ],
      "execution_count": 0,
      "outputs": []
    },
    {
      "cell_type": "code",
      "metadata": {
        "id": "2VaEp-X3wrnN",
        "colab_type": "code",
        "outputId": "b8dcfe4f-6404-47ee-982c-e54211e28813",
        "colab": {
          "base_uri": "https://localhost:8080/",
          "height": 71
        }
      },
      "source": [
        "# Realizamos la medición de tiempos con una lista mayor\n",
        "ordenar(B)"
      ],
      "execution_count": 7,
      "outputs": [
        {
          "output_type": "stream",
          "text": [
            "[65, 65, 93, 127, 134, 154, 202, 222, 250, 256, 272, 297, 311, 311, 335, 345, 357, 389, 396, 409, 435, 436, 446, 536, 547, 551, 567, 611, 641, 658, 703, 715, 715, 745, 787, 800, 821, 829, 835, 847, 870, 874, 883, 941, 944, 945, 948, 963, 980, 982, 1013, 1091, 1109, 1163, 1242, 1250, 1282, 1325, 1351, 1391, 1425, 1437, 1444, 1476, 1526, 1571, 1571, 1583, 1589, 1589, 1601, 1639, 1667, 1683, 1705, 1723, 1755, 1787, 1796, 1826, 1848, 1876, 1882, 1886, 1887, 1895, 1924, 1945, 1955, 1966, 1983, 2034, 2043, 2060, 2101, 2121, 2170, 2176, 2197, 2206, 2252, 2253, 2262, 2298, 2312, 2325, 2367, 2375, 2382, 2383, 2390, 2404, 2421, 2426, 2495, 2530, 2561, 2572, 2573, 2579, 2585, 2611, 2618, 2650, 2747, 2748, 2800, 2808, 2815, 2841, 2858, 2875, 2882, 2897, 2929, 2972, 2972, 2974, 3013, 3020, 3025, 3029, 3048, 3054, 3076, 3080, 3113, 3119, 3128, 3161, 3226, 3264, 3302, 3341, 3375, 3375, 3424, 3440, 3458, 3467, 3482, 3493, 3499, 3506, 3518, 3524, 3566, 3566, 3567, 3569, 3648, 3661, 3697, 3698, 3760, 3782, 3837, 3840, 3853, 3858, 3864, 3884, 3928, 3963, 3980, 3995, 4001, 4026, 4042, 4072, 4081, 4104, 4117, 4201, 4223, 4223, 4238, 4240, 4258, 4266, 4275, 4280, 4281, 4309, 4352, 4358, 4376, 4389, 4400, 4408, 4409, 4443, 4498, 4509, 4511, 4518, 4542, 4544, 4551, 4552, 4557, 4577, 4595, 4610, 4621, 4645, 4658, 4673, 4706, 4725, 4734, 4742, 4772, 4782, 4811, 4818, 4833, 4883, 4893, 4962, 4965, 4965, 4967, 4968, 4984, 5013, 5030, 5041, 5081, 5096, 5104, 5107, 5184, 5197, 5219, 5239, 5264, 5276, 5288, 5323, 5325, 5340, 5372, 5394, 5402, 5442, 5449, 5485, 5486, 5538, 5579, 5606, 5613, 5619, 5633, 5670, 5672, 5672, 5701, 5715, 5750, 5860, 5902, 5912, 5922, 5929, 5941, 5956, 5963, 5967, 6016, 6016, 6027, 6032, 6058, 6085, 6122, 6124, 6128, 6133, 6146, 6148, 6168, 6183, 6242, 6259, 6270, 6346, 6364, 6367, 6390, 6405, 6406, 6409, 6429, 6449, 6470, 6504, 6532, 6575, 6583, 6601, 6603, 6611, 6620, 6627, 6637, 6647, 6684, 6692, 6752, 6765, 6771, 6778, 6813, 6815, 6823, 6851, 6863, 6905, 6915, 6921, 7031, 7037, 7071, 7077, 7090, 7097, 7098, 7112, 7126, 7137, 7149, 7217, 7273, 7289, 7301, 7313, 7316, 7329, 7343, 7380, 7424, 7426, 7435, 7438, 7445, 7483, 7520, 7533, 7613, 7620, 7628, 7657, 7662, 7668, 7675, 7693, 7720, 7759, 7779, 7784, 7823, 7836, 7845, 7854, 7861, 7870, 7888, 7899, 7915, 7916, 7922, 7933, 7937, 7985, 7986, 8012, 8015, 8034, 8049, 8063, 8076, 8089, 8089, 8124, 8170, 8173, 8193, 8198, 8215, 8243, 8250, 8302, 8322, 8327, 8337, 8361, 8366, 8383, 8388, 8391, 8396, 8406, 8422, 8446, 8447, 8462, 8462, 8510, 8524, 8527, 8539, 8540, 8559, 8579, 8601, 8640, 8696, 8741, 8754, 8766, 8781, 8805, 8824, 8829, 8843, 8849, 8865, 8867, 8893, 8897, 8898, 8990, 9044, 9065, 9066, 9067, 9110, 9159, 9184, 9263, 9285, 9294, 9321, 9363, 9375, 9380, 9400, 9406, 9410, 9418, 9432, 9460, 9488, 9490, 9503, 9526, 9537, 9548, 9551, 9566, 9593, 9646, 9650, 9664, 9664, 9718, 9734, 9776, 9801, 9839, 9851, 9898, 9901, 9931, 9943, 9951, 9981]\n",
            "Tiempo transcurrido (en segundos): 0.0012545585632324219\n"
          ],
          "name": "stdout"
        }
      ]
    },
    {
      "cell_type": "markdown",
      "metadata": {
        "id": "ZH_9XyoyK1lT",
        "colab_type": "text"
      },
      "source": [
        "A continuación, vamos a implementar\n",
        "un nuevo algoritmo más burdo, sin utilizar pivote, y a comprobar el tiempo de ejecución."
      ]
    },
    {
      "cell_type": "code",
      "metadata": {
        "id": "n-HE-rcMw6em",
        "colab_type": "code",
        "colab": {}
      },
      "source": [
        "# Añadimos otro modelo de ordenación sin utilizar pivote y analizamos la comparativa de tiempos\n",
        "\n",
        "@calcular_tiempo\n",
        "def bubbleSort(arr):\n",
        "  n = len(arr)\n",
        "  for i in range(n):\n",
        "    for j in range(0,n-i-1):\n",
        "      if arr[j]> arr[j+1]:\n",
        "        arr[j],arr[j+1] = arr[j+1],arr[j]\n",
        "  return arr"
      ],
      "execution_count": 0,
      "outputs": []
    },
    {
      "cell_type": "code",
      "metadata": {
        "id": "sNwkuejbyi3q",
        "colab_type": "code",
        "outputId": "c4800a07-aaaa-4547-dd71-d9b6ace11a54",
        "colab": {
          "base_uri": "https://localhost:8080/",
          "height": 357
        }
      },
      "source": [
        "# Lo aplicamos en la lista A\n",
        "bubbleSort(A)"
      ],
      "execution_count": 12,
      "outputs": [
        {
          "output_type": "stream",
          "text": [
            "Tiempo transcurrido (en segundos): 3.0040740966796875e-05\n"
          ],
          "name": "stdout"
        },
        {
          "output_type": "execute_result",
          "data": {
            "text/plain": [
              "[244,\n",
              " 2035,\n",
              " 2554,\n",
              " 2824,\n",
              " 3506,\n",
              " 4054,\n",
              " 4337,\n",
              " 4447,\n",
              " 4519,\n",
              " 4993,\n",
              " 5265,\n",
              " 5470,\n",
              " 7182,\n",
              " 7379,\n",
              " 7580,\n",
              " 8357,\n",
              " 8373,\n",
              " 9187,\n",
              " 9222]"
            ]
          },
          "metadata": {
            "tags": []
          },
          "execution_count": 12
        }
      ]
    },
    {
      "cell_type": "markdown",
      "metadata": {
        "id": "mxxQ43Y6h2xO",
        "colab_type": "text"
      },
      "source": [
        "Vemos que para una lista pequeña mejoramos el tiempo de respuesta."
      ]
    },
    {
      "cell_type": "code",
      "metadata": {
        "id": "whC0PJaiywfg",
        "colab_type": "code",
        "outputId": "d66e3c2c-65de-4e4d-cddd-323d9110618f",
        "colab": {
          "base_uri": "https://localhost:8080/",
          "height": 51
        }
      },
      "source": [
        "# Comprobación con la lista B\n",
        "print(bubbleSort(B)[:5])\n",
        "\n",
        "# Imprimimos el tiempo transcurrido y los primero cinco elementos como muestra."
      ],
      "execution_count": 17,
      "outputs": [
        {
          "output_type": "stream",
          "text": [
            "Tiempo transcurrido (en segundos): 0.012035846710205078\n",
            "[65, 65, 93, 127, 134]\n"
          ],
          "name": "stdout"
        }
      ]
    },
    {
      "cell_type": "markdown",
      "metadata": {
        "id": "R_6MMWpjiNTx",
        "colab_type": "text"
      },
      "source": [
        "En el caso de una lista con mayor número de elementos, el algoritmo implementado tarda más que el planteamiento realizado en clase.\n",
        "Por lo tanto, mantenemos el ejemplo realizado en clase. A continuación vamos a modificar el **pivote** empleado por el algoritmo para realizar la partición."
      ]
    },
    {
      "cell_type": "markdown",
      "metadata": {
        "id": "rAv6HqdVTRpf",
        "colab_type": "text"
      },
      "source": [
        "* **Nuevo pivote propuesto: la media**"
      ]
    },
    {
      "cell_type": "code",
      "metadata": {
        "id": "xYFe0JkFlGy_",
        "colab_type": "code",
        "colab": {}
      },
      "source": [
        "#  Quick sort con la nueva partición\n",
        "\n",
        "def quick_sort_mejorado(A):\n",
        "  if len(A)<=1:\n",
        "    return A\n",
        "  if len(A)==2:\n",
        "    return [min(A),max(A)]\n",
        "  \n",
        "  pivote = sum(A)/len(A) # pivotamos sobre la media\n",
        "  \n",
        "  IZQ = []\n",
        "  DER = []\n",
        "  for n in A:\n",
        "    if n < pivote:\n",
        "      IZQ.append(n)\n",
        "    else:\n",
        "      DER.append(n)\n",
        "      \n",
        "  return quick_sort(IZQ) + quick_sort(DER)\n",
        "  \n",
        "  \n",
        "\n",
        "@calcular_tiempo\n",
        "def ordenar(A):\n",
        "  print(quick_sort_mejorado(A))\n",
        "  \n"
      ],
      "execution_count": 0,
      "outputs": []
    },
    {
      "cell_type": "code",
      "metadata": {
        "id": "8-r5nopAlXH7",
        "colab_type": "code",
        "colab": {
          "base_uri": "https://localhost:8080/",
          "height": 51
        },
        "outputId": "24d65c37-89a9-4ced-b221-3038d143e447"
      },
      "source": [
        "# Comprobamos el funcionamiento\n",
        "ordenar(A)"
      ],
      "execution_count": 22,
      "outputs": [
        {
          "output_type": "stream",
          "text": [
            "[244, 2035, 2554, 2824, 3506, 4054, 4337, 4447, 4519, 4993, 5265, 5470, 7182, 7379, 7580, 8357, 8373, 9187, 9222]\n",
            "Tiempo transcurrido (en segundos): 0.0005147457122802734\n"
          ],
          "name": "stdout"
        }
      ]
    },
    {
      "cell_type": "code",
      "metadata": {
        "id": "UPqKZYbOlj2M",
        "colab_type": "code",
        "colab": {
          "base_uri": "https://localhost:8080/",
          "height": 71
        },
        "outputId": "eab3357a-0a5d-4e5a-d3be-55de74b03e06"
      },
      "source": [
        "# Comprobamos el funcionamiento\n",
        "ordenar(B)"
      ],
      "execution_count": 23,
      "outputs": [
        {
          "output_type": "stream",
          "text": [
            "[65, 65, 93, 127, 134, 154, 202, 222, 250, 256, 272, 297, 311, 311, 335, 345, 357, 389, 396, 409, 435, 436, 446, 536, 547, 551, 567, 611, 641, 658, 703, 715, 715, 745, 787, 800, 821, 829, 835, 847, 870, 874, 883, 941, 944, 945, 948, 963, 980, 982, 1013, 1091, 1109, 1163, 1242, 1250, 1282, 1325, 1351, 1391, 1425, 1437, 1444, 1476, 1526, 1571, 1571, 1583, 1589, 1589, 1601, 1639, 1667, 1683, 1705, 1723, 1755, 1787, 1796, 1826, 1848, 1876, 1882, 1886, 1887, 1895, 1924, 1945, 1955, 1966, 1983, 2034, 2043, 2060, 2101, 2121, 2170, 2176, 2197, 2206, 2252, 2253, 2262, 2298, 2312, 2325, 2367, 2375, 2382, 2383, 2390, 2404, 2421, 2426, 2495, 2530, 2561, 2572, 2573, 2579, 2585, 2611, 2618, 2650, 2747, 2748, 2800, 2808, 2815, 2841, 2858, 2875, 2882, 2897, 2929, 2972, 2972, 2974, 3013, 3020, 3025, 3029, 3048, 3054, 3076, 3080, 3113, 3119, 3128, 3161, 3226, 3264, 3302, 3341, 3375, 3375, 3424, 3440, 3458, 3467, 3482, 3493, 3499, 3506, 3518, 3524, 3566, 3566, 3567, 3569, 3648, 3661, 3697, 3698, 3760, 3782, 3837, 3840, 3853, 3858, 3864, 3884, 3928, 3963, 3980, 3995, 4001, 4026, 4042, 4072, 4081, 4104, 4117, 4201, 4223, 4223, 4238, 4240, 4258, 4266, 4275, 4280, 4281, 4309, 4352, 4358, 4376, 4389, 4400, 4408, 4409, 4443, 4498, 4509, 4511, 4518, 4542, 4544, 4551, 4552, 4557, 4577, 4595, 4610, 4621, 4645, 4658, 4673, 4706, 4725, 4734, 4742, 4772, 4782, 4811, 4818, 4833, 4883, 4893, 4962, 4965, 4965, 4967, 4968, 4984, 5013, 5030, 5041, 5081, 5096, 5104, 5107, 5184, 5197, 5219, 5239, 5264, 5276, 5288, 5323, 5325, 5340, 5372, 5394, 5402, 5442, 5449, 5485, 5486, 5538, 5579, 5606, 5613, 5619, 5633, 5670, 5672, 5672, 5701, 5715, 5750, 5860, 5902, 5912, 5922, 5929, 5941, 5956, 5963, 5967, 6016, 6016, 6027, 6032, 6058, 6085, 6122, 6124, 6128, 6133, 6146, 6148, 6168, 6183, 6242, 6259, 6270, 6346, 6364, 6367, 6390, 6405, 6406, 6409, 6429, 6449, 6470, 6504, 6532, 6575, 6583, 6601, 6603, 6611, 6620, 6627, 6637, 6647, 6684, 6692, 6752, 6765, 6771, 6778, 6813, 6815, 6823, 6851, 6863, 6905, 6915, 6921, 7031, 7037, 7071, 7077, 7090, 7097, 7098, 7112, 7126, 7137, 7149, 7217, 7273, 7289, 7301, 7313, 7316, 7329, 7343, 7380, 7424, 7426, 7435, 7438, 7445, 7483, 7520, 7533, 7613, 7620, 7628, 7657, 7662, 7668, 7675, 7693, 7720, 7759, 7779, 7784, 7823, 7836, 7845, 7854, 7861, 7870, 7888, 7899, 7915, 7916, 7922, 7933, 7937, 7985, 7986, 8012, 8015, 8034, 8049, 8063, 8076, 8089, 8089, 8124, 8170, 8173, 8193, 8198, 8215, 8243, 8250, 8302, 8322, 8327, 8337, 8361, 8366, 8383, 8388, 8391, 8396, 8406, 8422, 8446, 8447, 8462, 8462, 8510, 8524, 8527, 8539, 8540, 8559, 8579, 8601, 8640, 8696, 8741, 8754, 8766, 8781, 8805, 8824, 8829, 8843, 8849, 8865, 8867, 8893, 8897, 8898, 8990, 9044, 9065, 9066, 9067, 9110, 9159, 9184, 9263, 9285, 9294, 9321, 9363, 9375, 9380, 9400, 9406, 9410, 9418, 9432, 9460, 9488, 9490, 9503, 9526, 9537, 9548, 9551, 9566, 9593, 9646, 9650, 9664, 9664, 9718, 9734, 9776, 9801, 9839, 9851, 9898, 9901, 9931, 9943, 9951, 9981]\n",
            "Tiempo transcurrido (en segundos): 0.0018548965454101562\n"
          ],
          "name": "stdout"
        }
      ]
    },
    {
      "cell_type": "markdown",
      "metadata": {
        "id": "80L1_Z1azD3J",
        "colab_type": "text"
      },
      "source": [
        "### Ejercicio 2: Cambio de monedas"
      ]
    },
    {
      "cell_type": "markdown",
      "metadata": {
        "id": "aeNMgHvBVxBT",
        "colab_type": "text"
      },
      "source": [
        "En este ejercicio vamos a realizar un algoritmo que devuelva el cambio de monedas y para ello utilizaremos la técnica del **algoritmo voraz**."
      ]
    },
    {
      "cell_type": "code",
      "metadata": {
        "id": "aVvlS7Kqy3Xv",
        "colab_type": "code",
        "colab": {}
      },
      "source": [
        "# Ejercicio 2: Cambio de monedas\n",
        "\n",
        "SISTEMA= [25, 10, 5, 1] # sistema de monedas\n",
        "\n",
        "@calcular_tiempo\n",
        "def cambio_monedas(CANTIDAD,SISTEMA):\n",
        "  SOLUCION = [0 for i in range(len(SISTEMA)) ] # la solución es un vector con las mismas componentes que el sistema definido\n",
        "  VALOR_ACUMULADO = 0 # inicializo el valor acumulado a cero\n",
        "  \n",
        "  for i in range(len(SISTEMA)):\n",
        "    monedas = int((CANTIDAD - VALOR_ACUMULADO)/SISTEMA[i])\n",
        "    SOLUCION[i] = monedas\n",
        "    VALOR_ACUMULADO = VALOR_ACUMULADO + monedas*SISTEMA[i]\n",
        "    \n",
        "    if VALOR_ACUMULADO == CANTIDAD:\n",
        "      return SOLUCION\n",
        "  \n",
        "\n"
      ],
      "execution_count": 0,
      "outputs": []
    },
    {
      "cell_type": "code",
      "metadata": {
        "id": "d1K6Z5xu3PMy",
        "colab_type": "code",
        "outputId": "5b1eb80e-063f-4fc8-fa62-0f11fb4d66f1",
        "colab": {
          "base_uri": "https://localhost:8080/",
          "height": 51
        }
      },
      "source": [
        "# Ejemplo\n",
        "\n",
        "print(cambio_monedas(23,SISTEMA))"
      ],
      "execution_count": 23,
      "outputs": [
        {
          "output_type": "stream",
          "text": [
            "Tiempo transcurrido (en segundos): 9.5367431640625e-06\n",
            "[0, 2, 0, 3]\n"
          ],
          "name": "stdout"
        }
      ]
    },
    {
      "cell_type": "code",
      "metadata": {
        "id": "DzoUprOr3VxL",
        "colab_type": "code",
        "outputId": "da62fc1d-08e5-45aa-d2a0-caace1114315",
        "colab": {
          "base_uri": "https://localhost:8080/",
          "height": 51
        }
      },
      "source": [
        "print(cambio_monedas(123,SISTEMA))"
      ],
      "execution_count": 24,
      "outputs": [
        {
          "output_type": "stream",
          "text": [
            "Tiempo transcurrido (en segundos): 4.0531158447265625e-05\n",
            "[4, 2, 0, 3]\n"
          ],
          "name": "stdout"
        }
      ]
    },
    {
      "cell_type": "markdown",
      "metadata": {
        "id": "v83DQ3n9WKWL",
        "colab_type": "text"
      },
      "source": [
        "Implementamos otro algoritmo para el mismo ejercicio utilizando divmod."
      ]
    },
    {
      "cell_type": "code",
      "metadata": {
        "id": "swG-lUyE8y0g",
        "colab_type": "code",
        "outputId": "c65ff975-89f9-4a64-a030-b8f8d58d73fc",
        "colab": {
          "base_uri": "https://localhost:8080/",
          "height": 136
        }
      },
      "source": [
        "\n",
        "billetes=(500, 200, 100, 50, 20, 10, 5, 2,1)\n",
        "monedas={}\n",
        "valor = int( input(\"Euros: \"))\n",
        "\n",
        "for b in billetes:\n",
        "  monedas[b],valor=divmod(valor,b)\n",
        "else:\n",
        "  monedas[\"céntimos\"]=valor\n",
        "\n",
        "for b in billetes:\n",
        "  if monedas[b]>0:\n",
        "    print ('%d de %d' % (monedas[b],b))\n",
        "else:\n",
        "  print ('%d céntimos' % monedas[\"céntimos\"])"
      ],
      "execution_count": 36,
      "outputs": [
        {
          "output_type": "stream",
          "text": [
            "Euros: 1860\n",
            "3 de 500\n",
            "1 de 200\n",
            "1 de 100\n",
            "1 de 50\n",
            "1 de 10\n",
            "0 céntimos\n"
          ],
          "name": "stdout"
        }
      ]
    },
    {
      "cell_type": "code",
      "metadata": {
        "id": "lzvRej8D8y6F",
        "colab_type": "code",
        "colab": {}
      },
      "source": [
        ""
      ],
      "execution_count": 0,
      "outputs": []
    },
    {
      "cell_type": "markdown",
      "metadata": {
        "id": "PIRBoTe64mMG",
        "colab_type": "text"
      },
      "source": [
        "### Ejercicio 3: Algoritmo vuelta atrás para resolver el problema de las N reinas"
      ]
    },
    {
      "cell_type": "markdown",
      "metadata": {
        "id": "euttHQH_XfIC",
        "colab_type": "text"
      },
      "source": [
        "Resolvemos el problema de las N-reinas."
      ]
    },
    {
      "cell_type": "code",
      "metadata": {
        "id": "JemXGUCN3sCa",
        "colab_type": "code",
        "colab": {}
      },
      "source": [
        "\n",
        "def es_prometedora(solucion,etapa):\n",
        "  for i in range(etapa+1):\n",
        "    if solucion.count(solucion[i]) >1:\n",
        "      return False\n",
        "    for j in range(i+1,etapa+1):\n",
        "      if abs(i-j) == abs(solucion[i]-solucion[j]):\n",
        "        return False\n",
        "  return True\n",
        "\n",
        "\n",
        "def reinas(N, solucion=[], etapa=0):\n",
        "  \n",
        "  if len(solucion) == 0:\n",
        "      solucion=[0 for i in range(N)]\n",
        "      \n",
        "  for i in range(1, N+1):\n",
        "      solucion[etapa] = i\n",
        "      \n",
        "      if es_prometedora(solucion,etapa):\n",
        "        \n",
        "        if etapa == N-1:\n",
        "          print(\"La solucion es \", solucion)\n",
        "        else:\n",
        "          reinas(N,solucion,etapa+1)\n",
        "      else:\n",
        "         None\n",
        "\n"
      ],
      "execution_count": 0,
      "outputs": []
    },
    {
      "cell_type": "code",
      "metadata": {
        "id": "xW6NK6YKDJw3",
        "colab_type": "code",
        "outputId": "c978d14d-23b5-40aa-e064-d4a604b2b6c1",
        "colab": {
          "base_uri": "https://localhost:8080/",
          "height": 85
        }
      },
      "source": [
        "reinas(8)"
      ],
      "execution_count": 44,
      "outputs": [
        {
          "output_type": "stream",
          "text": [
            "La solucion es  [4, 7, 5, 2, 6, 1, 3, 8]\n",
            "La solucion es  [5, 7, 2, 6, 3, 1, 4, 8]\n",
            "La solucion es  [6, 3, 5, 7, 1, 4, 2, 8]\n",
            "La solucion es  [6, 4, 7, 1, 3, 5, 2, 8]\n"
          ],
          "name": "stdout"
        }
      ]
    },
    {
      "cell_type": "code",
      "metadata": {
        "id": "KzjsUZRwDLb5",
        "colab_type": "code",
        "colab": {}
      },
      "source": [
        ""
      ],
      "execution_count": 0,
      "outputs": []
    },
    {
      "cell_type": "markdown",
      "metadata": {
        "id": "rnG49fJPGeIH",
        "colab_type": "text"
      },
      "source": [
        "### Ejercicio Propuesto: Encontrar los dos puntos más cercanos"
      ]
    },
    {
      "cell_type": "markdown",
      "metadata": {
        "id": "u1mZYsv4fGSd",
        "colab_type": "text"
      },
      "source": [
        "Trataremos de buscar el par de puntos más cercanos entre sí."
      ]
    },
    {
      "cell_type": "markdown",
      "metadata": {
        "id": "SoLW_9-pry1H",
        "colab_type": "text"
      },
      "source": [
        "#### Caso 1-D"
      ]
    },
    {
      "cell_type": "code",
      "metadata": {
        "id": "cIwKOeIjrsVt",
        "colab_type": "code",
        "colab": {}
      },
      "source": [
        "a= [1.2,2.9,3.1,4.0,5.7]"
      ],
      "execution_count": 0,
      "outputs": []
    },
    {
      "cell_type": "code",
      "metadata": {
        "id": "eB6396WXricX",
        "colab_type": "code",
        "colab": {}
      },
      "source": [
        "def proximo(a):\n",
        "    mindist = a[0] #declaramos distancia mínima\n",
        "    tupla = []\n",
        "    for i in range (len(a)): \n",
        "        for j in range (len(a)): #recorre toda la lista\n",
        "            if j == 0: #evitamos la comparación consigo mismo\n",
        "                j+=1\n",
        "            if j!=i: \n",
        "                p = a[i]\n",
        "                q = a[j]\n",
        "            if p > q: # evita distancia negativa\n",
        "                p, q = q, p\n",
        "                \n",
        "            if (q-p) < mindist: # busca si es la menor\n",
        "                mindist = (q-p) # guarda distancia\n",
        "                tupla = [p,q] # y guarda el par correspondiente\n",
        "                \n",
        "    return tupla"
      ],
      "execution_count": 0,
      "outputs": []
    },
    {
      "cell_type": "code",
      "metadata": {
        "id": "mLJxki1SruD2",
        "colab_type": "code",
        "outputId": "a09f65de-94a2-48b8-8d58-b18d2ca3beb8",
        "colab": {
          "base_uri": "https://localhost:8080/",
          "height": 34
        }
      },
      "source": [
        "# Comprobamos su funcionamiento\n",
        "proximo(a)"
      ],
      "execution_count": 60,
      "outputs": [
        {
          "output_type": "execute_result",
          "data": {
            "text/plain": [
              "[2.9, 3.1]"
            ]
          },
          "metadata": {
            "tags": []
          },
          "execution_count": 60
        }
      ]
    },
    {
      "cell_type": "markdown",
      "metadata": {
        "id": "UrI1H5Yaky-j",
        "colab_type": "text"
      },
      "source": [
        "#### Caso 2-D"
      ]
    },
    {
      "cell_type": "markdown",
      "metadata": {
        "id": "2GcHDlgafrBB",
        "colab_type": "text"
      },
      "source": [
        "Introducimos una lista con pares de puntos:"
      ]
    },
    {
      "cell_type": "code",
      "metadata": {
        "id": "W1i6wyIyfluL",
        "colab_type": "code",
        "colab": {}
      },
      "source": [
        "puntos = [(8.5, 10.5), (10.2, 15.1), (20.7, 11.2)]"
      ],
      "execution_count": 0,
      "outputs": []
    },
    {
      "cell_type": "markdown",
      "metadata": {
        "id": "_Bzo2zRultU8",
        "colab_type": "text"
      },
      "source": [
        "Utilizaremos la técnica Divide y Vencerás"
      ]
    },
    {
      "cell_type": "code",
      "metadata": {
        "id": "Q_3TLXt5f5Ws",
        "colab_type": "code",
        "colab": {
          "base_uri": "https://localhost:8080/",
          "height": 34
        },
        "outputId": "87a604da-e533-4470-f54c-b68577792714"
      },
      "source": [
        "import math\n",
        "\n",
        "\n",
        "# Iniciamos a infinito\n",
        "min_distance = float('infinity') \n",
        "min_pair = None \n",
        "\n",
        "# bucle \n",
        "length = len(puntos) \n",
        "for i in range(length): \n",
        "    for j in range(i+1, length): \n",
        "      point1 = puntos[i] \n",
        "      point2 = puntos[j] \n",
        "\n",
        "    if math.hypot(point1[0] - point2[0], point1[1] - point2[0]) < min_distance: \n",
        "      min_pair = [point1, point2]\n",
        "print(min_pair)"
      ],
      "execution_count": 52,
      "outputs": [
        {
          "output_type": "stream",
          "text": [
            "[(10.2, 15.1), (20.7, 11.2)]\n"
          ],
          "name": "stdout"
        }
      ]
    },
    {
      "cell_type": "code",
      "metadata": {
        "id": "EWQoUzGPjp59",
        "colab_type": "code",
        "colab": {}
      },
      "source": [
        "# Creemos una función\n",
        "\n",
        "import math\n",
        "\n",
        "def par_cercano(puntos):\n",
        "  \n",
        "  # Iniciamos distancia mínima infinito\n",
        "  # Ver wikipedia problema par más cercano\n",
        "  min_distance = float('infinity') \n",
        "  min_pair = None \n",
        "\n",
        "  # bucle \n",
        "  length = len(puntos) \n",
        "  for i in range(length): \n",
        "      for j in range(i+1, length): \n",
        "        point1 = puntos[i] \n",
        "        point2 = puntos[j] \n",
        "  \n",
        "      if math.hypot(point1[0] - point2[0], point1[1] - point2[0]) < min_distance: \n",
        "        min_pair = [point1, point2]\n",
        "  print(min_pair)\n",
        "  return"
      ],
      "execution_count": 0,
      "outputs": []
    },
    {
      "cell_type": "code",
      "metadata": {
        "id": "RNdLHkMukGbM",
        "colab_type": "code",
        "colab": {
          "base_uri": "https://localhost:8080/",
          "height": 34
        },
        "outputId": "1f187248-e3a1-4a85-c903-d00fe9c0c38c"
      },
      "source": [
        "#Comprobamos su funcionamiento\n",
        "par_cercano(puntos)"
      ],
      "execution_count": 55,
      "outputs": [
        {
          "output_type": "stream",
          "text": [
            "[(10.2, 15.1), (20.7, 11.2)]\n"
          ],
          "name": "stdout"
        }
      ]
    }
  ]
}