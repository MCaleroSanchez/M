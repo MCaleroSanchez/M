{
  "nbformat": 4,
  "nbformat_minor": 0,
  "metadata": {
    "colab": {
      "name": "Melanie_Calero_Sanchez - AG1.ipynb",
      "version": "0.3.2",
      "provenance": [],
      "include_colab_link": true
    },
    "kernelspec": {
      "name": "python3",
      "display_name": "Python 3"
    }
  },
  "cells": [
    {
      "cell_type": "markdown",
      "metadata": {
        "id": "view-in-github",
        "colab_type": "text"
      },
      "source": [
        "<a href=\"https://colab.research.google.com/github/MCaleroSanchez/M/blob/master/Melanie_Calero_Sanchez_AG1.ipynb\" target=\"_parent\"><img src=\"https://colab.research.google.com/assets/colab-badge.svg\" alt=\"Open In Colab\"/></a>"
      ]
    },
    {
      "cell_type": "markdown",
      "metadata": {
        "id": "APRk-wlglPFy",
        "colab_type": "text"
      },
      "source": [
        "Actividad Guiada 1 - AG1\n",
        "Melanie Calero Sánchez\n",
        "\n",
        "https://colab.research.google.com/drive/1Z3rbHtdpd3IZTRA8OuegAgFJd-G-U-7J#scrollTo=APRk-wlglPFy&line=3&uniqifier=1\n",
        "\n",
        "https://github.com/MCaleroSanchez/03MAIR---Algoritmos-de-Optimizacion---2019/tree/master/AG1\n"
      ]
    },
    {
      "cell_type": "code",
      "metadata": {
        "id": "2k1cvfTtmGvE",
        "colab_type": "code",
        "colab": {}
      },
      "source": [
        "# Decorador para medir tiempos\n",
        "# by Ricardo\n",
        "from functools import wraps\n",
        "from time import time\n",
        "\n",
        "def calcular_tiempo(f):\n",
        "    @wraps(f)\n",
        "    def cronometro(*args, **kwargs):\n",
        "        t_inicial = time()\n",
        "        salida = f(*args, **kwargs)\n",
        "        t_final = time()\n",
        "        print('Tiempo transcurrido (en segundos): {}'.format(t_final - t_inicial))\n",
        "        return salida\n",
        "    return cronometro"
      ],
      "execution_count": 0,
      "outputs": []
    },
    {
      "cell_type": "markdown",
      "metadata": {
        "id": "x27OZ37eoYvA",
        "colab_type": "text"
      },
      "source": [
        "### Ejercicio 1: Ordenar lista mediante Algoritmo divide y vencerás"
      ]
    },
    {
      "cell_type": "code",
      "metadata": {
        "id": "acdQumjzoYJk",
        "colab_type": "code",
        "colab": {}
      },
      "source": [
        "A = [9187, 244, 4054, 9222, 8373, 4993, 5265, 5470, 4519, 7182, 2035, 3506, 4337, 7580, 2554, 2824, 8357, 4447, 7379]"
      ],
      "execution_count": 0,
      "outputs": []
    },
    {
      "cell_type": "code",
      "metadata": {
        "id": "CiVDdUA8pFMx",
        "colab_type": "code",
        "colab": {}
      },
      "source": [
        "# A = [254]"
      ],
      "execution_count": 0,
      "outputs": []
    },
    {
      "cell_type": "code",
      "metadata": {
        "id": "3L_JWhKNoJ8i",
        "colab_type": "code",
        "colab": {}
      },
      "source": [
        "# Ejercicio 1: Quick sort\n",
        "\n",
        "\n",
        "def quick_sort(A):\n",
        "  if len(A)<=1:\n",
        "    return A\n",
        "  if len(A)==2:\n",
        "    return [min(A),max(A)]\n",
        "  \n",
        "  pivote = (A[0] + A[1] + A[2])/3\n",
        "  \n",
        "  IZQ = []\n",
        "  DER = []\n",
        "  for n in A:\n",
        "    if n < pivote:\n",
        "      IZQ.append(n)\n",
        "    else:\n",
        "      DER.append(n)\n",
        "      \n",
        "  return quick_sort(IZQ) + quick_sort(DER)\n",
        "  # return list(quick_sort(IZQ)) + list(quick_sort(DER)) es el return original propuesto\n",
        "  \n",
        "\n",
        "\n",
        "@calcular_tiempo\n",
        "def ordenar(A):\n",
        "  print(quick_sort(A))\n",
        "  \n"
      ],
      "execution_count": 0,
      "outputs": []
    },
    {
      "cell_type": "code",
      "metadata": {
        "id": "3ySsP5PJpHsv",
        "colab_type": "code",
        "colab": {
          "base_uri": "https://localhost:8080/",
          "height": 51
        },
        "outputId": "0eddc894-7103-43e1-9392-af7ba4299024"
      },
      "source": [
        "ordenar(A)"
      ],
      "execution_count": 11,
      "outputs": [
        {
          "output_type": "stream",
          "text": [
            "[244, 2035, 2554, 2824, 3506, 4054, 4337, 4447, 4519, 4993, 5265, 5470, 7182, 7379, 7580, 8357, 8373, 9187, 9222]\n",
            "Tiempo transcurrido (en segundos): 0.00029206275939941406\n"
          ],
          "name": "stdout"
        }
      ]
    },
    {
      "cell_type": "code",
      "metadata": {
        "id": "Ywq5EFhFv3kj",
        "colab_type": "code",
        "colab": {}
      },
      "source": [
        "# Creamos una mayor lista\n",
        "\n",
        "import random\n",
        "B = list(map(lambda x: random.randrange(1,10000),range(1,500)))"
      ],
      "execution_count": 0,
      "outputs": []
    },
    {
      "cell_type": "code",
      "metadata": {
        "id": "2VaEp-X3wrnN",
        "colab_type": "code",
        "colab": {
          "base_uri": "https://localhost:8080/",
          "height": 71
        },
        "outputId": "32a55a62-4e0b-4735-cee4-98a1323b2500"
      },
      "source": [
        "ordenar(B)"
      ],
      "execution_count": 21,
      "outputs": [
        {
          "output_type": "stream",
          "text": [
            "[24, 47, 76, 79, 172, 198, 286, 305, 310, 315, 316, 332, 360, 383, 400, 405, 412, 419, 466, 490, 505, 522, 535, 564, 654, 661, 762, 872, 874, 884, 923, 934, 944, 950, 960, 994, 1023, 1035, 1043, 1074, 1111, 1112, 1162, 1168, 1183, 1206, 1215, 1218, 1233, 1256, 1261, 1323, 1342, 1370, 1372, 1399, 1470, 1480, 1516, 1520, 1545, 1557, 1584, 1587, 1598, 1648, 1675, 1712, 1725, 1769, 1776, 1776, 1777, 1783, 1803, 1833, 1833, 1835, 1887, 1896, 1905, 1936, 1971, 1977, 1985, 2085, 2101, 2114, 2119, 2149, 2153, 2184, 2204, 2246, 2273, 2282, 2319, 2338, 2357, 2373, 2405, 2417, 2419, 2460, 2461, 2501, 2515, 2570, 2575, 2580, 2605, 2636, 2657, 2660, 2672, 2687, 2694, 2733, 2774, 2774, 2809, 2815, 2831, 2831, 2832, 2837, 2843, 2880, 2886, 2893, 2898, 2908, 2913, 2916, 2931, 2941, 2988, 3014, 3026, 3071, 3077, 3079, 3087, 3130, 3131, 3165, 3169, 3184, 3210, 3226, 3238, 3240, 3257, 3284, 3287, 3289, 3300, 3304, 3313, 3327, 3332, 3352, 3372, 3378, 3385, 3403, 3408, 3413, 3419, 3475, 3482, 3494, 3501, 3557, 3561, 3577, 3583, 3608, 3646, 3657, 3684, 3696, 3709, 3731, 3740, 3746, 3780, 3810, 3813, 3891, 3907, 3916, 3951, 3952, 3961, 3969, 3982, 3993, 4036, 4042, 4050, 4078, 4081, 4081, 4126, 4146, 4150, 4162, 4179, 4200, 4237, 4243, 4303, 4306, 4324, 4348, 4363, 4365, 4394, 4419, 4428, 4432, 4437, 4455, 4482, 4501, 4503, 4509, 4521, 4563, 4564, 4567, 4568, 4569, 4583, 4603, 4609, 4615, 4621, 4628, 4641, 4686, 4698, 4700, 4708, 4726, 4744, 4827, 4851, 4851, 4857, 4873, 4884, 4888, 4896, 4920, 4920, 4933, 4947, 4956, 4965, 4978, 4980, 5052, 5073, 5127, 5154, 5195, 5225, 5229, 5259, 5262, 5267, 5320, 5323, 5340, 5347, 5366, 5389, 5422, 5436, 5462, 5472, 5484, 5515, 5562, 5563, 5567, 5587, 5590, 5650, 5654, 5661, 5685, 5702, 5703, 5718, 5749, 5775, 5780, 5794, 5843, 5849, 5892, 5984, 5989, 5992, 6050, 6067, 6134, 6249, 6275, 6283, 6303, 6363, 6385, 6387, 6408, 6417, 6488, 6538, 6556, 6570, 6575, 6590, 6644, 6646, 6654, 6670, 6684, 6777, 6839, 6850, 6884, 6886, 6892, 6905, 6914, 6939, 7013, 7039, 7050, 7063, 7079, 7099, 7099, 7102, 7109, 7114, 7143, 7166, 7199, 7206, 7219, 7232, 7232, 7243, 7248, 7265, 7272, 7344, 7348, 7405, 7424, 7429, 7431, 7431, 7433, 7440, 7451, 7486, 7504, 7524, 7532, 7546, 7579, 7586, 7665, 7675, 7676, 7688, 7714, 7725, 7770, 7808, 7809, 7816, 7844, 7851, 7853, 7904, 7910, 7950, 7954, 7958, 8014, 8038, 8041, 8055, 8071, 8076, 8108, 8148, 8170, 8172, 8176, 8187, 8191, 8195, 8202, 8315, 8320, 8332, 8340, 8347, 8400, 8432, 8458, 8474, 8477, 8484, 8617, 8625, 8628, 8635, 8701, 8702, 8704, 8733, 8739, 8745, 8777, 8787, 8789, 8821, 8824, 8829, 8833, 8834, 8856, 8857, 8866, 8973, 8990, 9032, 9034, 9049, 9064, 9116, 9120, 9126, 9150, 9150, 9171, 9182, 9183, 9251, 9281, 9296, 9298, 9308, 9340, 9347, 9366, 9401, 9404, 9425, 9458, 9478, 9481, 9501, 9521, 9530, 9533, 9540, 9540, 9553, 9556, 9568, 9571, 9595, 9635, 9671, 9694, 9704, 9708, 9780, 9829, 9830, 9844, 9850, 9851, 9881, 9893, 9950, 9950, 9957, 9960, 9994]\n",
            "Tiempo transcurrido (en segundos): 0.0020711421966552734\n"
          ],
          "name": "stdout"
        }
      ]
    },
    {
      "cell_type": "code",
      "metadata": {
        "id": "n-HE-rcMw6em",
        "colab_type": "code",
        "colab": {}
      },
      "source": [
        "# Añadimos otro modelo de ordenación y estudiamos la comparativa de tiempos\n",
        "\n",
        "@calcular_tiempo\n",
        "def bubbleSort(arr):\n",
        "  n = len(arr)\n",
        "  for i in range(n):\n",
        "    for j in range(0,n-i-1):\n",
        "      if arr[j]> arr[j+1]:\n",
        "        arr[j],arr[j+1] = arr[j+1],arr[j]\n",
        "  return A"
      ],
      "execution_count": 0,
      "outputs": []
    },
    {
      "cell_type": "code",
      "metadata": {
        "id": "sNwkuejbyi3q",
        "colab_type": "code",
        "colab": {
          "base_uri": "https://localhost:8080/",
          "height": 357
        },
        "outputId": "6d369aa4-e62d-4456-a0c0-a80408dff227"
      },
      "source": [
        "bubbleSort(A)"
      ],
      "execution_count": 26,
      "outputs": [
        {
          "output_type": "stream",
          "text": [
            "Tiempo transcurrido (en segundos): 3.62396240234375e-05\n"
          ],
          "name": "stdout"
        },
        {
          "output_type": "execute_result",
          "data": {
            "text/plain": [
              "[244,\n",
              " 2035,\n",
              " 2554,\n",
              " 2824,\n",
              " 3506,\n",
              " 4054,\n",
              " 4337,\n",
              " 4447,\n",
              " 4519,\n",
              " 4993,\n",
              " 5265,\n",
              " 5470,\n",
              " 7182,\n",
              " 7379,\n",
              " 7580,\n",
              " 8357,\n",
              " 8373,\n",
              " 9187,\n",
              " 9222]"
            ]
          },
          "metadata": {
            "tags": []
          },
          "execution_count": 26
        }
      ]
    },
    {
      "cell_type": "code",
      "metadata": {
        "id": "whC0PJaiywfg",
        "colab_type": "code",
        "colab": {
          "base_uri": "https://localhost:8080/",
          "height": 357
        },
        "outputId": "2580d405-1ec6-4815-8b4a-96106705ef75"
      },
      "source": [
        "bubbleSort(B)"
      ],
      "execution_count": 27,
      "outputs": [
        {
          "output_type": "stream",
          "text": [
            "Tiempo transcurrido (en segundos): 0.034017324447631836\n"
          ],
          "name": "stdout"
        },
        {
          "output_type": "execute_result",
          "data": {
            "text/plain": [
              "[244,\n",
              " 2035,\n",
              " 2554,\n",
              " 2824,\n",
              " 3506,\n",
              " 4054,\n",
              " 4337,\n",
              " 4447,\n",
              " 4519,\n",
              " 4993,\n",
              " 5265,\n",
              " 5470,\n",
              " 7182,\n",
              " 7379,\n",
              " 7580,\n",
              " 8357,\n",
              " 8373,\n",
              " 9187,\n",
              " 9222]"
            ]
          },
          "metadata": {
            "tags": []
          },
          "execution_count": 27
        }
      ]
    },
    {
      "cell_type": "code",
      "metadata": {
        "id": "mlYj2Zof5Hoc",
        "colab_type": "code",
        "colab": {}
      },
      "source": [
        "# Python program for implementation of Quicksort Sort \n",
        "  \n",
        "# This function takes last element as pivot, places \n",
        "# the pivot element at its correct position in sorted \n",
        "# array, and places all smaller (smaller than pivot) \n",
        "# to left of pivot and all greater elements to right \n",
        "# of pivot \n",
        "def partition(arr,low,high): \n",
        "    i = ( low-1 )         # index of smaller element \n",
        "    pivot = arr[high]     # pivot \n",
        "  \n",
        "    for j in range(low , high): \n",
        "  \n",
        "        # If current element is smaller than or \n",
        "        # equal to pivot \n",
        "        if   arr[j] <= pivot: \n",
        "          \n",
        "            # increment index of smaller element \n",
        "            i = i+1 \n",
        "            arr[i],arr[j] = arr[j],arr[i] \n",
        "  \n",
        "    arr[i+1],arr[high] = arr[high],arr[i+1] \n",
        "    return ( i+1 ) \n",
        "  \n",
        "# The main function that implements QuickSort \n",
        "# arr[] --> Array to be sorted, \n",
        "# low  --> Starting index, \n",
        "# high  --> Ending index \n",
        "  \n",
        "# Function to do Quick sort\n",
        "\n",
        "def quickSort(arr,low,high): \n",
        "    if low < high: \n",
        "  \n",
        "        # pi is partitioning index, arr[p] is now \n",
        "        # at right place \n",
        "        pi = partition(arr,low,high) \n",
        "  \n",
        "        # Separately sort elements before \n",
        "        # partition and after partition \n",
        "        quickSort(arr, low, pi-1) \n",
        "        quickSort(arr, pi+1, high) "
      ],
      "execution_count": 0,
      "outputs": []
    },
    {
      "cell_type": "code",
      "metadata": {
        "id": "-9l3jtQ25H1u",
        "colab_type": "code",
        "colab": {
          "base_uri": "https://localhost:8080/",
          "height": 1000
        },
        "outputId": "963bdb03-5e4a-4a33-f5fe-84c9c41ea199"
      },
      "source": [
        "# Driver code to test above \n",
        "\n",
        "\n",
        "n = len(B) \n",
        "quickSort(B,0,n-1) \n",
        "print (\"Sorted array is:\") \n",
        "for i in range(n): \n",
        "    print (\"%d\" %B[i]), "
      ],
      "execution_count": 40,
      "outputs": [
        {
          "output_type": "stream",
          "text": [
            "Sorted array is:\n",
            "24\n",
            "47\n",
            "76\n",
            "79\n",
            "172\n",
            "198\n",
            "286\n",
            "305\n",
            "310\n",
            "315\n",
            "316\n",
            "332\n",
            "360\n",
            "383\n",
            "400\n",
            "405\n",
            "412\n",
            "419\n",
            "466\n",
            "490\n",
            "505\n",
            "522\n",
            "535\n",
            "564\n",
            "654\n",
            "661\n",
            "762\n",
            "872\n",
            "874\n",
            "884\n",
            "923\n",
            "934\n",
            "944\n",
            "950\n",
            "960\n",
            "994\n",
            "1023\n",
            "1035\n",
            "1043\n",
            "1074\n",
            "1111\n",
            "1112\n",
            "1162\n",
            "1168\n",
            "1183\n",
            "1206\n",
            "1215\n",
            "1218\n",
            "1233\n",
            "1256\n",
            "1261\n",
            "1323\n",
            "1342\n",
            "1370\n",
            "1372\n",
            "1399\n",
            "1470\n",
            "1480\n",
            "1516\n",
            "1520\n",
            "1545\n",
            "1557\n",
            "1584\n",
            "1587\n",
            "1598\n",
            "1648\n",
            "1675\n",
            "1712\n",
            "1725\n",
            "1769\n",
            "1776\n",
            "1776\n",
            "1777\n",
            "1783\n",
            "1803\n",
            "1833\n",
            "1833\n",
            "1835\n",
            "1887\n",
            "1896\n",
            "1905\n",
            "1936\n",
            "1971\n",
            "1977\n",
            "1985\n",
            "2085\n",
            "2101\n",
            "2114\n",
            "2119\n",
            "2149\n",
            "2153\n",
            "2184\n",
            "2204\n",
            "2246\n",
            "2273\n",
            "2282\n",
            "2319\n",
            "2338\n",
            "2357\n",
            "2373\n",
            "2405\n",
            "2417\n",
            "2419\n",
            "2460\n",
            "2461\n",
            "2501\n",
            "2515\n",
            "2570\n",
            "2575\n",
            "2580\n",
            "2605\n",
            "2636\n",
            "2657\n",
            "2660\n",
            "2672\n",
            "2687\n",
            "2694\n",
            "2733\n",
            "2774\n",
            "2774\n",
            "2809\n",
            "2815\n",
            "2831\n",
            "2831\n",
            "2832\n",
            "2837\n",
            "2843\n",
            "2880\n",
            "2886\n",
            "2893\n",
            "2898\n",
            "2908\n",
            "2913\n",
            "2916\n",
            "2931\n",
            "2941\n",
            "2988\n",
            "3014\n",
            "3026\n",
            "3071\n",
            "3077\n",
            "3079\n",
            "3087\n",
            "3130\n",
            "3131\n",
            "3165\n",
            "3169\n",
            "3184\n",
            "3210\n",
            "3226\n",
            "3238\n",
            "3240\n",
            "3257\n",
            "3284\n",
            "3287\n",
            "3289\n",
            "3300\n",
            "3304\n",
            "3313\n",
            "3327\n",
            "3332\n",
            "3352\n",
            "3372\n",
            "3378\n",
            "3385\n",
            "3403\n",
            "3408\n",
            "3413\n",
            "3419\n",
            "3475\n",
            "3482\n",
            "3494\n",
            "3501\n",
            "3557\n",
            "3561\n",
            "3577\n",
            "3583\n",
            "3608\n",
            "3646\n",
            "3657\n",
            "3684\n",
            "3696\n",
            "3709\n",
            "3731\n",
            "3740\n",
            "3746\n",
            "3780\n",
            "3810\n",
            "3813\n",
            "3891\n",
            "3907\n",
            "3916\n",
            "3951\n",
            "3952\n",
            "3961\n",
            "3969\n",
            "3982\n",
            "3993\n",
            "4036\n",
            "4042\n",
            "4050\n",
            "4078\n",
            "4081\n",
            "4081\n",
            "4126\n",
            "4146\n",
            "4150\n",
            "4162\n",
            "4179\n",
            "4200\n",
            "4237\n",
            "4243\n",
            "4303\n",
            "4306\n",
            "4324\n",
            "4348\n",
            "4363\n",
            "4365\n",
            "4394\n",
            "4419\n",
            "4428\n",
            "4432\n",
            "4437\n",
            "4455\n",
            "4482\n",
            "4501\n",
            "4503\n",
            "4509\n",
            "4521\n",
            "4563\n",
            "4564\n",
            "4567\n",
            "4568\n",
            "4569\n",
            "4583\n",
            "4603\n",
            "4609\n",
            "4615\n",
            "4621\n",
            "4628\n",
            "4641\n",
            "4686\n",
            "4698\n",
            "4700\n",
            "4708\n",
            "4726\n",
            "4744\n",
            "4827\n",
            "4851\n",
            "4851\n",
            "4857\n",
            "4873\n",
            "4884\n",
            "4888\n",
            "4896\n",
            "4920\n",
            "4920\n",
            "4933\n",
            "4947\n",
            "4956\n",
            "4965\n",
            "4978\n",
            "4980\n",
            "5052\n",
            "5073\n",
            "5127\n",
            "5154\n",
            "5195\n",
            "5225\n",
            "5229\n",
            "5259\n",
            "5262\n",
            "5267\n",
            "5320\n",
            "5323\n",
            "5340\n",
            "5347\n",
            "5366\n",
            "5389\n",
            "5422\n",
            "5436\n",
            "5462\n",
            "5472\n",
            "5484\n",
            "5515\n",
            "5562\n",
            "5563\n",
            "5567\n",
            "5587\n",
            "5590\n",
            "5650\n",
            "5654\n",
            "5661\n",
            "5685\n",
            "5702\n",
            "5703\n",
            "5718\n",
            "5749\n",
            "5775\n",
            "5780\n",
            "5794\n",
            "5843\n",
            "5849\n",
            "5892\n",
            "5984\n",
            "5989\n",
            "5992\n",
            "6050\n",
            "6067\n",
            "6134\n",
            "6249\n",
            "6275\n",
            "6283\n",
            "6303\n",
            "6363\n",
            "6385\n",
            "6387\n",
            "6408\n",
            "6417\n",
            "6488\n",
            "6538\n",
            "6556\n",
            "6570\n",
            "6575\n",
            "6590\n",
            "6644\n",
            "6646\n",
            "6654\n",
            "6670\n",
            "6684\n",
            "6777\n",
            "6839\n",
            "6850\n",
            "6884\n",
            "6886\n",
            "6892\n",
            "6905\n",
            "6914\n",
            "6939\n",
            "7013\n",
            "7039\n",
            "7050\n",
            "7063\n",
            "7079\n",
            "7099\n",
            "7099\n",
            "7102\n",
            "7109\n",
            "7114\n",
            "7143\n",
            "7166\n",
            "7199\n",
            "7206\n",
            "7219\n",
            "7232\n",
            "7232\n",
            "7243\n",
            "7248\n",
            "7265\n",
            "7272\n",
            "7344\n",
            "7348\n",
            "7405\n",
            "7424\n",
            "7429\n",
            "7431\n",
            "7431\n",
            "7433\n",
            "7440\n",
            "7451\n",
            "7486\n",
            "7504\n",
            "7524\n",
            "7532\n",
            "7546\n",
            "7579\n",
            "7586\n",
            "7665\n",
            "7675\n",
            "7676\n",
            "7688\n",
            "7714\n",
            "7725\n",
            "7770\n",
            "7808\n",
            "7809\n",
            "7816\n",
            "7844\n",
            "7851\n",
            "7853\n",
            "7904\n",
            "7910\n",
            "7950\n",
            "7954\n",
            "7958\n",
            "8014\n",
            "8038\n",
            "8041\n",
            "8055\n",
            "8071\n",
            "8076\n",
            "8108\n",
            "8148\n",
            "8170\n",
            "8172\n",
            "8176\n",
            "8187\n",
            "8191\n",
            "8195\n",
            "8202\n",
            "8315\n",
            "8320\n",
            "8332\n",
            "8340\n",
            "8347\n",
            "8400\n",
            "8432\n",
            "8458\n",
            "8474\n",
            "8477\n",
            "8484\n",
            "8617\n",
            "8625\n",
            "8628\n",
            "8635\n",
            "8701\n",
            "8702\n",
            "8704\n",
            "8733\n",
            "8739\n",
            "8745\n",
            "8777\n",
            "8787\n",
            "8789\n",
            "8821\n",
            "8824\n",
            "8829\n",
            "8833\n",
            "8834\n",
            "8856\n",
            "8857\n",
            "8866\n",
            "8973\n",
            "8990\n",
            "9032\n",
            "9034\n",
            "9049\n",
            "9064\n",
            "9116\n",
            "9120\n",
            "9126\n",
            "9150\n",
            "9150\n",
            "9171\n",
            "9182\n",
            "9183\n",
            "9251\n",
            "9281\n",
            "9296\n",
            "9298\n",
            "9308\n",
            "9340\n",
            "9347\n",
            "9366\n",
            "9401\n",
            "9404\n",
            "9425\n",
            "9458\n",
            "9478\n",
            "9481\n",
            "9501\n",
            "9521\n",
            "9530\n",
            "9533\n",
            "9540\n",
            "9540\n",
            "9553\n",
            "9556\n",
            "9568\n",
            "9571\n",
            "9595\n",
            "9635\n",
            "9671\n",
            "9694\n",
            "9704\n",
            "9708\n",
            "9780\n",
            "9829\n",
            "9830\n",
            "9844\n",
            "9850\n",
            "9851\n",
            "9881\n",
            "9893\n",
            "9950\n",
            "9950\n",
            "9957\n",
            "9960\n",
            "9994\n"
          ],
          "name": "stdout"
        }
      ]
    },
    {
      "cell_type": "code",
      "metadata": {
        "id": "6SMptu1m5H_T",
        "colab_type": "code",
        "colab": {}
      },
      "source": [
        ""
      ],
      "execution_count": 0,
      "outputs": []
    },
    {
      "cell_type": "markdown",
      "metadata": {
        "id": "80L1_Z1azD3J",
        "colab_type": "text"
      },
      "source": [
        "### Ejercicio 2: Cambio de monedas mediante Algoritmo Voraz"
      ]
    },
    {
      "cell_type": "code",
      "metadata": {
        "id": "aVvlS7Kqy3Xv",
        "colab_type": "code",
        "colab": {}
      },
      "source": [
        "# Definimos sistema de monedas:\n",
        "SISTEMA= [25, 10, 5, 1]\n",
        "\n",
        "@calcular_tiempo\n",
        "def cambio_monedas(CANTIDAD,SISTEMA):\n",
        "  SOLUCION = [0 for i in range(len(SISTEMA)) ]\n",
        "  VALOR_ACUMULADO = 0\n",
        "  \n",
        "  for i in range(len(SISTEMA)):\n",
        "    monedas = int((CANTIDAD - VALOR_ACUMULADO)/SISTEMA[i])\n",
        "    SOLUCION[i] = monedas\n",
        "    VALOR_ACUMULADO = VALOR_ACUMULADO + monedas*SISTEMA[i]\n",
        "    \n",
        "    if VALOR_ACUMULADO == CANTIDAD:\n",
        "      return SOLUCION\n",
        "  \n",
        "\n"
      ],
      "execution_count": 0,
      "outputs": []
    },
    {
      "cell_type": "code",
      "metadata": {
        "id": "d1K6Z5xu3PMy",
        "colab_type": "code",
        "colab": {
          "base_uri": "https://localhost:8080/",
          "height": 51
        },
        "outputId": "f729f377-4aab-414a-e591-3d0081e48d0b"
      },
      "source": [
        "# Ejemplo\n",
        "\n",
        "print(cambio_monedas(23,SISTEMA))"
      ],
      "execution_count": 31,
      "outputs": [
        {
          "output_type": "stream",
          "text": [
            "Tiempo transcurrido (en segundos): 1.1682510375976562e-05\n",
            "[0, 2, 0, 3]\n"
          ],
          "name": "stdout"
        }
      ]
    },
    {
      "cell_type": "code",
      "metadata": {
        "id": "DzoUprOr3VxL",
        "colab_type": "code",
        "colab": {
          "base_uri": "https://localhost:8080/",
          "height": 51
        },
        "outputId": "29d7cf6c-ad63-48b9-d1da-348d866c9fa2"
      },
      "source": [
        "print(cambio_monedas(123,SISTEMA))"
      ],
      "execution_count": 32,
      "outputs": [
        {
          "output_type": "stream",
          "text": [
            "Tiempo transcurrido (en segundos): 1.0967254638671875e-05\n",
            "[4, 2, 0, 3]\n"
          ],
          "name": "stdout"
        }
      ]
    },
    {
      "cell_type": "code",
      "metadata": {
        "id": "MokvN0s58yqU",
        "colab_type": "code",
        "colab": {
          "base_uri": "https://localhost:8080/",
          "height": 187
        },
        "outputId": "e19878a3-a6a7-4eb0-fed6-b974dc8d5eaf"
      },
      "source": [
        "# Otra forma propuesta\n",
        "\n",
        "importe = int(input('Ingresar importe a desglosar: '))\n",
        " \n",
        "# importes de los billetes y monedas con su tipo en singular\n",
        "tipos = (\n",
        "    (500,\"billete\"),\n",
        "    (200,\"billete\"),\n",
        "    (100,\"billete\"),\n",
        "    (50,\"billete\"),\n",
        "    (20,\"billete\"),\n",
        "    (10,\"billete\"),\n",
        "    (5,\"billete\"),\n",
        "    (2,\"moneda\"),\n",
        "    (1,\"moneda\")\n",
        ")\n",
        " \n",
        "for tipo in tipos:\n",
        "    valor=tipo[0]\n",
        "    descripcion=tipo[1]\n",
        " \n",
        "    # funcion para mostrar la s del plural si es necesario\n",
        "    s=lambda valor,text: valor > 1 and text+\"s\" or text\n",
        " \n",
        "    if importe/valor>0:\n",
        "        print (\"%d %s de %d\" % ((importe / valor), s((importe / valor),descripcion), valor))\n",
        "        # cogemos el resto de la division\n",
        "        importe = importe % valor"
      ],
      "execution_count": 46,
      "outputs": [
        {
          "output_type": "stream",
          "text": [
            "Ingresar importe a desglosar: 1231\n",
            "2 billetes de 500\n",
            "1 billetes de 200\n",
            "0 billete de 100\n",
            "0 billete de 50\n",
            "1 billetes de 20\n",
            "1 billetes de 10\n",
            "0 billete de 5\n",
            "0 moneda de 2\n",
            "1 moneda de 1\n"
          ],
          "name": "stdout"
        }
      ]
    },
    {
      "cell_type": "code",
      "metadata": {
        "id": "swG-lUyE8y0g",
        "colab_type": "code",
        "colab": {
          "base_uri": "https://localhost:8080/",
          "height": 136
        },
        "outputId": "7aa33f0f-7fca-436d-c7eb-768c1c3a83ba"
      },
      "source": [
        "billetes=(500, 200, 100, 50, 20, 10, 5, 2,1)\n",
        "monedas={}\n",
        "valor = int( input(\"Euros: \"))\n",
        "\n",
        "for b in billetes:\n",
        "  monedas[b],valor=divmod(valor,b)\n",
        "else:\n",
        "  monedas[\"calderilla\"]=valor\n",
        "\n",
        "for b in billetes:\n",
        "  if monedas[b]>0:\n",
        "    print ('%d de %d' % (monedas[b],b))\n",
        "else:\n",
        "  print ('%d de calderilla' % monedas[\"calderilla\"])"
      ],
      "execution_count": 51,
      "outputs": [
        {
          "output_type": "stream",
          "text": [
            "Euros: 1231\n",
            "2 de 500\n",
            "1 de 200\n",
            "1 de 20\n",
            "1 de 10\n",
            "1 de 1\n",
            "0 de calderilla\n"
          ],
          "name": "stdout"
        }
      ]
    },
    {
      "cell_type": "code",
      "metadata": {
        "id": "lzvRej8D8y6F",
        "colab_type": "code",
        "colab": {}
      },
      "source": [
        ""
      ],
      "execution_count": 0,
      "outputs": []
    },
    {
      "cell_type": "markdown",
      "metadata": {
        "id": "PIRBoTe64mMG",
        "colab_type": "text"
      },
      "source": [
        "### Ejercicio 3: Algoritmo vuelta atrás para resolver el problema de las N reinas"
      ]
    },
    {
      "cell_type": "code",
      "metadata": {
        "id": "JemXGUCN3sCa",
        "colab_type": "code",
        "colab": {}
      },
      "source": [
        "\n",
        "def es_prometedora(solucion,etapa):\n",
        "  for i in range(etapa+1):\n",
        "    if solucion.count(solucion[i]) >1:\n",
        "      return False\n",
        "    for j in range(i+1,etapa+1):\n",
        "      if abs(i-j) == abs(solucion[i]-solucion[j]):\n",
        "        return False\n",
        "  return True\n",
        "\n",
        "\n",
        "def reinas(N, solucion=[], etapa=0):\n",
        "  \n",
        "  if len(solucion) == 0:\n",
        "      solucion=[0 for i in range(N)]\n",
        "      \n",
        "  for i in range(1, N+1):\n",
        "      solucion[etapa] = i\n",
        "      \n",
        "      if es_prometedora(solucion,etapa):\n",
        "        if etapa == N-1:\n",
        "          print(\"La solucion es \", solucion)\n",
        "        else:\n",
        "          reinas(N,solucion,etapa+1)\n",
        "      else:\n",
        "         None\n",
        "\n"
      ],
      "execution_count": 0,
      "outputs": []
    },
    {
      "cell_type": "code",
      "metadata": {
        "id": "xW6NK6YKDJw3",
        "colab_type": "code",
        "colab": {
          "base_uri": "https://localhost:8080/",
          "height": 85
        },
        "outputId": "7d1a7a34-eb6d-4f34-b7a7-78018835bd26"
      },
      "source": [
        "reinas(8)"
      ],
      "execution_count": 54,
      "outputs": [
        {
          "output_type": "stream",
          "text": [
            "La solucion es  [4, 7, 5, 2, 6, 1, 3, 8]\n",
            "La solucion es  [5, 7, 2, 6, 3, 1, 4, 8]\n",
            "La solucion es  [6, 3, 5, 7, 1, 4, 2, 8]\n",
            "La solucion es  [6, 4, 7, 1, 3, 5, 2, 8]\n"
          ],
          "name": "stdout"
        }
      ]
    },
    {
      "cell_type": "code",
      "metadata": {
        "id": "KzjsUZRwDLb5",
        "colab_type": "code",
        "colab": {}
      },
      "source": [
        ""
      ],
      "execution_count": 0,
      "outputs": []
    },
    {
      "cell_type": "markdown",
      "metadata": {
        "id": "rnG49fJPGeIH",
        "colab_type": "text"
      },
      "source": [
        "### Ejercicio Propuesto: Encontrar los dos puntos más cercanos"
      ]
    },
    {
      "cell_type": "code",
      "metadata": {
        "id": "4Mq8rje7GjMO",
        "colab_type": "code",
        "colab": {}
      },
      "source": [
        "import math\n",
        "oInput = [\"9.5 7.5\", \"10.2 19.1\", \"9.7 10.2\"] \n",
        "\n",
        "# parse inputs \n",
        "inp = [(float(j[0]), float(j[1])) for j in [i.split() for i in oInput]] \n",
        "\n",
        "# initialize results with a really large value \n",
        "min_distance = float('infinity') \n",
        "min_pair = None \n",
        "\n",
        "# loop over inputs \n",
        "length = len(inp) \n",
        "for i in range(length): \n",
        "    for j in range(i+1, length): \n",
        "      point1 = inp[i] \n",
        "      point2 = inp[j] \n",
        "\n",
        "    if math.hypot(point1[0] - point2[0], point1[1] - point2[0]) < min_distance: \n",
        "      min_pair = [point1, point2] \n"
      ],
      "execution_count": 0,
      "outputs": []
    },
    {
      "cell_type": "code",
      "metadata": {
        "id": "jfaxKBbzH4Q6",
        "colab_type": "code",
        "colab": {}
      },
      "source": [
        "import numpy\n",
        "from scipy.spatial.distance import pdist \n",
        "x = numpy.array([[9.5,7.5],[10.2,19.1],[9.7,10.2]]) \n",
        "mindist = numpy.min(pdist(x)) "
      ],
      "execution_count": 0,
      "outputs": []
    },
    {
      "cell_type": "code",
      "metadata": {
        "id": "-FYnJx-fIPcp",
        "colab_type": "code",
        "colab": {
          "base_uri": "https://localhost:8080/",
          "height": 34
        },
        "outputId": "2dad0df9-b583-4a95-b19d-4b7449dc3faf"
      },
      "source": [
        "mindist"
      ],
      "execution_count": 61,
      "outputs": [
        {
          "output_type": "execute_result",
          "data": {
            "text/plain": [
              "2.7073972741361763"
            ]
          },
          "metadata": {
            "tags": []
          },
          "execution_count": 61
        }
      ]
    },
    {
      "cell_type": "code",
      "metadata": {
        "id": "V4FjgBTpIVNF",
        "colab_type": "code",
        "colab": {
          "base_uri": "https://localhost:8080/",
          "height": 351
        },
        "outputId": "cdd7b643-3cb0-4627-a0b1-d08ce8ab2f9c"
      },
      "source": [
        "import math# math needed for sqrt \n",
        "import itertools\n",
        "\n",
        "# distance function \n",
        "def dist(p1, p2): \n",
        "    return math.sqrt((p2[0] - p1[0]) ** 2 + (p2[1] - p1[1]) ** 2) \n",
        "\n",
        "# run through input and reorder in [(x, y), (x,y) ...] format \n",
        "input = [\"9.5 7.5\", \"10.2 19.1\", \"9.7 10.2\"] # original input list (entered by spacing the two points) \n",
        "points = [map(float, point.split()) for point in input] # final list \n",
        "\n",
        "# http://en.wikipedia.org/wiki/Closest_pair_of_points \n",
        "mindist = float(\"inf\") \n",
        "for p1, p2 in itertools.combinations(points, 2): \n",
        "    if dist(p1, p2) < mindist: \n",
        "      mindist = dist(p1, p2) \n",
        "    closestpair = (p1, p2) \n",
        "\n",
        "print(closestpair) "
      ],
      "execution_count": 64,
      "outputs": [
        {
          "output_type": "error",
          "ename": "TypeError",
          "evalue": "ignored",
          "traceback": [
            "\u001b[0;31m---------------------------------------------------------------------------\u001b[0m",
            "\u001b[0;31mTypeError\u001b[0m                                 Traceback (most recent call last)",
            "\u001b[0;32m<ipython-input-64-3d7572113c20>\u001b[0m in \u001b[0;36m<module>\u001b[0;34m()\u001b[0m\n\u001b[1;32m     13\u001b[0m \u001b[0mmindist\u001b[0m \u001b[0;34m=\u001b[0m \u001b[0mfloat\u001b[0m\u001b[0;34m(\u001b[0m\u001b[0;34m\"inf\"\u001b[0m\u001b[0;34m)\u001b[0m\u001b[0;34m\u001b[0m\u001b[0;34m\u001b[0m\u001b[0m\n\u001b[1;32m     14\u001b[0m \u001b[0;32mfor\u001b[0m \u001b[0mp1\u001b[0m\u001b[0;34m,\u001b[0m \u001b[0mp2\u001b[0m \u001b[0;32min\u001b[0m \u001b[0mitertools\u001b[0m\u001b[0;34m.\u001b[0m\u001b[0mcombinations\u001b[0m\u001b[0;34m(\u001b[0m\u001b[0mpoints\u001b[0m\u001b[0;34m,\u001b[0m \u001b[0;36m2\u001b[0m\u001b[0;34m)\u001b[0m\u001b[0;34m:\u001b[0m\u001b[0;34m\u001b[0m\u001b[0;34m\u001b[0m\u001b[0m\n\u001b[0;32m---> 15\u001b[0;31m     \u001b[0;32mif\u001b[0m \u001b[0mdist\u001b[0m\u001b[0;34m(\u001b[0m\u001b[0mp1\u001b[0m\u001b[0;34m,\u001b[0m \u001b[0mp2\u001b[0m\u001b[0;34m)\u001b[0m \u001b[0;34m<\u001b[0m \u001b[0mmindist\u001b[0m\u001b[0;34m:\u001b[0m\u001b[0;34m\u001b[0m\u001b[0;34m\u001b[0m\u001b[0m\n\u001b[0m\u001b[1;32m     16\u001b[0m       \u001b[0mmindist\u001b[0m \u001b[0;34m=\u001b[0m \u001b[0mdist\u001b[0m\u001b[0;34m(\u001b[0m\u001b[0mp1\u001b[0m\u001b[0;34m,\u001b[0m \u001b[0mp2\u001b[0m\u001b[0;34m)\u001b[0m\u001b[0;34m\u001b[0m\u001b[0;34m\u001b[0m\u001b[0m\n\u001b[1;32m     17\u001b[0m     \u001b[0mclosestpair\u001b[0m \u001b[0;34m=\u001b[0m \u001b[0;34m(\u001b[0m\u001b[0mp1\u001b[0m\u001b[0;34m,\u001b[0m \u001b[0mp2\u001b[0m\u001b[0;34m)\u001b[0m\u001b[0;34m\u001b[0m\u001b[0;34m\u001b[0m\u001b[0m\n",
            "\u001b[0;32m<ipython-input-64-3d7572113c20>\u001b[0m in \u001b[0;36mdist\u001b[0;34m(p1, p2)\u001b[0m\n\u001b[1;32m      4\u001b[0m \u001b[0;31m# distance function\u001b[0m\u001b[0;34m\u001b[0m\u001b[0;34m\u001b[0m\u001b[0;34m\u001b[0m\u001b[0m\n\u001b[1;32m      5\u001b[0m \u001b[0;32mdef\u001b[0m \u001b[0mdist\u001b[0m\u001b[0;34m(\u001b[0m\u001b[0mp1\u001b[0m\u001b[0;34m,\u001b[0m \u001b[0mp2\u001b[0m\u001b[0;34m)\u001b[0m\u001b[0;34m:\u001b[0m\u001b[0;34m\u001b[0m\u001b[0;34m\u001b[0m\u001b[0m\n\u001b[0;32m----> 6\u001b[0;31m     \u001b[0;32mreturn\u001b[0m \u001b[0mmath\u001b[0m\u001b[0;34m.\u001b[0m\u001b[0msqrt\u001b[0m\u001b[0;34m(\u001b[0m\u001b[0;34m(\u001b[0m\u001b[0mp2\u001b[0m\u001b[0;34m[\u001b[0m\u001b[0;36m0\u001b[0m\u001b[0;34m]\u001b[0m \u001b[0;34m-\u001b[0m \u001b[0mp1\u001b[0m\u001b[0;34m[\u001b[0m\u001b[0;36m0\u001b[0m\u001b[0;34m]\u001b[0m\u001b[0;34m)\u001b[0m \u001b[0;34m**\u001b[0m \u001b[0;36m2\u001b[0m \u001b[0;34m+\u001b[0m \u001b[0;34m(\u001b[0m\u001b[0mp2\u001b[0m\u001b[0;34m[\u001b[0m\u001b[0;36m1\u001b[0m\u001b[0;34m]\u001b[0m \u001b[0;34m-\u001b[0m \u001b[0mp1\u001b[0m\u001b[0;34m[\u001b[0m\u001b[0;36m1\u001b[0m\u001b[0;34m]\u001b[0m\u001b[0;34m)\u001b[0m \u001b[0;34m**\u001b[0m \u001b[0;36m2\u001b[0m\u001b[0;34m)\u001b[0m\u001b[0;34m\u001b[0m\u001b[0;34m\u001b[0m\u001b[0m\n\u001b[0m\u001b[1;32m      7\u001b[0m \u001b[0;34m\u001b[0m\u001b[0m\n\u001b[1;32m      8\u001b[0m \u001b[0;31m# run through input and reorder in [(x, y), (x,y) ...] format\u001b[0m\u001b[0;34m\u001b[0m\u001b[0;34m\u001b[0m\u001b[0;34m\u001b[0m\u001b[0m\n",
            "\u001b[0;31mTypeError\u001b[0m: 'map' object is not subscriptable"
          ]
        }
      ]
    },
    {
      "cell_type": "code",
      "metadata": {
        "id": "Tt_kl_9nIbnR",
        "colab_type": "code",
        "colab": {}
      },
      "source": [
        ""
      ],
      "execution_count": 0,
      "outputs": []
    }
  ]
}