{
  "nbformat": 4,
  "nbformat_minor": 0,
  "metadata": {
    "colab": {
      "name": "Práctica_clase_1.ipynb",
      "version": "0.3.2",
      "provenance": [],
      "include_colab_link": true
    },
    "kernelspec": {
      "name": "python3",
      "display_name": "Python 3"
    }
  },
  "cells": [
    {
      "cell_type": "markdown",
      "metadata": {
        "id": "view-in-github",
        "colab_type": "text"
      },
      "source": [
        "<a href=\"https://colab.research.google.com/github/MCaleroSanchez/M/blob/master/Pr%C3%A1ctica_clase_1.ipynb\" target=\"_parent\"><img src=\"https://colab.research.google.com/assets/colab-badge.svg\" alt=\"Open In Colab\"/></a>"
      ]
    },
    {
      "cell_type": "code",
      "metadata": {
        "id": "li5OG_wkQwmB",
        "colab_type": "code",
        "colab": {}
      },
      "source": [
        ""
      ],
      "execution_count": 0,
      "outputs": []
    },
    {
      "cell_type": "markdown",
      "metadata": {
        "id": "DsA9ZCoILOsZ",
        "colab_type": "text"
      },
      "source": [
        "Algoritmos de Optimización"
      ]
    },
    {
      "cell_type": "code",
      "metadata": {
        "id": "GUK1Bn1vQ0HA",
        "colab_type": "code",
        "colab": {}
      },
      "source": [
        "A=[1,2,6,7,12,13,15]\n",
        "B=[2,3,4,7,13]"
      ],
      "execution_count": 0,
      "outputs": []
    },
    {
      "cell_type": "code",
      "metadata": {
        "id": "tDZ7gTx7RF-z",
        "colab_type": "code",
        "outputId": "cba87e52-e0e7-4109-c5c0-baad41f60c55",
        "colab": {
          "base_uri": "https://localhost:8080/",
          "height": 34
        }
      },
      "source": [
        "Salida = []\n",
        "for i in A:\n",
        "  for j in B:\n",
        "    if i == j:\n",
        "      Salida.append(i)\n",
        "print(Salida)"
      ],
      "execution_count": 0,
      "outputs": [
        {
          "output_type": "stream",
          "text": [
            "[2, 7, 13]\n"
          ],
          "name": "stdout"
        }
      ]
    },
    {
      "cell_type": "code",
      "metadata": {
        "id": "_87kKtEFS5cF",
        "colab_type": "code",
        "colab": {}
      },
      "source": [
        "lista = []\n",
        "for i in range(len(A)):\n",
        "    for j in range(len(B)):\n",
        "        if A[i] == B[j]:\n",
        "            lista.append(A[i])\n",
        "\n"
      ],
      "execution_count": 0,
      "outputs": []
    },
    {
      "cell_type": "code",
      "metadata": {
        "id": "Hk-3VEr5RnOw",
        "colab_type": "code",
        "colab": {}
      },
      "source": [
        "# Listas aleatorias\n",
        "import random\n",
        "\n",
        "A = random.sample(range(1000), 100)\n",
        "B = random.sample(range(1000), 100)\n",
        "C = []\n",
        "\n",
        "for i in A:\n",
        "    if i in B:\n",
        "        C.append(i)"
      ],
      "execution_count": 0,
      "outputs": []
    },
    {
      "cell_type": "code",
      "metadata": {
        "id": "LLR04eCULo9T",
        "colab_type": "code",
        "colab": {}
      },
      "source": [
        "#  Clase 2\n",
        "# Ordenar una lista METODO BURBUJA\n",
        "\n",
        "A = [9187,244,4054,9222.8373,4992,5265,5470,4519,7182,2035,3506,4337,7580,2554,2824,8357,4447,7379]"
      ],
      "execution_count": 0,
      "outputs": []
    },
    {
      "cell_type": "code",
      "metadata": {
        "id": "xoVEMmZbMJJ2",
        "colab_type": "code",
        "colab": {}
      },
      "source": [
        "def sorting_burbuja(lista):\n",
        "  cambiado = True\n",
        "  while cambiado:\n",
        "    cambiado = False\n",
        "    for i in range(len(lista)-1):\n",
        "      if lista[i]>lista[i+1]:\n",
        "        lista[i],lista[i+1] = lista[i+1],lista[i]\n",
        "        cambiado = True\n",
        "  return lista"
      ],
      "execution_count": 0,
      "outputs": []
    },
    {
      "cell_type": "code",
      "metadata": {
        "id": "uym2QXy9MzjO",
        "colab_type": "code",
        "outputId": "531d1c7b-d965-46f8-828e-b38f9a31a5a6",
        "colab": {
          "base_uri": "https://localhost:8080/",
          "height": 323
        }
      },
      "source": [
        "sorting_burbuja(A)"
      ],
      "execution_count": 0,
      "outputs": [
        {
          "output_type": "execute_result",
          "data": {
            "text/plain": [
              "[244,\n",
              " 2035,\n",
              " 2554,\n",
              " 2824,\n",
              " 3506,\n",
              " 4054,\n",
              " 4337,\n",
              " 4447,\n",
              " 4519,\n",
              " 4992,\n",
              " 5265,\n",
              " 5470,\n",
              " 7182,\n",
              " 7379,\n",
              " 7580,\n",
              " 8357,\n",
              " 9187,\n",
              " 9222.8373]"
            ]
          },
          "metadata": {
            "tags": []
          },
          "execution_count": 3
        }
      ]
    },
    {
      "cell_type": "code",
      "metadata": {
        "id": "8IHzB12lM3h3",
        "colab_type": "code",
        "colab": {}
      },
      "source": [
        "# Otra forma mejor\n",
        "\n",
        "def bubbleSort(arr):\n",
        "  n = len(arr)\n",
        "  for i in range(n):\n",
        "    for j in range(0,n-i-1):\n",
        "      if arr[j]> arr[j+1]:\n",
        "        arr[j],arr[j+1] = arr[j+1],arr[j]\n",
        "  return A"
      ],
      "execution_count": 0,
      "outputs": []
    },
    {
      "cell_type": "code",
      "metadata": {
        "id": "FVJGrYyyNZNQ",
        "colab_type": "code",
        "outputId": "789dd826-5c0e-4011-8b6f-1c388e422d6f",
        "colab": {
          "base_uri": "https://localhost:8080/",
          "height": 323
        }
      },
      "source": [
        "bubbleSort(A)"
      ],
      "execution_count": 0,
      "outputs": [
        {
          "output_type": "execute_result",
          "data": {
            "text/plain": [
              "[244,\n",
              " 2035,\n",
              " 2554,\n",
              " 2824,\n",
              " 3506,\n",
              " 4054,\n",
              " 4337,\n",
              " 4447,\n",
              " 4519,\n",
              " 4992,\n",
              " 5265,\n",
              " 5470,\n",
              " 7182,\n",
              " 7379,\n",
              " 7580,\n",
              " 8357,\n",
              " 9187,\n",
              " 9222.8373]"
            ]
          },
          "metadata": {
            "tags": []
          },
          "execution_count": 9
        }
      ]
    },
    {
      "cell_type": "code",
      "metadata": {
        "id": "bNVna6JuNbM3",
        "colab_type": "code",
        "colab": {}
      },
      "source": [
        "# Propuesta del Profesor\n",
        "def bubble_sort(l):\n",
        "  for i in range(len(l)-1):\n",
        "    for j in range(len(l)-1):\n",
        "      #print(\"Compara\"+str(l[j])+\"y\"+str(l[j+1]))\n",
        "      if l[j]>l[j+1]:\n",
        "        #print(\"intercambia\")\n",
        "        l[j],l[j+1] = l[j+1],l[j]\n",
        "  return l"
      ],
      "execution_count": 0,
      "outputs": []
    },
    {
      "cell_type": "code",
      "metadata": {
        "id": "K9BPt4cRNka_",
        "colab_type": "code",
        "outputId": "05b8b359-67cb-47f0-967f-fc2dffa7e9ad",
        "colab": {
          "base_uri": "https://localhost:8080/",
          "height": 323
        }
      },
      "source": [
        "bubble_sort(A)"
      ],
      "execution_count": 0,
      "outputs": [
        {
          "output_type": "execute_result",
          "data": {
            "text/plain": [
              "[244,\n",
              " 2035,\n",
              " 2554,\n",
              " 2824,\n",
              " 3506,\n",
              " 4054,\n",
              " 4337,\n",
              " 4447,\n",
              " 4519,\n",
              " 4992,\n",
              " 5265,\n",
              " 5470,\n",
              " 7182,\n",
              " 7379,\n",
              " 7580,\n",
              " 8357,\n",
              " 9187,\n",
              " 9222.8373]"
            ]
          },
          "metadata": {
            "tags": []
          },
          "execution_count": 11
        }
      ]
    },
    {
      "cell_type": "code",
      "metadata": {
        "id": "bZQWhDKSPwbl",
        "colab_type": "code",
        "outputId": "2a937dff-0e18-49e1-dd9d-b7985ce1706c",
        "colab": {
          "base_uri": "https://localhost:8080/",
          "height": 34
        }
      },
      "source": [
        "%timeit bubble_sort(A)"
      ],
      "execution_count": 0,
      "outputs": [
        {
          "output_type": "stream",
          "text": [
            "10000 loops, best of 3: 40.3 µs per loop\n"
          ],
          "name": "stdout"
        }
      ]
    },
    {
      "cell_type": "code",
      "metadata": {
        "id": "7YAWq01wQeNS",
        "colab_type": "code",
        "colab": {}
      },
      "source": [
        "# Caso torre Hanoy\n",
        "def torres_hanoy(n,desde=1,hasta=3):\n",
        "  if n:\n",
        "    torres_hanoy(n-1,desde,6-desde-hasta)\n",
        "    print(\"Mueve el disco {} desde {} hasta {}\".format(n,desde,hasta))\n",
        "    torres_hanoy(n-1,6-desde-hasta,hasta)\n"
      ],
      "execution_count": 0,
      "outputs": []
    },
    {
      "cell_type": "code",
      "metadata": {
        "id": "y4Lm40JMXwW0",
        "colab_type": "code",
        "outputId": "52bc04ed-6b16-4fd9-c552-e2ec81cb062f",
        "colab": {
          "base_uri": "https://localhost:8080/",
          "height": 272
        }
      },
      "source": [
        "torres_hanoy(4)"
      ],
      "execution_count": 0,
      "outputs": [
        {
          "output_type": "stream",
          "text": [
            "Mueve el disco 1 desde 1 hasta 2\n",
            "Mueve el disco 2 desde 1 hasta 3\n",
            "Mueve el disco 1 desde 2 hasta 3\n",
            "Mueve el disco 3 desde 1 hasta 2\n",
            "Mueve el disco 1 desde 3 hasta 1\n",
            "Mueve el disco 2 desde 3 hasta 2\n",
            "Mueve el disco 1 desde 1 hasta 2\n",
            "Mueve el disco 4 desde 1 hasta 3\n",
            "Mueve el disco 1 desde 2 hasta 3\n",
            "Mueve el disco 2 desde 2 hasta 1\n",
            "Mueve el disco 1 desde 3 hasta 1\n",
            "Mueve el disco 3 desde 2 hasta 3\n",
            "Mueve el disco 1 desde 1 hasta 2\n",
            "Mueve el disco 2 desde 1 hasta 3\n",
            "Mueve el disco 1 desde 2 hasta 3\n"
          ],
          "name": "stdout"
        }
      ]
    },
    {
      "cell_type": "code",
      "metadata": {
        "id": "x0nNqE0TXMfF",
        "colab_type": "code",
        "colab": {}
      },
      "source": [
        "# Torres hanoy profesor\n",
        "def torres_hanoy(N,desde,hasta):\n",
        "  if N == 1:\n",
        "    print(\"Llevar desde \" + str (desde) + \" hasta \" + str(hasta))\n",
        "  else:\n",
        "    torres_hanoy(N-1,desde, 6-desde-hasta)\n",
        "    print(\"Llevar desde \"+ str (desde) + \" hasta \" + str(hasta))\n",
        "    torres_hanoy(N-1,6-desde-hasta, hasta)"
      ],
      "execution_count": 0,
      "outputs": []
    },
    {
      "cell_type": "code",
      "metadata": {
        "id": "DWO5EOqcZkjt",
        "colab_type": "code",
        "colab": {
          "base_uri": "https://localhost:8080/",
          "height": 272
        },
        "outputId": "722ba39b-12c9-4060-aa81-423bada990c0"
      },
      "source": [
        "torres_hanoy(4,1,3)"
      ],
      "execution_count": 16,
      "outputs": [
        {
          "output_type": "stream",
          "text": [
            "Llevar desde 1 hasta 2\n",
            "Llevar desde 1 hasta 3\n",
            "Llevar desde 2 hasta 3\n",
            "Llevar desde 1 hasta 2\n",
            "Llevar desde 3 hasta 1\n",
            "Llevar desde 3 hasta 2\n",
            "Llevar desde 1 hasta 2\n",
            "Llevar desde 1 hasta 3\n",
            "Llevar desde 2 hasta 3\n",
            "Llevar desde 2 hasta 1\n",
            "Llevar desde 3 hasta 1\n",
            "Llevar desde 2 hasta 3\n",
            "Llevar desde 1 hasta 2\n",
            "Llevar desde 1 hasta 3\n",
            "Llevar desde 2 hasta 3\n"
          ],
          "name": "stdout"
        }
      ]
    },
    {
      "cell_type": "markdown",
      "metadata": {
        "id": "Q2rwp37KUYCJ",
        "colab_type": "text"
      },
      "source": [
        "Técnica Quick Sort"
      ]
    },
    {
      "cell_type": "code",
      "metadata": {
        "id": "PGamGuu6X-_r",
        "colab_type": "code",
        "colab": {
          "base_uri": "https://localhost:8080/",
          "height": 130
        },
        "outputId": "3de58636-f643-4a68-bc3c-0004862944ee"
      },
      "source": [
        "def quicksort(L, first, last):\n",
        "    # definimos los índices y calculamos el pivote\n",
        "    i = first\n",
        "    j = last    \n",
        "    pivote = (L[i] + L[j]) / 2\n",
        "\n",
        "    # iteramos hasta que i no sea menor que j\n",
        "    while i < j:\n",
        "        # iteramos mientras que el valor de L[i] sea menor que pivote\n",
        "        while L[i] < pivote:\n",
        "            # Incrementamos el índice\n",
        "            i+=1\n",
        "        # iteramos mientras que el valor de L[j] sea mayor que pivote\n",
        "        while L[j] > pivote:\n",
        "            # decrementamos el índice\n",
        "            j-=1\n",
        "        # si i es menor o igual que j significa que los índices se han cruzado\n",
        "        if i < = j:\n",
        "            # creamos una variable temporal para guardar el valor de L[j]\n",
        "            x = L[j]\n",
        "            # intercambiamos los valores de L[j] y L[i]\n",
        "            L[j] = L[i]\n",
        "            L[i] = x\n",
        "            # incrementamos y decrementamos i y j respectivamente\n",
        "            i+=1\n",
        "            j-=1\n",
        "\n",
        "    # si first es menor que j mantenemos la recursividad\n",
        "    if first < j:\n",
        "        L = quicksort(L, first, j)\n",
        "    # si last es mayor que i mantenemos la recursividad\n",
        "    if last > i:\n",
        "        L = quicksort(L, i, last)\n",
        "\n",
        "    # devolvemos la lista ordenada\n",
        "    return L"
      ],
      "execution_count": 1,
      "outputs": [
        {
          "output_type": "error",
          "ename": "SyntaxError",
          "evalue": "ignored",
          "traceback": [
            "\u001b[0;36m  File \u001b[0;32m\"<ipython-input-1-a119d86c5cbe>\"\u001b[0;36m, line \u001b[0;32m18\u001b[0m\n\u001b[0;31m    if i < = j:\u001b[0m\n\u001b[0m           ^\u001b[0m\n\u001b[0;31mSyntaxError\u001b[0m\u001b[0;31m:\u001b[0m invalid syntax\n"
          ]
        }
      ]
    },
    {
      "cell_type": "code",
      "metadata": {
        "id": "9puSOw2iUzZt",
        "colab_type": "code",
        "colab": {}
      },
      "source": [
        "# Python program for implementation of Quicksort Sort \n",
        "  \n",
        "# This function takes last element as pivot, places \n",
        "# the pivot element at its correct position in sorted \n",
        "# array, and places all smaller (smaller than pivot) \n",
        "# to left of pivot and all greater elements to right \n",
        "# of pivot \n",
        "def partition(arr,low,high): \n",
        "    i = ( low-1 )         # index of smaller element \n",
        "    pivot = arr[high]     # pivot \n",
        "  \n",
        "    for j in range(low , high): \n",
        "  \n",
        "        # If current element is smaller than or \n",
        "        # equal to pivot \n",
        "        if   arr[j] <= pivot: \n",
        "          \n",
        "            # increment index of smaller element \n",
        "            i = i+1 \n",
        "            arr[i],arr[j] = arr[j],arr[i] \n",
        "  \n",
        "    arr[i+1],arr[high] = arr[high],arr[i+1] \n",
        "    return ( i+1 ) \n",
        "  \n",
        "# The main function that implements QuickSort \n",
        "# arr[] --> Array to be sorted, \n",
        "# low  --> Starting index, \n",
        "# high  --> Ending index \n",
        "  \n",
        "# Function to do Quick sort \n",
        "def quickSort(arr,low,high): \n",
        "    if low < high: \n",
        "  \n",
        "        # pi is partitioning index, arr[p] is now \n",
        "        # at right place \n",
        "        pi = partition(arr,low,high) \n",
        "  \n",
        "        # Separately sort elements before \n",
        "        # partition and after partition \n",
        "        quickSort(arr, low, pi-1) \n",
        "        quickSort(arr, pi+1, high) "
      ],
      "execution_count": 0,
      "outputs": []
    },
    {
      "cell_type": "code",
      "metadata": {
        "id": "NeS0C45RVgyQ",
        "colab_type": "code",
        "colab": {
          "base_uri": "https://localhost:8080/",
          "height": 136
        },
        "outputId": "2c907bab-e338-4339-df04-a1b6ad8e9280"
      },
      "source": [
        "# Driver code to test above \n",
        "arr = [10, 7, 8, 9, 1, 5] \n",
        "n = len(arr) \n",
        "quickSort(arr,0,n-1) \n",
        "print (\"Sorted array is:\") \n",
        "for i in range(n): \n",
        "    print (\"%d\" %arr[i]), \n",
        "  "
      ],
      "execution_count": 9,
      "outputs": [
        {
          "output_type": "stream",
          "text": [
            "Sorted array is:\n",
            "1\n",
            "5\n",
            "7\n",
            "8\n",
            "9\n",
            "10\n"
          ],
          "name": "stdout"
        }
      ]
    },
    {
      "cell_type": "code",
      "metadata": {
        "id": "XnuuKF9WVlN4",
        "colab_type": "code",
        "colab": {}
      },
      "source": [
        ""
      ],
      "execution_count": 0,
      "outputs": []
    },
    {
      "cell_type": "markdown",
      "metadata": {
        "id": "32d17WSNcVLw",
        "colab_type": "text"
      },
      "source": [
        "Algortimo voraz -> cambio de monedas"
      ]
    },
    {
      "cell_type": "code",
      "metadata": {
        "id": "O0uKSIWRcYhe",
        "colab_type": "code",
        "colab": {}
      },
      "source": [
        "from sys import stdin\n",
        "\n",
        "monedas=[1,2,5,10]\n",
        "\n",
        "def f(i,n):\n",
        "    global monedas,l\n",
        "    n=int(n)\n",
        "    if i>=4 or n<0: return 0\n",
        "    if l[i][n] != -1: return l[i][n]\n",
        "    if n ==0: return 1\n",
        "    else:\n",
        "        l[i][n]=f(i,n-monedas[i])+f(i+1,n)\n",
        "        return l[i][n]\n",
        "\n",
        "def main():\n",
        "    global l\n",
        "    l=[]\n",
        "    for k in range(4):\n",
        "        l.append([])\n",
        "        for y in range(30010):\n",
        "            l[k].append(-1)\n",
        "\n",
        "    cambio=stdin.readline().strip()\n",
        "    while cambio:\n",
        "        n=int(cambio)\n",
        "        solve=f(0,cambio)\n",
        "        if solve==1: print(\"There is only {} way to produce {} cents change.\".format(solve,n))\n",
        "        else: print(\"There are {} ways to produce {} cents change.\".format(solve,n))\n",
        "        cambio=stdin.readline().strip()\n",
        "main()"
      ],
      "execution_count": 0,
      "outputs": []
    },
    {
      "cell_type": "code",
      "metadata": {
        "id": "mxvxyN13ei4p",
        "colab_type": "code",
        "colab": {
          "base_uri": "https://localhost:8080/",
          "height": 130
        },
        "outputId": "ca73d7b9-a84c-4f87-f7f8-433add103d05"
      },
      "source": [
        "monedas = [1000,500,200,100,50,20,10,5,2,1]\n",
        "N=int(input(\"Ingrese la cantidad: \"))\n",
        "    for i in monedas:\n",
        "        if(N/i>=1):\n",
        "            if(i>=20):\n",
        "                print(\"la cantidad de billetes de \" +str(i) +\" es: \"+str(int(N/i)))\n",
        "            else:\n",
        "                print(\"la cantidad de monedas de \" +str(i) +\" es: \" +str(int(N/i)))\n",
        "        N=N%i\n"
      ],
      "execution_count": 10,
      "outputs": [
        {
          "output_type": "error",
          "ename": "IndentationError",
          "evalue": "ignored",
          "traceback": [
            "\u001b[0;36m  File \u001b[0;32m\"<ipython-input-10-6f8616e4825d>\"\u001b[0;36m, line \u001b[0;32m3\u001b[0m\n\u001b[0;31m    for i in monedas:\u001b[0m\n\u001b[0m    ^\u001b[0m\n\u001b[0;31mIndentationError\u001b[0m\u001b[0;31m:\u001b[0m unexpected indent\n"
          ]
        }
      ]
    },
    {
      "cell_type": "code",
      "metadata": {
        "id": "JtC4vzc-esOs",
        "colab_type": "code",
        "colab": {
          "base_uri": "https://localhost:8080/",
          "height": 130
        },
        "outputId": "653463dc-a1e0-4481-f093-5c84da8297c9"
      },
      "source": [
        "print (\"DETERMINAR EL CAMBIO\")\n",
        "\n",
        "costo = int(input(\"Cuanto es lo que costo lo que compro lo que compro\\n$PRECIO DEL PRODUCTO\\n\"))\n",
        "pago = int(input(\"Digite la cantidad de dinero con lo que usted pago\\n\"))\n",
        "dinero = pago-costo #\"\"\"DETERMINAMOS CUANTO ES EL CAMBIO\"\"\"\n",
        "def cambio(cam):\n",
        "    if cam == 0: #FUNCIO DE PARADA\n",
        "    return \"\" #cambio(cam)\n",
        "    else:\n",
        "    if cam >= 200:\n",
        "\n",
        "print (\"Un Billete de 200 mas\")\n",
        "#SI EL CAMBIO ES MAYOR A 200 <br/>PODEMOS DAR UN BILLERETE DE 200 SI NO SALTA A LA SIGUIENTE CANTIDAD\n",
        "        return cambio(cam-200) #IMPORTANTE PARA QUE LA FUNCIONA RECURSIVA  SE IMPLEMENTE\n",
        "       # \"\"\"\n",
        "    #IMPORTANTE PARA QUE LA FUINCION RECURSIVA  SE SI PODEMOS DAR UN BILLETE DE 200, TENEMOS QUE RESTARLE Y VOLVER A DETERMINAR \n",
        "           # SI TODAVIA PODEMOS DAR UNO MAS O NO.\n",
        "            #\"\"\"#\n",
        "    elif cam >= 100:\n",
        "    print (\"Un Billete de 100 mas\")\n",
        "    return cambio(cam-100)\n",
        "    elif cam >= 50:\n",
        "        print(\"Un Billete de 50 mas\")\n",
        "        return cambio(cam-50)\n",
        "    elif cam >= 20:\n",
        "    print (\"Un Billete de 20 mas\")\n",
        "    return cambio(cam-20)\n",
        "    elif cam >= 10:\n",
        "        print (\"Una moneda de 10 mas\")\n",
        "            <br/>return cambio(cam-10)\n",
        "        elif cam >= 5:\n",
        "        print(\"Una moneda de 5 mas\")\n",
        "            return cambio(cam-5)\n",
        "        elif cam >= 2:\n",
        "        print(\"Una moneda de 2 mas\")\n",
        "        return cambio(cam-2)\n",
        "        elif cam >= 1:\n",
        "        print(\"Una moneda de 1 mas\")\n",
        "        return cambio(cam-1)\n",
        "\n",
        "\n",
        "print(cambio(dinero))\n",
        "print (\"Su cambio es : \"+str(dinero))"
      ],
      "execution_count": 14,
      "outputs": [
        {
          "output_type": "error",
          "ename": "IndentationError",
          "evalue": "ignored",
          "traceback": [
            "\u001b[0;36m  File \u001b[0;32m\"<ipython-input-14-af8e6a97a82d>\"\u001b[0;36m, line \u001b[0;32m8\u001b[0m\n\u001b[0;31m    return \"\"#cambio(cam)\u001b[0m\n\u001b[0m         ^\u001b[0m\n\u001b[0;31mIndentationError\u001b[0m\u001b[0;31m:\u001b[0m expected an indented block\n"
          ]
        }
      ]
    },
    {
      "cell_type": "code",
      "metadata": {
        "id": "wPjoKaZTe2xn",
        "colab_type": "code",
        "colab": {}
      },
      "source": [
        ""
      ],
      "execution_count": 0,
      "outputs": []
    },
    {
      "cell_type": "markdown",
      "metadata": {
        "id": "IRtJNiaHlEFX",
        "colab_type": "text"
      },
      "source": [
        "Vuelta atrás - Backtracking\n",
        "Ejemplo 4 reinas"
      ]
    }
  ]
}