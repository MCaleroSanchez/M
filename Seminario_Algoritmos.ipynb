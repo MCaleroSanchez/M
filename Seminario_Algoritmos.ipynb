{
  "nbformat": 4,
  "nbformat_minor": 0,
  "metadata": {
    "colab": {
      "name": "Seminario - Algoritmos.ipynb",
      "version": "0.3.2",
      "provenance": [],
      "collapsed_sections": [],
      "include_colab_link": true
    },
    "kernelspec": {
      "name": "python3",
      "display_name": "Python 3"
    }
  },
  "cells": [
    {
      "cell_type": "markdown",
      "metadata": {
        "id": "view-in-github",
        "colab_type": "text"
      },
      "source": [
        "<a href=\"https://colab.research.google.com/github/MCaleroSanchez/M/blob/master/Seminario_Algoritmos.ipynb\" target=\"_parent\"><img src=\"https://colab.research.google.com/assets/colab-badge.svg\" alt=\"Open In Colab\"/></a>"
      ]
    },
    {
      "cell_type": "markdown",
      "metadata": {
        "id": "hVbXYX-RfPWh",
        "colab_type": "text"
      },
      "source": [
        "# Algoritmos de optimización - Seminario<br>\n",
        "**Nombre y Apellidos**: Melanie Calero Sánchez  <br>\n",
        "Url: https://github.com/.../03MAIR---Algoritmos-de-Optimizacion---2019/tree/master/SEMINARIO<br>\n",
        "## **Problema:**\n",
        "> 1. Elección de grupos de población homogéneos <br>\n",
        ">**2. Organizar los horarios de partidos de La Liga**<br>\n",
        ">3. Combinar cifras y operaciones\n",
        "\n",
        "## **Descripción del problema:**\n",
        "\n",
        "\n",
        "\n",
        "(*) La respuesta es obligatoria\n",
        "\n",
        "\n",
        "\n",
        "\n",
        "\n",
        "                                        "
      ]
    },
    {
      "cell_type": "markdown",
      "metadata": {
        "id": "DIz4lx5gIXzY",
        "colab_type": "text"
      },
      "source": [
        "Desde la La Liga de fútbol profesional se pretende organizar los horarios de los partidos de liga de cada jornada. Se conocen algunos datos que nos deben llevar a diseñar un algoritmo que realice la asignación de los partidos a los horarios de forma que **maximice\n",
        "la audiencia**. \n",
        "\n",
        "Los horarios disponibles se conocen a priori y son los siguientes:"
      ]
    },
    {
      "cell_type": "code",
      "metadata": {
        "id": "AiskKkzZfy4e",
        "colab_type": "code",
        "colab": {
          "base_uri": "https://localhost:8080/",
          "height": 204
        },
        "outputId": "9f131fe5-4388-451c-e204-73ad9aa45e70"
      },
      "source": [
        "from tabulate import tabulate\n",
        "\n",
        "horarios = {'Días': ['Viernes', \n",
        "                     'Sábado', \n",
        "                     'Domingo', \n",
        "                     'Lunes'],\n",
        "         'Horas': [20,\n",
        "                  [12,16,18,20],\n",
        "                  [12,16,18,20],\n",
        "                   20]}\n",
        "\n",
        "print(tabulate(horarios, headers=['Días','Horas'], tablefmt='grid'))\n"
      ],
      "execution_count": 4,
      "outputs": [
        {
          "output_type": "stream",
          "text": [
            "+---------+------------------+\n",
            "| Días    | Horas            |\n",
            "+=========+==================+\n",
            "| Viernes | 20               |\n",
            "+---------+------------------+\n",
            "| Sábado  | 12,16,18,20      |\n",
            "+---------+------------------+\n",
            "| Domingo | [12, 16, 18, 20] |\n",
            "+---------+------------------+\n",
            "| Lunes   | 20               |\n",
            "+---------+------------------+\n"
          ],
          "name": "stdout"
        }
      ]
    },
    {
      "cell_type": "markdown",
      "metadata": {
        "id": "0T6hMb_WMA3q",
        "colab_type": "text"
      },
      "source": [
        "En primer lugar se clasifican los equipos en tres categorías según el número de seguidores que tienen relación directa con la audiencia. Hay **4 equipos** en la **categoría A**, **10 equipos** de **categoría B** y **6 equipos** de **categoría C**.\n",
        "\n",
        "Se conoce estadisticamente la audiencia que genera cada partido según los equipos que se enfrentan y en horario de sábado a las 20h (el mejor en todos los casos)"
      ]
    },
    {
      "cell_type": "code",
      "metadata": {
        "id": "aTS36T9DJPDS",
        "colab_type": "code",
        "colab": {
          "base_uri": "https://localhost:8080/",
          "height": 170
        },
        "outputId": "e20af119-0a4a-41ac-fa8e-a2d4e4ec63c3"
      },
      "source": [
        "audiencia = {'Categorías': ['Categoría A', \n",
        "                            'Categoría B', \n",
        "                            'Categoría C'],\n",
        "             'Categoría A': ['2 Millones',\n",
        "                             '',\n",
        "                             ''],\n",
        "             'Categoría B': ['1.3 Millones',\n",
        "                             '0.9 Millones',\n",
        "                             ''],\n",
        "             'Categoría C': ['1 Millón',\n",
        "                             '0.75 Millones',\n",
        "                             '0.47 Millones']}\n",
        "\n",
        "print(tabulate(audiencia, headers=['Categorías','Categoría A','Categoría B', 'Categoría C'], tablefmt='grid'))\n"
      ],
      "execution_count": 5,
      "outputs": [
        {
          "output_type": "stream",
          "text": [
            "+--------------+---------------+---------------+---------------+\n",
            "| Categorías   | Categoría A   | Categoría B   | Categoría C   |\n",
            "+==============+===============+===============+===============+\n",
            "| Categoría A  | 2 Millones    | 1.3 Millones  | 1 Millón      |\n",
            "+--------------+---------------+---------------+---------------+\n",
            "| Categoría B  |               | 0.9 Millones  | 0.75 Millones |\n",
            "+--------------+---------------+---------------+---------------+\n",
            "| Categoría C  |               |               | 0.47 Millones |\n",
            "+--------------+---------------+---------------+---------------+\n"
          ],
          "name": "stdout"
        }
      ]
    },
    {
      "cell_type": "markdown",
      "metadata": {
        "id": "ZhHDLZt6PW0P",
        "colab_type": "text"
      },
      "source": [
        "Si el horario del partido no se realiza a las 20 horas del sábado se sabe que se reducen según los coeficientes de la siguiente tabla:"
      ]
    },
    {
      "cell_type": "code",
      "metadata": {
        "id": "km_vGqYyJPIt",
        "colab_type": "code",
        "colab": {
          "base_uri": "https://localhost:8080/",
          "height": 204
        },
        "outputId": "f27a4834-b7a6-43ab-d574-13c6d16b5ef1"
      },
      "source": [
        "coef = {'Horas': ['12h', \n",
        "                  '16h', \n",
        "                  '18h',\n",
        "                  '20h'],\n",
        "             'Viernes': ['',\n",
        "                         '',\n",
        "                         '',\n",
        "                         0.4],\n",
        "             'Sábado': [0.55,\n",
        "                         0.7,\n",
        "                         0.8,\n",
        "                         1],\n",
        "             'Domingo': [0.45,\n",
        "                         0.75,\n",
        "                         0.5,\n",
        "                         1],\n",
        "             'Lunes': ['',\n",
        "                         '',\n",
        "                         '',\n",
        "                         0.4]}\n",
        "\n",
        "print(tabulate(coef, headers=['Horas','Viernes','Sábado', 'Domingo','Lunes'], tablefmt='grid'))\n"
      ],
      "execution_count": 6,
      "outputs": [
        {
          "output_type": "stream",
          "text": [
            "+---------+-----------+----------+-----------+---------+\n",
            "| Horas   | Viernes   |   Sábado |   Domingo | Lunes   |\n",
            "+=========+===========+==========+===========+=========+\n",
            "| 12h     |           |     0.55 |      0.45 |         |\n",
            "+---------+-----------+----------+-----------+---------+\n",
            "| 16h     |           |     0.7  |      0.75 |         |\n",
            "+---------+-----------+----------+-----------+---------+\n",
            "| 18h     |           |     0.8  |      0.5  |         |\n",
            "+---------+-----------+----------+-----------+---------+\n",
            "| 20h     | 0.4       |     1    |      1    | 0.4     |\n",
            "+---------+-----------+----------+-----------+---------+\n"
          ],
          "name": "stdout"
        }
      ]
    },
    {
      "cell_type": "markdown",
      "metadata": {
        "id": "msX7JTvJUGWq",
        "colab_type": "text"
      },
      "source": [
        "Debemos asignar obligatoriamente siempre un partido el viernes y un partido el lunes.\n",
        "\n",
        "Es posible la coincidencia de horarios pero en este caso la audiencia de cada partido se verá afectada y se estima que se reduce en porcentaje según la siguiente tabla dependiendo del número de coincidencias:"
      ]
    },
    {
      "cell_type": "code",
      "metadata": {
        "id": "jpDIC_2JJPQR",
        "colab_type": "code",
        "colab": {
          "base_uri": "https://localhost:8080/",
          "height": 374
        },
        "outputId": "a65a7085-81aa-4f26-be6b-96d01740050a"
      },
      "source": [
        "coinc = {'Coincidencias': [0, \n",
        "                          1,\n",
        "                          2,\n",
        "                          3,\n",
        "                          4,\n",
        "                          5,\n",
        "                          6,\n",
        "                          7,\n",
        "                          8],\n",
        "         '%': [0, \n",
        "                          25,\n",
        "                          45,\n",
        "                          60,\n",
        "                          70,\n",
        "                          75,\n",
        "                          78,\n",
        "                          80,\n",
        "                          80],\n",
        "             }\n",
        "\n",
        "print(tabulate(coinc, headers=['Coincidencias','%'], tablefmt='grid'))\n"
      ],
      "execution_count": 7,
      "outputs": [
        {
          "output_type": "stream",
          "text": [
            "+-----------------+-----+\n",
            "|   Coincidencias |   % |\n",
            "+=================+=====+\n",
            "|               0 |   0 |\n",
            "+-----------------+-----+\n",
            "|               1 |  25 |\n",
            "+-----------------+-----+\n",
            "|               2 |  45 |\n",
            "+-----------------+-----+\n",
            "|               3 |  60 |\n",
            "+-----------------+-----+\n",
            "|               4 |  70 |\n",
            "+-----------------+-----+\n",
            "|               5 |  75 |\n",
            "+-----------------+-----+\n",
            "|               6 |  78 |\n",
            "+-----------------+-----+\n",
            "|               7 |  80 |\n",
            "+-----------------+-----+\n",
            "|               8 |  80 |\n",
            "+-----------------+-----+\n"
          ],
          "name": "stdout"
        }
      ]
    },
    {
      "cell_type": "code",
      "metadata": {
        "id": "Xjq5w2egJPGV",
        "colab_type": "code",
        "colab": {}
      },
      "source": [
        ""
      ],
      "execution_count": 0,
      "outputs": []
    },
    {
      "cell_type": "markdown",
      "metadata": {
        "id": "3_-exlrTgLd-",
        "colab_type": "text"
      },
      "source": [
        "## (*)¿Cuantas posibilidades hay sin tener en cuenta las restricciones?<br>\n",
        "\n",
        "\n",
        "\n",
        "## ¿Cuantas posibilidades hay teniendo en cuenta todas las restricciones.\n",
        "\n",
        "\n"
      ]
    },
    {
      "cell_type": "markdown",
      "metadata": {
        "id": "WfCUqJyKhPcw",
        "colab_type": "text"
      },
      "source": [
        "Respuesta"
      ]
    },
    {
      "cell_type": "markdown",
      "metadata": {
        "id": "zI3knGKJb0rU",
        "colab_type": "text"
      },
      "source": [
        "En primer lugar, vamos a analizar aquello que se nos solicita en el ejercicio. \n",
        "\n",
        "Tenemos 20 equipos de fútbol que generan 10 partidos en cada jornada de la Liga. Se nos solicita organizar las jornadas en un horario de manera que se **maximice la audiencia**. \n",
        "\n",
        "Se nos imporne que se juegue un partido el viernes y otro el Lunes. Además, se penaliza la coinciencia de partidos en el mismo horario.\n",
        "\n",
        "Para estimar la audiencia, se categorizan nuestros equipos en tres categorías A,B y C. En función de la combinación de dichas categorías y el horario en el que se produzca el partido, se obtiene un índice de audiencia.\n",
        "\n",
        "\n",
        "En segundo lugar, se nos cuestiona cuántas posibilidades existen sin tener en cuenta las restricciones y cuántas existen teniendo en cuenta las restricciones.\n",
        "\n",
        "* Sin tener en cuenta las restricciones:\n",
        "\n",
        "Nos encontramos ante una permutación de 10 elementos en los cuales no importa el orden, ni existen repeticiones. Por lo tanto, las posibilidades son 10!.\n",
        "\n",
        "* Si tenemos en cuenta las restricciones:\n",
        "\n",
        "En este caso, tenemos en cuenta la existencia de 20 equipos, donde cada equipo juega contra todos los demás a doble vuelta, por lo que el orden es importante. La solución radica en calcular las variaciones sin repetición de 20 elementos tomados de 2 en 2.\n",
        "\n",
        "V20,2 = 20*19=380\n",
        "\n",
        "\n",
        "\n"
      ]
    },
    {
      "cell_type": "code",
      "metadata": {
        "id": "iq6Fe32MgpDX",
        "colab_type": "code",
        "colab": {}
      },
      "source": [
        ""
      ],
      "execution_count": 0,
      "outputs": []
    },
    {
      "cell_type": "markdown",
      "metadata": {
        "id": "dzynfVJahHoY",
        "colab_type": "text"
      },
      "source": [
        "Modelo para el espacio de soluciones<br>\n",
        "(*) ¿Cual es la estructura de datos que mejor se adapta al problema? Argumentalo.(Es posible que hayas elegido una al principio y veas la necesidad de cambiar, arguméntalo)\n"
      ]
    },
    {
      "cell_type": "markdown",
      "metadata": {
        "id": "xFIJrOwKi2Ti",
        "colab_type": "text"
      },
      "source": [
        "Respuesta"
      ]
    },
    {
      "cell_type": "markdown",
      "metadata": {
        "id": "gTSXKyUbkgrn",
        "colab_type": "text"
      },
      "source": [
        "Algunas de las principales estructuras de datos contenidas en Python son:\n",
        "\n",
        "*   Listas\n",
        "*   Tuplas\n",
        "*   Conjuntos\n",
        "*   Diccionarios\n",
        "\n",
        "Parece lógico pensar, que la mayoría de nuestros datos estarán contenidos tanto en listas como en diccionarios. De hecho, en la primera de las cuestiones donde detallamos el enunciado del problema, ya hemos hecho uso de diccionarios para la creación de las tablas.\n",
        "\n",
        "Pero de pronto aparece una famosa librería en Python que revoluciona las estructuras de datos con una potencia descomunal, hablamos de **Pandas** y sus **DataFrames**. Pandas es una librería de Python que proporciona estructuras de datos rápidas, flexibles y expresivas. Su objetivo es ser el pilar fundamental de alto nivel para realizar análisis de los datos “relacionales” o “etiquetados” de una manera intuitiva. \n",
        "\n",
        "Por estos motivos, nuestra primera opción será afrontar el problema empleando **DataFrames**.\n",
        "\n",
        "\n",
        "\n"
      ]
    },
    {
      "cell_type": "code",
      "metadata": {
        "id": "38c-7-ejhJmA",
        "colab_type": "code",
        "colab": {}
      },
      "source": [
        ""
      ],
      "execution_count": 0,
      "outputs": []
    },
    {
      "cell_type": "markdown",
      "metadata": {
        "id": "7Z9U2W7bi-XS",
        "colab_type": "text"
      },
      "source": [
        "## Según el modelo para el espacio de soluciones<br>\n",
        "(*)¿Cual es la función objetivo?\n",
        "\n",
        "(*)¿Es un problema de maximización o minimización?"
      ]
    },
    {
      "cell_type": "markdown",
      "metadata": {
        "id": "hBalWLM7j1_d",
        "colab_type": "text"
      },
      "source": [
        "Respuesta"
      ]
    },
    {
      "cell_type": "markdown",
      "metadata": {
        "id": "sH6EZvIsp5xT",
        "colab_type": "text"
      },
      "source": [
        "* Función Objetivo\n",
        "\n",
        "Si denotamos como (a1,...,a10) las audiencias de cada partido y como (c1,...,c10) los coeficientes de reducción de las audiencias, podemos definir nuestra función objetivo como:\n",
        "\n",
        "f(a1, ..., an) = c1·a1 + ... + cn·an = sumatorio (ai*ci) donde i = 1,..,10\n",
        "\n",
        "* Maximización o minimización:\n",
        "\n",
        "Se trata de un problema de maximización. Queremos maximizar la audiencia para cada una de las jornadas.\n",
        "\n"
      ]
    },
    {
      "cell_type": "code",
      "metadata": {
        "id": "pDA-rg3Gj5Lz",
        "colab_type": "code",
        "colab": {}
      },
      "source": [
        ""
      ],
      "execution_count": 0,
      "outputs": []
    },
    {
      "cell_type": "markdown",
      "metadata": {
        "id": "rlnTYgY1j6I2",
        "colab_type": "text"
      },
      "source": [
        "## Diseña un algoritmo para resolver el problema por fuerza bruta"
      ]
    },
    {
      "cell_type": "markdown",
      "metadata": {
        "id": "70rDgxYXkC8r",
        "colab_type": "text"
      },
      "source": [
        "Respuesta"
      ]
    },
    {
      "cell_type": "markdown",
      "metadata": {
        "id": "mqqI_mKNr59W",
        "colab_type": "text"
      },
      "source": [
        "De forma previa al planteamiento del algoritmos, vamos a realizar el preprocesado de los datos. Dicha fase, consistirá en la creación de nuestras fuentes de datos, su estructura y la limpieza de los mismos."
      ]
    },
    {
      "cell_type": "markdown",
      "metadata": {
        "id": "gykSfamiru9y",
        "colab_type": "text"
      },
      "source": [
        "### Preprocesado de datos\n",
        "#### Estructura de datos"
      ]
    },
    {
      "cell_type": "markdown",
      "metadata": {
        "id": "t__fDVR9Py7I",
        "colab_type": "text"
      },
      "source": [
        "* Equipos de la Liga y categoría"
      ]
    },
    {
      "cell_type": "code",
      "metadata": {
        "id": "CJb5sQ0qkENy",
        "colab_type": "code",
        "colab": {}
      },
      "source": [
        "# Creamos el DataFrame que contenga los equipos de la Liga y su categoría.\n",
        "# Para ello creamos primero un diccionario y luego lo convertimos en un DataFrame\n",
        "\n",
        "# Utilizaremos la clasificación de la temporada 2018-2019\n",
        "\n",
        "equip = {'Equipo': ['Barcelona',\n",
        "                     'Atlético_Madrid',\n",
        "                     'Real_Madrid',\n",
        "                     'Valencia',\n",
        "                     'Getafe',\n",
        "                     'Sevilla',\n",
        "                     'RCD_Espanyol',\n",
        "                     'Ath_Bilbao',\n",
        "                     'Real_Sociedad',\n",
        "                     'Betis',\n",
        "                     'Alavés',\n",
        "                     'Eibar',\n",
        "                     'Leganés',\n",
        "                     'Villarreal',\n",
        "                     'Levante',\n",
        "                     'Valladolid',\n",
        "                     'Celta_Vigo',\n",
        "                     'Girona',\n",
        "                     'SD_Huelva',\n",
        "                     'Rayo_Vallecano'],\n",
        "          'Categoría': ['A',\n",
        "                       'A',\n",
        "                       'A',\n",
        "                       'A',\n",
        "                       'B',\n",
        "                       'B',\n",
        "                       'B',\n",
        "                       'B',\n",
        "                       'B',\n",
        "                       'B',\n",
        "                       'B',\n",
        "                       'B',\n",
        "                       'B',\n",
        "                       'B',\n",
        "                       'C',\n",
        "                       'C',\n",
        "                       'C',\n",
        "                       'C',\n",
        "                       'C',\n",
        "                       'C'],\n",
        "        'Categoria_numerica': [1,\n",
        "                              1,\n",
        "                              1,\n",
        "                              1,\n",
        "                              2,\n",
        "                              2,\n",
        "                              2,\n",
        "                              2,\n",
        "                              2,\n",
        "                              2,\n",
        "                              2,\n",
        "                              2,\n",
        "                              2,\n",
        "                              2,\n",
        "                              3,\n",
        "                              3,\n",
        "                              3,\n",
        "                              3,\n",
        "                              3,\n",
        "                              3]}\n",
        "\n",
        "import pandas as pd\n",
        "\n",
        "equipos = pd.DataFrame(data=equip)\n",
        "\n",
        "\n"
      ],
      "execution_count": 0,
      "outputs": []
    },
    {
      "cell_type": "code",
      "metadata": {
        "id": "k6oopbcWSyWt",
        "colab_type": "code",
        "colab": {
          "base_uri": "https://localhost:8080/",
          "height": 669
        },
        "outputId": "b1d18212-0aae-47e2-d8a9-623063178da2"
      },
      "source": [
        "# Comprobamos que se han cargado de forma correcta nuestros equipos\n",
        "equipos"
      ],
      "execution_count": 27,
      "outputs": [
        {
          "output_type": "execute_result",
          "data": {
            "text/html": [
              "<div>\n",
              "<style scoped>\n",
              "    .dataframe tbody tr th:only-of-type {\n",
              "        vertical-align: middle;\n",
              "    }\n",
              "\n",
              "    .dataframe tbody tr th {\n",
              "        vertical-align: top;\n",
              "    }\n",
              "\n",
              "    .dataframe thead th {\n",
              "        text-align: right;\n",
              "    }\n",
              "</style>\n",
              "<table border=\"1\" class=\"dataframe\">\n",
              "  <thead>\n",
              "    <tr style=\"text-align: right;\">\n",
              "      <th></th>\n",
              "      <th>Equipo</th>\n",
              "      <th>Categoría</th>\n",
              "      <th>Categoria_numerica</th>\n",
              "    </tr>\n",
              "  </thead>\n",
              "  <tbody>\n",
              "    <tr>\n",
              "      <th>0</th>\n",
              "      <td>Barcelona</td>\n",
              "      <td>A</td>\n",
              "      <td>1</td>\n",
              "    </tr>\n",
              "    <tr>\n",
              "      <th>1</th>\n",
              "      <td>Atlético_Madrid</td>\n",
              "      <td>A</td>\n",
              "      <td>1</td>\n",
              "    </tr>\n",
              "    <tr>\n",
              "      <th>2</th>\n",
              "      <td>Real_Madrid</td>\n",
              "      <td>A</td>\n",
              "      <td>1</td>\n",
              "    </tr>\n",
              "    <tr>\n",
              "      <th>3</th>\n",
              "      <td>Valencia</td>\n",
              "      <td>A</td>\n",
              "      <td>1</td>\n",
              "    </tr>\n",
              "    <tr>\n",
              "      <th>4</th>\n",
              "      <td>Getafe</td>\n",
              "      <td>B</td>\n",
              "      <td>2</td>\n",
              "    </tr>\n",
              "    <tr>\n",
              "      <th>5</th>\n",
              "      <td>Sevilla</td>\n",
              "      <td>B</td>\n",
              "      <td>2</td>\n",
              "    </tr>\n",
              "    <tr>\n",
              "      <th>6</th>\n",
              "      <td>RCD_Espanyol</td>\n",
              "      <td>B</td>\n",
              "      <td>2</td>\n",
              "    </tr>\n",
              "    <tr>\n",
              "      <th>7</th>\n",
              "      <td>Ath_Bilbao</td>\n",
              "      <td>B</td>\n",
              "      <td>2</td>\n",
              "    </tr>\n",
              "    <tr>\n",
              "      <th>8</th>\n",
              "      <td>Real_Sociedad</td>\n",
              "      <td>B</td>\n",
              "      <td>2</td>\n",
              "    </tr>\n",
              "    <tr>\n",
              "      <th>9</th>\n",
              "      <td>Betis</td>\n",
              "      <td>B</td>\n",
              "      <td>2</td>\n",
              "    </tr>\n",
              "    <tr>\n",
              "      <th>10</th>\n",
              "      <td>Alavés</td>\n",
              "      <td>B</td>\n",
              "      <td>2</td>\n",
              "    </tr>\n",
              "    <tr>\n",
              "      <th>11</th>\n",
              "      <td>Eibar</td>\n",
              "      <td>B</td>\n",
              "      <td>2</td>\n",
              "    </tr>\n",
              "    <tr>\n",
              "      <th>12</th>\n",
              "      <td>Leganés</td>\n",
              "      <td>B</td>\n",
              "      <td>2</td>\n",
              "    </tr>\n",
              "    <tr>\n",
              "      <th>13</th>\n",
              "      <td>Villarreal</td>\n",
              "      <td>B</td>\n",
              "      <td>2</td>\n",
              "    </tr>\n",
              "    <tr>\n",
              "      <th>14</th>\n",
              "      <td>Levante</td>\n",
              "      <td>C</td>\n",
              "      <td>3</td>\n",
              "    </tr>\n",
              "    <tr>\n",
              "      <th>15</th>\n",
              "      <td>Valladolid</td>\n",
              "      <td>C</td>\n",
              "      <td>3</td>\n",
              "    </tr>\n",
              "    <tr>\n",
              "      <th>16</th>\n",
              "      <td>Celta_Vigo</td>\n",
              "      <td>C</td>\n",
              "      <td>3</td>\n",
              "    </tr>\n",
              "    <tr>\n",
              "      <th>17</th>\n",
              "      <td>Girona</td>\n",
              "      <td>C</td>\n",
              "      <td>3</td>\n",
              "    </tr>\n",
              "    <tr>\n",
              "      <th>18</th>\n",
              "      <td>SD_Huelva</td>\n",
              "      <td>C</td>\n",
              "      <td>3</td>\n",
              "    </tr>\n",
              "    <tr>\n",
              "      <th>19</th>\n",
              "      <td>Rayo_Vallecano</td>\n",
              "      <td>C</td>\n",
              "      <td>3</td>\n",
              "    </tr>\n",
              "  </tbody>\n",
              "</table>\n",
              "</div>"
            ],
            "text/plain": [
              "             Equipo Categoría  Categoria_numerica\n",
              "0         Barcelona         A                   1\n",
              "1   Atlético_Madrid         A                   1\n",
              "2       Real_Madrid         A                   1\n",
              "3          Valencia         A                   1\n",
              "4            Getafe         B                   2\n",
              "5           Sevilla         B                   2\n",
              "6      RCD_Espanyol         B                   2\n",
              "7        Ath_Bilbao         B                   2\n",
              "8     Real_Sociedad         B                   2\n",
              "9             Betis         B                   2\n",
              "10           Alavés         B                   2\n",
              "11            Eibar         B                   2\n",
              "12          Leganés         B                   2\n",
              "13       Villarreal         B                   2\n",
              "14          Levante         C                   3\n",
              "15       Valladolid         C                   3\n",
              "16       Celta_Vigo         C                   3\n",
              "17           Girona         C                   3\n",
              "18        SD_Huelva         C                   3\n",
              "19   Rayo_Vallecano         C                   3"
            ]
          },
          "metadata": {
            "tags": []
          },
          "execution_count": 27
        }
      ]
    },
    {
      "cell_type": "markdown",
      "metadata": {
        "id": "pKDfj3tqTGst",
        "colab_type": "text"
      },
      "source": [
        "* Horarios y coeficiente de reducción"
      ]
    },
    {
      "cell_type": "code",
      "metadata": {
        "id": "01REiO9CSycI",
        "colab_type": "code",
        "colab": {}
      },
      "source": [
        "# Creamos el DataFrame que contenga los horarios y los correspondientes coeficientes de reducción\n",
        "# Para ello creamos primero un diccionario y luego lo convertimos en un DataFrame\n",
        "\n",
        "\n",
        "horario = {'Horario': ['Viernes_20:00h',\n",
        "                     'Sábado_12:00h',\n",
        "                     'Sábado_16:00h',\n",
        "                     'Sábado_18:00h',\n",
        "                     'Sábado_20:00h',\n",
        "                     'Domingo_12:00h',\n",
        "                     'Domingo_16:00h',\n",
        "                     'Domingo_18:00h',\n",
        "                     'Domingo_20:00h',\n",
        "                     'Lunes_20:00h'],\n",
        "          'Coef': [0.4,\n",
        "                   0.55,\n",
        "                   0.7,\n",
        "                   0.8,\n",
        "                   1,\n",
        "                   0.45,\n",
        "                   0.75,\n",
        "                   0.5,\n",
        "                   1,\n",
        "                   0.4]}\n",
        "\n",
        "\n",
        "\n",
        "horarios = pd.DataFrame(data=horario)\n",
        "\n"
      ],
      "execution_count": 0,
      "outputs": []
    },
    {
      "cell_type": "code",
      "metadata": {
        "id": "8LLwIy2JSyeg",
        "colab_type": "code",
        "colab": {
          "base_uri": "https://localhost:8080/",
          "height": 204
        },
        "outputId": "ad4bfe18-16a4-4815-c4f9-b7be32ebeeeb"
      },
      "source": [
        "horarios.head()"
      ],
      "execution_count": 9,
      "outputs": [
        {
          "output_type": "execute_result",
          "data": {
            "text/html": [
              "<div>\n",
              "<style scoped>\n",
              "    .dataframe tbody tr th:only-of-type {\n",
              "        vertical-align: middle;\n",
              "    }\n",
              "\n",
              "    .dataframe tbody tr th {\n",
              "        vertical-align: top;\n",
              "    }\n",
              "\n",
              "    .dataframe thead th {\n",
              "        text-align: right;\n",
              "    }\n",
              "</style>\n",
              "<table border=\"1\" class=\"dataframe\">\n",
              "  <thead>\n",
              "    <tr style=\"text-align: right;\">\n",
              "      <th></th>\n",
              "      <th>Horario</th>\n",
              "      <th>Coef</th>\n",
              "    </tr>\n",
              "  </thead>\n",
              "  <tbody>\n",
              "    <tr>\n",
              "      <th>0</th>\n",
              "      <td>Viernes_20:00h</td>\n",
              "      <td>0.40</td>\n",
              "    </tr>\n",
              "    <tr>\n",
              "      <th>1</th>\n",
              "      <td>Sábado_12:00h</td>\n",
              "      <td>0.55</td>\n",
              "    </tr>\n",
              "    <tr>\n",
              "      <th>2</th>\n",
              "      <td>Sábado_16:00h</td>\n",
              "      <td>0.70</td>\n",
              "    </tr>\n",
              "    <tr>\n",
              "      <th>3</th>\n",
              "      <td>Sábado_18:00h</td>\n",
              "      <td>0.80</td>\n",
              "    </tr>\n",
              "    <tr>\n",
              "      <th>4</th>\n",
              "      <td>Sábado_20:00h</td>\n",
              "      <td>1.00</td>\n",
              "    </tr>\n",
              "  </tbody>\n",
              "</table>\n",
              "</div>"
            ],
            "text/plain": [
              "          Horario  Coef\n",
              "0  Viernes_20:00h  0.40\n",
              "1   Sábado_12:00h  0.55\n",
              "2   Sábado_16:00h  0.70\n",
              "3   Sábado_18:00h  0.80\n",
              "4   Sábado_20:00h  1.00"
            ]
          },
          "metadata": {
            "tags": []
          },
          "execution_count": 9
        }
      ]
    },
    {
      "cell_type": "markdown",
      "metadata": {
        "id": "CE1y94hMrRHy",
        "colab_type": "text"
      },
      "source": [
        "* Audiencia"
      ]
    },
    {
      "cell_type": "code",
      "metadata": {
        "id": "NI-oiDEiSyg8",
        "colab_type": "code",
        "colab": {}
      },
      "source": [
        "# Creamos el DataFrame que contenga las audiencias atendiendo a la categoría de los equipos que se enfrentan\n",
        "\n",
        "\n",
        "aud = {'Encuentro': ['A_vs_A',\n",
        "                     'A_vs_B',\n",
        "                     'A_vs_C',\n",
        "                     'B_vs_B',\n",
        "                     'B_vs_C',\n",
        "                     'C_vs_C'],\n",
        "       'Audiencia': [2000000,\n",
        "                    1300000,\n",
        "                    1000000,\n",
        "                    900000,\n",
        "                    750000,\n",
        "                    470000]}\n",
        "\n",
        "\n",
        "\n",
        "audiencia = pd.DataFrame(data=aud)\n",
        "\n"
      ],
      "execution_count": 0,
      "outputs": []
    },
    {
      "cell_type": "code",
      "metadata": {
        "id": "tntFhvleSyl9",
        "colab_type": "code",
        "colab": {
          "base_uri": "https://localhost:8080/",
          "height": 235
        },
        "outputId": "c4db16ce-e283-46e9-b154-ce27edcca113"
      },
      "source": [
        "audiencia"
      ],
      "execution_count": 12,
      "outputs": [
        {
          "output_type": "execute_result",
          "data": {
            "text/html": [
              "<div>\n",
              "<style scoped>\n",
              "    .dataframe tbody tr th:only-of-type {\n",
              "        vertical-align: middle;\n",
              "    }\n",
              "\n",
              "    .dataframe tbody tr th {\n",
              "        vertical-align: top;\n",
              "    }\n",
              "\n",
              "    .dataframe thead th {\n",
              "        text-align: right;\n",
              "    }\n",
              "</style>\n",
              "<table border=\"1\" class=\"dataframe\">\n",
              "  <thead>\n",
              "    <tr style=\"text-align: right;\">\n",
              "      <th></th>\n",
              "      <th>Encuentro</th>\n",
              "      <th>Audiencia</th>\n",
              "    </tr>\n",
              "  </thead>\n",
              "  <tbody>\n",
              "    <tr>\n",
              "      <th>0</th>\n",
              "      <td>A_vs_A</td>\n",
              "      <td>2000000</td>\n",
              "    </tr>\n",
              "    <tr>\n",
              "      <th>1</th>\n",
              "      <td>A_vs_B</td>\n",
              "      <td>1300000</td>\n",
              "    </tr>\n",
              "    <tr>\n",
              "      <th>2</th>\n",
              "      <td>A_vs_C</td>\n",
              "      <td>1000000</td>\n",
              "    </tr>\n",
              "    <tr>\n",
              "      <th>3</th>\n",
              "      <td>B_vs_B</td>\n",
              "      <td>900000</td>\n",
              "    </tr>\n",
              "    <tr>\n",
              "      <th>4</th>\n",
              "      <td>B_vs_C</td>\n",
              "      <td>750000</td>\n",
              "    </tr>\n",
              "    <tr>\n",
              "      <th>5</th>\n",
              "      <td>C_vs_C</td>\n",
              "      <td>470000</td>\n",
              "    </tr>\n",
              "  </tbody>\n",
              "</table>\n",
              "</div>"
            ],
            "text/plain": [
              "  Encuentro  Audiencia\n",
              "0    A_vs_A    2000000\n",
              "1    A_vs_B    1300000\n",
              "2    A_vs_C    1000000\n",
              "3    B_vs_B     900000\n",
              "4    B_vs_C     750000\n",
              "5    C_vs_C     470000"
            ]
          },
          "metadata": {
            "tags": []
          },
          "execution_count": 12
        }
      ]
    },
    {
      "cell_type": "markdown",
      "metadata": {
        "id": "N5zRvzaTwMke",
        "colab_type": "text"
      },
      "source": [
        "* Coeficientes por coincidencia de horario"
      ]
    },
    {
      "cell_type": "code",
      "metadata": {
        "id": "h2dHZC_cvTqh",
        "colab_type": "code",
        "colab": {}
      },
      "source": [
        "# Creamos el DataFrame que contenga los coeficientes atendiendo a la categoría de los equipos que se enfrentan\n",
        "\n",
        "coinc = {'Coincidencias': [0, \n",
        "                          1,\n",
        "                          2,\n",
        "                          3,\n",
        "                          4,\n",
        "                          5,\n",
        "                          6,\n",
        "                          7,\n",
        "                          8],\n",
        "         '%': [0, \n",
        "               25,\n",
        "               45,\n",
        "               60,\n",
        "               70,\n",
        "               75,\n",
        "               78,\n",
        "               80,\n",
        "               80]}\n",
        "\n",
        "\n",
        "coef_coinc = pd.DataFrame(data=coinc)\n"
      ],
      "execution_count": 0,
      "outputs": []
    },
    {
      "cell_type": "code",
      "metadata": {
        "id": "dFu11C0yvTtA",
        "colab_type": "code",
        "colab": {
          "base_uri": "https://localhost:8080/",
          "height": 204
        },
        "outputId": "731f53e3-a462-45cb-a9ad-0f6503b293b3"
      },
      "source": [
        "coef_coinc.head()"
      ],
      "execution_count": 14,
      "outputs": [
        {
          "output_type": "execute_result",
          "data": {
            "text/html": [
              "<div>\n",
              "<style scoped>\n",
              "    .dataframe tbody tr th:only-of-type {\n",
              "        vertical-align: middle;\n",
              "    }\n",
              "\n",
              "    .dataframe tbody tr th {\n",
              "        vertical-align: top;\n",
              "    }\n",
              "\n",
              "    .dataframe thead th {\n",
              "        text-align: right;\n",
              "    }\n",
              "</style>\n",
              "<table border=\"1\" class=\"dataframe\">\n",
              "  <thead>\n",
              "    <tr style=\"text-align: right;\">\n",
              "      <th></th>\n",
              "      <th>Coincidencias</th>\n",
              "      <th>%</th>\n",
              "    </tr>\n",
              "  </thead>\n",
              "  <tbody>\n",
              "    <tr>\n",
              "      <th>0</th>\n",
              "      <td>0</td>\n",
              "      <td>0</td>\n",
              "    </tr>\n",
              "    <tr>\n",
              "      <th>1</th>\n",
              "      <td>1</td>\n",
              "      <td>25</td>\n",
              "    </tr>\n",
              "    <tr>\n",
              "      <th>2</th>\n",
              "      <td>2</td>\n",
              "      <td>45</td>\n",
              "    </tr>\n",
              "    <tr>\n",
              "      <th>3</th>\n",
              "      <td>3</td>\n",
              "      <td>60</td>\n",
              "    </tr>\n",
              "    <tr>\n",
              "      <th>4</th>\n",
              "      <td>4</td>\n",
              "      <td>70</td>\n",
              "    </tr>\n",
              "  </tbody>\n",
              "</table>\n",
              "</div>"
            ],
            "text/plain": [
              "   Coincidencias   %\n",
              "0              0   0\n",
              "1              1  25\n",
              "2              2  45\n",
              "3              3  60\n",
              "4              4  70"
            ]
          },
          "metadata": {
            "tags": []
          },
          "execution_count": 14
        }
      ]
    },
    {
      "cell_type": "markdown",
      "metadata": {
        "id": "_bNP9JbpwVR9",
        "colab_type": "text"
      },
      "source": [
        "#### Jornada aleatoria"
      ]
    },
    {
      "cell_type": "markdown",
      "metadata": {
        "id": "IUKTYcjrGLiL",
        "colab_type": "text"
      },
      "source": [
        "Como paso previo a la resolución del problema por el método de fuerza bruta, vamos a crear una función que genere una jornada de forma aleatoria."
      ]
    },
    {
      "cell_type": "code",
      "metadata": {
        "id": "WbAjWATyKVnb",
        "colab_type": "code",
        "colab": {}
      },
      "source": [
        "\n",
        "# En primer lugar permutamos de forma aleatoria los equipos\n",
        "\n",
        "from sklearn.utils import shuffle\n",
        "mezcla = shuffle(equipos) #función shuffle\n",
        "\n",
        "# A continuación creamos la jornada agrupando el dataset mezcla de dos en dos.\n",
        "# Conservaremos la categoría de cada equipo para poder calcular la audiencia.\n",
        "\n",
        "jornada = pd.DataFrame(columns=('Categoria','Partido'))          \n",
        "  \n",
        "for i in range(0,len(mezcla),2):    # recorro mezcla                                     \n",
        "    # Creo la Categoría\n",
        "    C1 = mezcla.iloc(axis=0)[i]['Categoria_numerica']                            \n",
        "    C2 = mezcla.iloc(axis=0)[i+1]['Categoria_numerica']\n",
        "    \n",
        "    #ordeno la categoria, que sea un Celta Madrid o un Madrid Celta, no es lo mismo a nivel de quién juega como local pero,\n",
        "    #para calcular la audiencia, es irrelevante\n",
        "    \n",
        "    # Asignamos a la categoría un valor numérico: A->1, B->2, C->3\n",
        "    \n",
        "    if C1 < C2:\n",
        "      C = mezcla.iloc(axis=0)[i]['Categoría'] +'_'+ mezcla.iloc(axis=0)[i+1]['Categoría'] # Categoria del partido (mismo formato definido anteriormente)\n",
        "      encuentro = mezcla.iloc(axis=0)[i]['Equipo'] + ' vs '+ mezcla.iloc(axis=0)[i+1]['Equipo'] # partido\n",
        "    \n",
        "    else:\n",
        "      C = mezcla.iloc(axis=0)[i+1]['Categoría'] +'_'+ mezcla.iloc(axis=0)[i]['Categoría']\n",
        "      encuentro = mezcla.iloc(axis=0)[i+1]['Equipo'] + ' vs '+ mezcla.iloc(axis=0)[i]['Equipo'] # partido\n",
        "  \n",
        "    # Asignamos fila al DF (enfrentamiento entre dos equipos)\n",
        "    jornada.loc[len(jornada)]=[C,encuentro]"
      ],
      "execution_count": 0,
      "outputs": []
    },
    {
      "cell_type": "code",
      "metadata": {
        "id": "mfKywkfeMAP8",
        "colab_type": "code",
        "colab": {
          "base_uri": "https://localhost:8080/",
          "height": 359
        },
        "outputId": "4fede746-b385-4ba1-94fd-ecae0df7e0d2"
      },
      "source": [
        "jornada"
      ],
      "execution_count": 44,
      "outputs": [
        {
          "output_type": "execute_result",
          "data": {
            "text/html": [
              "<div>\n",
              "<style scoped>\n",
              "    .dataframe tbody tr th:only-of-type {\n",
              "        vertical-align: middle;\n",
              "    }\n",
              "\n",
              "    .dataframe tbody tr th {\n",
              "        vertical-align: top;\n",
              "    }\n",
              "\n",
              "    .dataframe thead th {\n",
              "        text-align: right;\n",
              "    }\n",
              "</style>\n",
              "<table border=\"1\" class=\"dataframe\">\n",
              "  <thead>\n",
              "    <tr style=\"text-align: right;\">\n",
              "      <th></th>\n",
              "      <th>Categoria</th>\n",
              "      <th>Partido</th>\n",
              "    </tr>\n",
              "  </thead>\n",
              "  <tbody>\n",
              "    <tr>\n",
              "      <th>0</th>\n",
              "      <td>B_C</td>\n",
              "      <td>Leganés vs Valladolid</td>\n",
              "    </tr>\n",
              "    <tr>\n",
              "      <th>1</th>\n",
              "      <td>A_C</td>\n",
              "      <td>Barcelona vs Celta_Vigo</td>\n",
              "    </tr>\n",
              "    <tr>\n",
              "      <th>2</th>\n",
              "      <td>A_B</td>\n",
              "      <td>Atlético_Madrid vs Real_Sociedad</td>\n",
              "    </tr>\n",
              "    <tr>\n",
              "      <th>3</th>\n",
              "      <td>B_B</td>\n",
              "      <td>Sevilla vs Alavés</td>\n",
              "    </tr>\n",
              "    <tr>\n",
              "      <th>4</th>\n",
              "      <td>A_B</td>\n",
              "      <td>Real_Madrid vs Getafe</td>\n",
              "    </tr>\n",
              "    <tr>\n",
              "      <th>5</th>\n",
              "      <td>B_C</td>\n",
              "      <td>Betis vs Rayo_Vallecano</td>\n",
              "    </tr>\n",
              "    <tr>\n",
              "      <th>6</th>\n",
              "      <td>B_C</td>\n",
              "      <td>Eibar vs Girona</td>\n",
              "    </tr>\n",
              "    <tr>\n",
              "      <th>7</th>\n",
              "      <td>C_C</td>\n",
              "      <td>SD_Huelva vs Levante</td>\n",
              "    </tr>\n",
              "    <tr>\n",
              "      <th>8</th>\n",
              "      <td>B_B</td>\n",
              "      <td>RCD_Espanyol vs Ath_Bilbao</td>\n",
              "    </tr>\n",
              "    <tr>\n",
              "      <th>9</th>\n",
              "      <td>A_B</td>\n",
              "      <td>Valencia vs Villarreal</td>\n",
              "    </tr>\n",
              "  </tbody>\n",
              "</table>\n",
              "</div>"
            ],
            "text/plain": [
              "  Categoria                           Partido\n",
              "0       B_C             Leganés vs Valladolid\n",
              "1       A_C           Barcelona vs Celta_Vigo\n",
              "2       A_B  Atlético_Madrid vs Real_Sociedad\n",
              "3       B_B                 Sevilla vs Alavés\n",
              "4       A_B             Real_Madrid vs Getafe\n",
              "5       B_C           Betis vs Rayo_Vallecano\n",
              "6       B_C                   Eibar vs Girona\n",
              "7       C_C              SD_Huelva vs Levante\n",
              "8       B_B        RCD_Espanyol vs Ath_Bilbao\n",
              "9       A_B            Valencia vs Villarreal"
            ]
          },
          "metadata": {
            "tags": []
          },
          "execution_count": 44
        }
      ]
    },
    {
      "cell_type": "code",
      "metadata": {
        "id": "Eav9rZXGvTvj",
        "colab_type": "code",
        "colab": {}
      },
      "source": [
        "# Creamos una jornada de forma aleatoria\n",
        "def crear_jornada_aleatoria(equipos_liga):\n",
        "  df = equipos_liga.iloc[np.random.permutation(len(equipos_liga))]#ordenacion aleatoria\n",
        "  return df\n",
        "\n",
        "jornada_aleatoria = crear_jornada_aleatoria(equipos_liga)# Obtener jornada aleatoria\n",
        "\n",
        "# Creacion de un DF con las columnas:\n",
        "#    - Numero generado por el código ASCII de las clases de los equipos  (cat_num)\n",
        "#    - Calase del partido (categoria)\n",
        "#    - Nombre de los equipos que se enfrentan (equipos)\n",
        "\n",
        "# Cada fila contiene los datos de un enfrentamiento\n",
        "\n",
        "def crear_DF_jornada(df_original):\n",
        "  df_jornada = pd.DataFrame(columns=('cat_num','categoria','equipos'))          # 1\n",
        "  \n",
        "  for i in range(0,len(df_original),2):                                         # n/2\n",
        "    # obtener valor de la categoria de cada equipo (A, B o C):\n",
        "    cat_1 = df_original.iloc(axis=0)[i]['categoria']                            \n",
        "    cat_2 = df_original.iloc(axis=0)[i+1]['categoria']\n",
        "  \n",
        "    # Para una correcta orgonizacion de los partidos de mayor a menor audiencia, \n",
        "    # debemos de tener en cuenta que aunque es lo mismo un partidos AC que CA, en\n",
        "    #cuanto audiencia, no es lo mismo en ordenacion del valor.\n",
        "    # AC = 6567 y CA= 6765 nos interesa la cominacion de AC no la de CA. Para que\n",
        "    # sea asi usamos el siguiente condicional\n",
        "    if cat_1 < cat_2:\n",
        "      cp = cat_1 + cat_2 # Categoria del partido\n",
        "      cn = int(str(ord(cat_1)) + str(ord(cat_2)))# Categoria numerica\n",
        "      nom = df_original.iloc(axis=0)[i]['nombre'] + '  - vs -  '+ df_original.iloc(axis=0)[i+1]['nombre']# nombre de equipos\n",
        "    \n",
        "    else:\n",
        "      cp = cat_2 + cat_1 # Categoria del partido\n",
        "      cn = int(str(ord(cat_2)) + str(ord(cat_1)))# Categoria numerica\n",
        "      nom = df_original.iloc(axis=0)[i+1]['nombre'] + '  - vs -  '+ df_original.iloc(axis=0)[i]['nombre']\n",
        "  \n",
        "    # Asignamos fila al DF (enfrentamiento entre dos equipos)\n",
        "    df_jornada.loc[len(df_jornada)]=[cn,cp,nom]\n",
        "    \n",
        "  return df_jornada\n",
        "\n",
        "# obtener un DF con los partidos de forma legible\n",
        "df_jornada = crear_DF_jornada(jornada_aleatoria)"
      ],
      "execution_count": 0,
      "outputs": []
    },
    {
      "cell_type": "code",
      "metadata": {
        "id": "4DH0424pvTyM",
        "colab_type": "code",
        "colab": {}
      },
      "source": [
        ""
      ],
      "execution_count": 0,
      "outputs": []
    },
    {
      "cell_type": "code",
      "metadata": {
        "id": "Wu40nALpvT0Z",
        "colab_type": "code",
        "colab": {}
      },
      "source": [
        ""
      ],
      "execution_count": 0,
      "outputs": []
    },
    {
      "cell_type": "code",
      "metadata": {
        "id": "JI2qeNy9vT2e",
        "colab_type": "code",
        "colab": {}
      },
      "source": [
        ""
      ],
      "execution_count": 0,
      "outputs": []
    },
    {
      "cell_type": "code",
      "metadata": {
        "id": "AQ72Vkl1vT5A",
        "colab_type": "code",
        "colab": {}
      },
      "source": [
        ""
      ],
      "execution_count": 0,
      "outputs": []
    },
    {
      "cell_type": "markdown",
      "metadata": {
        "id": "tgrnsC2nkFa8",
        "colab_type": "text"
      },
      "source": [
        "Calcula la complejidad del algoritmo por fuerza bruta"
      ]
    },
    {
      "cell_type": "markdown",
      "metadata": {
        "id": "9eUd3xwckP68",
        "colab_type": "text"
      },
      "source": [
        "Respuesta"
      ]
    },
    {
      "cell_type": "code",
      "metadata": {
        "id": "rvZWwL-ckRST",
        "colab_type": "code",
        "colab": {}
      },
      "source": [
        ""
      ],
      "execution_count": 0,
      "outputs": []
    },
    {
      "cell_type": "markdown",
      "metadata": {
        "id": "txbrmLmskReM",
        "colab_type": "text"
      },
      "source": [
        "(*)Diseña un algoritmo que mejore la complejidad del algortimo por fuerza bruta. Argumenta porque crees que mejora el algoritmo por fuerza bruta"
      ]
    },
    {
      "cell_type": "markdown",
      "metadata": {
        "id": "hLrVwt5QkZPD",
        "colab_type": "text"
      },
      "source": [
        "Respuesta"
      ]
    },
    {
      "cell_type": "code",
      "metadata": {
        "id": "m1eyM21Vkabg",
        "colab_type": "code",
        "colab": {}
      },
      "source": [
        ""
      ],
      "execution_count": 0,
      "outputs": []
    },
    {
      "cell_type": "markdown",
      "metadata": {
        "id": "eGDB4K6uk1iN",
        "colab_type": "text"
      },
      "source": [
        "(*)Calcula la complejidad del algoritmo "
      ]
    },
    {
      "cell_type": "markdown",
      "metadata": {
        "id": "NhpTh_BPk1ms",
        "colab_type": "text"
      },
      "source": [
        "Respuesta"
      ]
    },
    {
      "cell_type": "code",
      "metadata": {
        "id": "nREzhkStlCq8",
        "colab_type": "code",
        "colab": {}
      },
      "source": [
        ""
      ],
      "execution_count": 0,
      "outputs": []
    },
    {
      "cell_type": "markdown",
      "metadata": {
        "id": "3M6QjTsSkmYe",
        "colab_type": "text"
      },
      "source": [
        "Según el problema (y tenga sentido), diseña un juego de datos de entrada aleatorios"
      ]
    },
    {
      "cell_type": "markdown",
      "metadata": {
        "id": "Jc3_OlyNkvjZ",
        "colab_type": "text"
      },
      "source": [
        "Respuesta"
      ]
    },
    {
      "cell_type": "code",
      "metadata": {
        "id": "sJ-N2etjkyWc",
        "colab_type": "code",
        "colab": {}
      },
      "source": [
        ""
      ],
      "execution_count": 0,
      "outputs": []
    },
    {
      "cell_type": "markdown",
      "metadata": {
        "id": "zy5ZROmjlGo1",
        "colab_type": "text"
      },
      "source": [
        "Aplica el algoritmo al juego de datos generado"
      ]
    },
    {
      "cell_type": "markdown",
      "metadata": {
        "id": "_Cmj-PVylMsa",
        "colab_type": "text"
      },
      "source": [
        "Respuesta"
      ]
    },
    {
      "cell_type": "code",
      "metadata": {
        "id": "Jkx8GeiYlUz1",
        "colab_type": "code",
        "colab": {}
      },
      "source": [
        ""
      ],
      "execution_count": 0,
      "outputs": []
    },
    {
      "cell_type": "markdown",
      "metadata": {
        "colab_type": "text",
        "id": "eTFWUJQrtGcv"
      },
      "source": [
        "Enumera las referencias que has utilizado(si ha sido necesario) para llevar a cabo el trabajo"
      ]
    },
    {
      "cell_type": "markdown",
      "metadata": {
        "id": "YKQ_mRBttWsP",
        "colab_type": "text"
      },
      "source": [
        "Respuesta"
      ]
    },
    {
      "cell_type": "markdown",
      "metadata": {
        "id": "kAkDPUyRtYyH",
        "colab_type": "text"
      },
      "source": [
        "Describe brevemente las lineas de como crees que es posible avanzar en el estudio del problema. Ten en cuenta incluso posibles variaciones del problema y/o variaciones al alza del tamaño"
      ]
    },
    {
      "cell_type": "markdown",
      "metadata": {
        "id": "IE0uZmo-tZu-",
        "colab_type": "text"
      },
      "source": [
        "Respuesta"
      ]
    }
  ]
}